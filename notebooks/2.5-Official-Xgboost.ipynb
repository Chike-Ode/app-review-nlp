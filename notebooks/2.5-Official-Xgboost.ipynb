{
 "cells": [
  {
   "cell_type": "code",
   "execution_count": 1,
   "id": "aceb8a03",
   "metadata": {},
   "outputs": [
    {
     "name": "stderr",
     "output_type": "stream",
     "text": [
      "/opt/conda/lib/python3.9/site-packages/xgboost/compat.py:36: FutureWarning: pandas.Int64Index is deprecated and will be removed from pandas in a future version. Use pandas.Index with the appropriate dtype instead.\n",
      "  from pandas import MultiIndex, Int64Index\n",
      "[nltk_data] Downloading package wordnet to /home/jovyan/nltk_data...\n",
      "[nltk_data]   Package wordnet is already up-to-date!\n",
      "[nltk_data] Downloading package omw-1.4 to /home/jovyan/nltk_data...\n",
      "[nltk_data]   Package omw-1.4 is already up-to-date!\n"
     ]
    }
   ],
   "source": [
    "import datasets as ds\n",
    "import pandas as pd\n",
    "from sklearn.model_selection import train_test_split\n",
    "from sklearn.feature_extraction.text import TfidfVectorizer\n",
    "from sklearn.model_selection import GridSearchCV\n",
    "import os\n",
    "import numpy as np\n",
    "import nltk\n",
    "import xgboost as xgb\n",
    "from sklearn.ensemble import RandomForestRegressor\n",
    "nltk.download('wordnet')\n",
    "nltk.download('omw-1.4')\n",
    "from yellowbrick.model_selection import FeatureImportances\n",
    "import sys\n",
    "module_path = os.path.abspath(os.path.join('..'))\n",
    "if module_path not in sys.path:\n",
    "    sys.path.append(module_path)\n",
    "from src.utils import *\n",
    "import joblib"
   ]
  },
  {
   "cell_type": "code",
   "execution_count": 2,
   "id": "8bff7271",
   "metadata": {},
   "outputs": [
    {
     "data": {
      "text/plain": [
       "'/home/jovyan/projects/vector-nlp/models'"
      ]
     },
     "execution_count": 2,
     "metadata": {},
     "output_type": "execute_result"
    }
   ],
   "source": [
    "CUR_DIR = os.path.abspath(os.curdir)\n",
    "ROOT_DIR = os.path.dirname(CUR_DIR)\n",
    "IMAGES_DIR = os.path.join(ROOT_DIR, \"images\")\n",
    "DATA_DIR = os.path.join(ROOT_DIR, \"data\")\n",
    "MODELS_DIR = os.path.join(ROOT_DIR, \"models\")\n",
    "MODELS_DIR"
   ]
  },
  {
   "cell_type": "code",
   "execution_count": null,
   "id": "2ee974d5-e5d7-47ba-be3c-f23c399e8d1e",
   "metadata": {},
   "outputs": [],
   "source": []
  },
  {
   "cell_type": "code",
   "execution_count": 3,
   "id": "5273dcdc",
   "metadata": {},
   "outputs": [],
   "source": [
    "validation_df = pd.read_csv(os.path.join(DATA_DIR,'raw','validation.csv'))\n",
    "training_df = pd.read_csv(os.path.join(DATA_DIR,'raw','training.csv'))\n",
    "test_df = pd.read_csv(os.path.join(DATA_DIR,'raw','test.csv'))\n"
   ]
  },
  {
   "cell_type": "code",
   "execution_count": 4,
   "id": "6ff5087b",
   "metadata": {},
   "outputs": [],
   "source": [
    "X_train = training_df['review']\n",
    "y_train = training_df['star']\n",
    "\n",
    "X_val = validation_df['review']\n",
    "y_val = validation_df['star']\n",
    "\n",
    "X_test = test_df['review']\n",
    "y_test = test_df['star']\n",
    "\n",
    "\n",
    "vect = TfidfVectorizer(max_df=0.8, min_df=2, stop_words='english')\n",
    "X_train_tfidf = vect.fit_transform(X_train)\n",
    "X_test_tfidf = vect.transform(X_test)\n",
    "X_val_tfidf = vect.transform(X_val)"
   ]
  },
  {
   "cell_type": "code",
   "execution_count": 5,
   "id": "0f933055",
   "metadata": {},
   "outputs": [
    {
     "name": "stdout",
     "output_type": "stream",
     "text": [
      "[22:13:25] WARNING: ../src/learner.cc:576: \n",
      "Parameters: { \"name\" } might not be used.\n",
      "\n",
      "  This could be a false alarm, with some parameters getting used by language bindings but\n",
      "  then being mistakenly passed down to XGBoost core, or some parameter actually being used\n",
      "  but getting flagged wrongly here. Please open an issue if you find any such cases.\n",
      "\n",
      "\n",
      "[0]\tvalidation_0-mae:2.57221\n",
      "[1]\tvalidation_0-mae:2.01110\n",
      "[2]\tvalidation_0-mae:1.63769\n",
      "[3]\tvalidation_0-mae:1.40336\n",
      "[4]\tvalidation_0-mae:1.24360\n",
      "[5]\tvalidation_0-mae:1.14106\n",
      "[6]\tvalidation_0-mae:1.07455\n",
      "[7]\tvalidation_0-mae:1.02892\n",
      "[8]\tvalidation_0-mae:0.99454\n",
      "[9]\tvalidation_0-mae:0.96916\n",
      "[10]\tvalidation_0-mae:0.95113\n",
      "[11]\tvalidation_0-mae:0.93615\n",
      "[12]\tvalidation_0-mae:0.92465\n",
      "[13]\tvalidation_0-mae:0.91542\n",
      "[14]\tvalidation_0-mae:0.90837\n",
      "[15]\tvalidation_0-mae:0.90250\n",
      "[16]\tvalidation_0-mae:0.89774\n",
      "[17]\tvalidation_0-mae:0.89283\n",
      "[18]\tvalidation_0-mae:0.88960\n",
      "[19]\tvalidation_0-mae:0.88550\n",
      "[20]\tvalidation_0-mae:0.88278\n",
      "[21]\tvalidation_0-mae:0.87936\n",
      "[22]\tvalidation_0-mae:0.87691\n",
      "[23]\tvalidation_0-mae:0.87399\n",
      "[24]\tvalidation_0-mae:0.87231\n",
      "[25]\tvalidation_0-mae:0.87038\n",
      "[26]\tvalidation_0-mae:0.86737\n",
      "[27]\tvalidation_0-mae:0.86560\n",
      "[28]\tvalidation_0-mae:0.86357\n",
      "[29]\tvalidation_0-mae:0.86237\n",
      "[30]\tvalidation_0-mae:0.86074\n",
      "[31]\tvalidation_0-mae:0.85914\n",
      "[32]\tvalidation_0-mae:0.85788\n",
      "[33]\tvalidation_0-mae:0.85686\n",
      "[34]\tvalidation_0-mae:0.85583\n",
      "[35]\tvalidation_0-mae:0.85475\n",
      "[36]\tvalidation_0-mae:0.85327\n",
      "[37]\tvalidation_0-mae:0.85240\n",
      "[38]\tvalidation_0-mae:0.85134\n",
      "[39]\tvalidation_0-mae:0.85028\n",
      "[40]\tvalidation_0-mae:0.84952\n",
      "[41]\tvalidation_0-mae:0.84865\n",
      "[42]\tvalidation_0-mae:0.84774\n",
      "[43]\tvalidation_0-mae:0.84715\n",
      "[44]\tvalidation_0-mae:0.84640\n",
      "[45]\tvalidation_0-mae:0.84534\n",
      "[46]\tvalidation_0-mae:0.84439\n",
      "[47]\tvalidation_0-mae:0.84380\n",
      "[48]\tvalidation_0-mae:0.84311\n",
      "[49]\tvalidation_0-mae:0.84247\n",
      "[50]\tvalidation_0-mae:0.84176\n",
      "[51]\tvalidation_0-mae:0.84072\n",
      "[52]\tvalidation_0-mae:0.83978\n",
      "[53]\tvalidation_0-mae:0.83929\n",
      "[54]\tvalidation_0-mae:0.83878\n",
      "[55]\tvalidation_0-mae:0.83825\n",
      "[56]\tvalidation_0-mae:0.83781\n",
      "[57]\tvalidation_0-mae:0.83721\n",
      "[58]\tvalidation_0-mae:0.83664\n",
      "[59]\tvalidation_0-mae:0.83628\n",
      "[60]\tvalidation_0-mae:0.83559\n",
      "[61]\tvalidation_0-mae:0.83517\n",
      "[62]\tvalidation_0-mae:0.83469\n",
      "[63]\tvalidation_0-mae:0.83428\n",
      "[64]\tvalidation_0-mae:0.83377\n",
      "[65]\tvalidation_0-mae:0.83349\n",
      "[66]\tvalidation_0-mae:0.83301\n",
      "[67]\tvalidation_0-mae:0.83246\n",
      "[68]\tvalidation_0-mae:0.83215\n",
      "[69]\tvalidation_0-mae:0.83197\n",
      "[70]\tvalidation_0-mae:0.83163\n",
      "[71]\tvalidation_0-mae:0.83120\n",
      "[72]\tvalidation_0-mae:0.83084\n",
      "[73]\tvalidation_0-mae:0.83032\n",
      "[74]\tvalidation_0-mae:0.83007\n",
      "[75]\tvalidation_0-mae:0.82963\n",
      "[76]\tvalidation_0-mae:0.82929\n",
      "[77]\tvalidation_0-mae:0.82899\n",
      "[78]\tvalidation_0-mae:0.82859\n",
      "[79]\tvalidation_0-mae:0.82826\n",
      "[80]\tvalidation_0-mae:0.82810\n",
      "[81]\tvalidation_0-mae:0.82785\n",
      "[82]\tvalidation_0-mae:0.82751\n",
      "[83]\tvalidation_0-mae:0.82719\n",
      "[84]\tvalidation_0-mae:0.82668\n",
      "[85]\tvalidation_0-mae:0.82645\n",
      "[86]\tvalidation_0-mae:0.82627\n",
      "[87]\tvalidation_0-mae:0.82571\n",
      "[88]\tvalidation_0-mae:0.82549\n",
      "[89]\tvalidation_0-mae:0.82508\n",
      "[90]\tvalidation_0-mae:0.82491\n",
      "[91]\tvalidation_0-mae:0.82465\n",
      "[92]\tvalidation_0-mae:0.82436\n",
      "[93]\tvalidation_0-mae:0.82425\n",
      "[94]\tvalidation_0-mae:0.82414\n",
      "[95]\tvalidation_0-mae:0.82390\n",
      "[96]\tvalidation_0-mae:0.82364\n",
      "[97]\tvalidation_0-mae:0.82346\n",
      "[98]\tvalidation_0-mae:0.82309\n",
      "[99]\tvalidation_0-mae:0.82303\n",
      "[100]\tvalidation_0-mae:0.82294\n",
      "[101]\tvalidation_0-mae:0.82261\n",
      "[102]\tvalidation_0-mae:0.82240\n",
      "[103]\tvalidation_0-mae:0.82217\n",
      "[104]\tvalidation_0-mae:0.82206\n",
      "[105]\tvalidation_0-mae:0.82180\n",
      "[106]\tvalidation_0-mae:0.82163\n",
      "[107]\tvalidation_0-mae:0.82127\n",
      "[108]\tvalidation_0-mae:0.82103\n",
      "[109]\tvalidation_0-mae:0.82092\n",
      "[110]\tvalidation_0-mae:0.82081\n",
      "[111]\tvalidation_0-mae:0.82059\n",
      "[112]\tvalidation_0-mae:0.82051\n",
      "[113]\tvalidation_0-mae:0.82026\n",
      "[114]\tvalidation_0-mae:0.82011\n",
      "[115]\tvalidation_0-mae:0.82008\n",
      "[116]\tvalidation_0-mae:0.82020\n",
      "[117]\tvalidation_0-mae:0.82019\n",
      "[118]\tvalidation_0-mae:0.82012\n",
      "[119]\tvalidation_0-mae:0.81988\n"
     ]
    },
    {
     "data": {
      "text/plain": [
       "XGBRegressor_v2(base_score=0.5, booster='gbtree', colsample_bylevel=1,\n",
       "                colsample_bynode=1, colsample_bytree=1,\n",
       "                enable_categorical=False, gamma=0, gpu_id=-1,\n",
       "                importance_type=None, interaction_constraints='',\n",
       "                learning_rate=0.300000012, max_delta_step=0, max_depth=15,\n",
       "                min_child_weight=1, missing=nan, monotone_constraints='()',\n",
       "                n_estimators=120, n_jobs=8, name='2.5-XGBOOST-Tfidf',\n",
       "                num_parallel_tree=1, objective='reg:squarederror',\n",
       "                predictor='auto', random_state=0, reg_alpha=0, reg_lambda=1,\n",
       "                scale_pos_weight=1, subsample=1, tree_method='exact',\n",
       "                validate_parameters=1, verbosity=None)"
      ]
     },
     "execution_count": 5,
     "metadata": {},
     "output_type": "execute_result"
    }
   ],
   "source": [
    "features = vect.vocabulary_.keys()\n",
    "booster = XGBRegressor_v2(max_depth=15,n_estimators=120,name='2.5-XGBOOST-Tfidf')\n",
    "\n",
    "\n",
    "eval_set = [(X_test_tfidf, y_test)]\n",
    "# booster.fit(X_train,y_train,eval_metric=\"mae\", eval_set=eval_set, verbose=True)\n",
    "booster.fit(X_train_tfidf,y_train,eval_metric=\"mae\", eval_set=eval_set, verbose=True)"
   ]
  },
  {
   "cell_type": "code",
   "execution_count": 6,
   "id": "e0d5f126-1e58-4574-bfc4-2a19412e48f5",
   "metadata": {},
   "outputs": [
    {
     "name": "stdout",
     "output_type": "stream",
     "text": [
      "The prediction values range between 1.0 and 5.0\n",
      "Mean Absolute Error: 0.7632652352767605\n"
     ]
    },
    {
     "data": {
      "image/png": "[encoded data removed]",
      "text/plain": [
       "<Figure size 1080x720 with 5 Axes>"
      ]
     },
     "metadata": {},
     "output_type": "display_data"
    },
    {
     "name": "stderr",
     "output_type": "stream",
     "text": [
      "/home/jovyan/projects/vector-nlp/src/utils.py:86: SettingWithCopyWarning: \n",
      "A value is trying to be set on a copy of a slice from a DataFrame.\n",
      "Try using .loc[row_indexer,col_indexer] = value instead\n",
      "\n",
      "See the caveats in the documentation: https://pandas.pydata.org/pandas-docs/stable/user_guide/indexing.html#returning-a-view-versus-a-copy\n",
      "  eval_df[bin_field_name] = pd.cut(eval_df[field], bins=bins, labels=labels)\n",
      "/opt/conda/lib/python3.9/site-packages/seaborn/_decorators.py:36: FutureWarning: Pass the following variables as keyword args: x, y. From version 0.12, the only valid positional argument will be `data`, and passing other arguments without an explicit keyword will result in an error or misinterpretation.\n",
      "  warnings.warn(\n"
     ]
    },
    {
     "data": {
      "image/png": "[encoded data removed]",
      "text/plain": [
       "<Figure size 1224x648 with 1 Axes>"
      ]
     },
     "metadata": {},
     "output_type": "display_data"
    },
    {
     "name": "stdout",
     "output_type": "stream",
     "text": [
      "Performance appended successfully.\n",
      "              precision    recall  f1-score   support\n",
      "\n",
      "           1       0.79      0.15      0.25      7964\n",
      "           2       0.14      0.22      0.17      2640\n",
      "           3       0.17      0.22      0.19      4548\n",
      "           4       0.15      0.47      0.23      7414\n",
      "           5       0.82      0.55      0.66     35047\n",
      "\n",
      "    accuracy                           0.44     57613\n",
      "   macro avg       0.42      0.32      0.30     57613\n",
      "weighted avg       0.65      0.44      0.49     57613\n",
      "\n",
      "\"I like the top but it took long to deliver\" receives a score of [3.2021677]\n",
      "\"This app is trash\" receives a score of [1.9304361]\n",
      "\"The app is extremely slow, but I still like it\" receives a score of [3.0902226]\n",
      "\"I Do not Love this App\" receives a score of [4.8538284]\n",
      "\"Too many glitches\" receives a score of [3.5634413]\n",
      "\"Worthless app\" receives a score of [2.0411072]\n",
      "\"Do not download this app\" receives a score of [3.2983937]\n",
      "\"Horrible\" receives a score of [1.8626033]\n",
      "\"Could be better but is serviceable\" receives a score of [4.2390594]\n",
      "\"The servers are always down\" receives a score of [4.049569]\n",
      "None\n",
      "Done\n"
     ]
    }
   ],
   "source": [
    "performance_evaluation(X_test, y_test, booster, vect)"
   ]
  },
  {
   "cell_type": "code",
   "execution_count": 7,
   "id": "aae441fa-6704-47b5-921b-060595df8cf2",
   "metadata": {},
   "outputs": [
    {
     "data": {
      "text/html": [
       "<div>\n",
       "<style scoped>\n",
       "    .dataframe tbody tr th:only-of-type {\n",
       "        vertical-align: middle;\n",
       "    }\n",
       "\n",
       "    .dataframe tbody tr th {\n",
       "        vertical-align: top;\n",
       "    }\n",
       "\n",
       "    .dataframe thead th {\n",
       "        text-align: right;\n",
       "    }\n",
       "</style>\n",
       "<table border=\"1\" class=\"dataframe\">\n",
       "  <thead>\n",
       "    <tr style=\"text-align: right;\">\n",
       "      <th></th>\n",
       "      <th>features</th>\n",
       "      <th>importance</th>\n",
       "    </tr>\n",
       "  </thead>\n",
       "  <tbody>\n",
       "    <tr>\n",
       "      <th>20371</th>\n",
       "      <td>scarcity</td>\n",
       "      <td>0.007508</td>\n",
       "    </tr>\n",
       "    <tr>\n",
       "      <th>14047</th>\n",
       "      <td>adw</td>\n",
       "      <td>0.005447</td>\n",
       "    </tr>\n",
       "    <tr>\n",
       "      <th>17097</th>\n",
       "      <td>ashraf</td>\n",
       "      <td>0.005105</td>\n",
       "    </tr>\n",
       "    <tr>\n",
       "      <th>19972</th>\n",
       "      <td>lawyer</td>\n",
       "      <td>0.005050</td>\n",
       "    </tr>\n",
       "    <tr>\n",
       "      <th>8419</th>\n",
       "      <td>alpesh</td>\n",
       "      <td>0.004410</td>\n",
       "    </tr>\n",
       "    <tr>\n",
       "      <th>19179</th>\n",
       "      <td>werk</td>\n",
       "      <td>0.004234</td>\n",
       "    </tr>\n",
       "    <tr>\n",
       "      <th>17655</th>\n",
       "      <td>christopher</td>\n",
       "      <td>0.004132</td>\n",
       "    </tr>\n",
       "    <tr>\n",
       "      <th>18780</th>\n",
       "      <td>obb</td>\n",
       "      <td>0.003910</td>\n",
       "    </tr>\n",
       "    <tr>\n",
       "      <th>20438</th>\n",
       "      <td>okkkkkkk</td>\n",
       "      <td>0.003844</td>\n",
       "    </tr>\n",
       "    <tr>\n",
       "      <th>19396</th>\n",
       "      <td>canceling</td>\n",
       "      <td>0.003838</td>\n",
       "    </tr>\n",
       "    <tr>\n",
       "      <th>19182</th>\n",
       "      <td>sar</td>\n",
       "      <td>0.003587</td>\n",
       "    </tr>\n",
       "    <tr>\n",
       "      <th>17562</th>\n",
       "      <td>etm</td>\n",
       "      <td>0.003491</td>\n",
       "    </tr>\n",
       "    <tr>\n",
       "      <th>8767</th>\n",
       "      <td>robot</td>\n",
       "      <td>0.003186</td>\n",
       "    </tr>\n",
       "    <tr>\n",
       "      <th>19184</th>\n",
       "      <td>robustness</td>\n",
       "      <td>0.003140</td>\n",
       "    </tr>\n",
       "    <tr>\n",
       "      <th>16855</th>\n",
       "      <td>langa</td>\n",
       "      <td>0.002991</td>\n",
       "    </tr>\n",
       "    <tr>\n",
       "      <th>20297</th>\n",
       "      <td>masenger</td>\n",
       "      <td>0.002948</td>\n",
       "    </tr>\n",
       "    <tr>\n",
       "      <th>17745</th>\n",
       "      <td>mina</td>\n",
       "      <td>0.002806</td>\n",
       "    </tr>\n",
       "    <tr>\n",
       "      <th>15706</th>\n",
       "      <td>maxamad</td>\n",
       "      <td>0.002801</td>\n",
       "    </tr>\n",
       "    <tr>\n",
       "      <th>20293</th>\n",
       "      <td>awesomer</td>\n",
       "      <td>0.002690</td>\n",
       "    </tr>\n",
       "    <tr>\n",
       "      <th>7546</th>\n",
       "      <td>customisable</td>\n",
       "      <td>0.002682</td>\n",
       "    </tr>\n",
       "  </tbody>\n",
       "</table>\n",
       "</div>"
      ],
      "text/plain": [
       "           features  importance\n",
       "20371      scarcity    0.007508\n",
       "14047           adw    0.005447\n",
       "17097        ashraf    0.005105\n",
       "19972        lawyer    0.005050\n",
       "8419         alpesh    0.004410\n",
       "19179          werk    0.004234\n",
       "17655   christopher    0.004132\n",
       "18780           obb    0.003910\n",
       "20438      okkkkkkk    0.003844\n",
       "19396     canceling    0.003838\n",
       "19182           sar    0.003587\n",
       "17562           etm    0.003491\n",
       "8767          robot    0.003186\n",
       "19184    robustness    0.003140\n",
       "16855         langa    0.002991\n",
       "20297      masenger    0.002948\n",
       "17745          mina    0.002806\n",
       "15706       maxamad    0.002801\n",
       "20293      awesomer    0.002690\n",
       "7546   customisable    0.002682"
      ]
     },
     "execution_count": 7,
     "metadata": {},
     "output_type": "execute_result"
    }
   ],
   "source": [
    "importances = booster.feature_importances_\n",
    "df = pd.DataFrame({'features':features, 'importance':importances})\n",
    "df.sort_values('importance',ascending = False).head(20)"
   ]
  },
  {
   "cell_type": "code",
   "execution_count": 8,
   "id": "86a8834d",
   "metadata": {},
   "outputs": [
    {
     "data": {
      "text/plain": [
       "['/home/jovyan/projects/vector-nlp/models/2.5-XGBOOST-Tfidf']"
      ]
     },
     "execution_count": 8,
     "metadata": {},
     "output_type": "execute_result"
    }
   ],
   "source": [
    "\n",
    "#save model\n",
    "joblib.dump(booster, os.path.join(MODELS_DIR,booster.name)) \n",
    "# model.save(os.path.join(MODELS_DIR,'2.1-LSTM_TFIDF'))"
   ]
  }
 ],
 "metadata": {
  "kernelspec": {
   "display_name": "Python 3 (ipykernel)",
   "language": "python",
   "name": "python3"
  },
  "language_info": {
   "codemirror_mode": {
    "name": "ipython",
    "version": 3
   },
   "file_extension": ".py",
   "mimetype": "text/x-python",
   "name": "python",
   "nbconvert_exporter": "python",
   "pygments_lexer": "ipython3",
   "version": "3.9.10"
  }
 },
 "nbformat": 4,
 "nbformat_minor": 5
}
