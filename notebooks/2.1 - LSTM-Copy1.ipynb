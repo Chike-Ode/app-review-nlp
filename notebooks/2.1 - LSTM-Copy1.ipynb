{
 "cells": [
  {
   "cell_type": "code",
   "execution_count": 1,
   "id": "aceb8a03",
   "metadata": {},
   "outputs": [
    {
     "name": "stderr",
     "output_type": "stream",
     "text": [
      "[nltk_data] Downloading package wordnet to /home/jovyan/nltk_data...\n",
      "[nltk_data]   Package wordnet is already up-to-date!\n",
      "[nltk_data] Downloading package omw-1.4 to /home/jovyan/nltk_data...\n",
      "[nltk_data]   Package omw-1.4 is already up-to-date!\n"
     ]
    },
    {
     "data": {
      "text/plain": [
       "True"
      ]
     },
     "execution_count": 1,
     "metadata": {},
     "output_type": "execute_result"
    }
   ],
   "source": [
    "import datasets as ds\n",
    "import pandas as pd\n",
    "import tensorflow as tf\n",
    "from tensorflow import keras\n",
    "from tensorflow.keras import layers\n",
    "import tensorflow_hub as hub\n",
    "from nltk.stem import PorterStemmer, WordNetLemmatizer\n",
    "from sklearn.model_selection import train_test_split\n",
    "from sklearn.feature_extraction.text import TfidfVectorizer\n",
    "from tensorflow.keras.layers import Dense, Dropout, LSTM\n",
    "from tensorflow.keras.models import Sequential\n",
    "from tensorflow.keras.utils import plot_model\n",
    "import itertools\n",
    "import os\n",
    "import numpy as np\n",
    "import nltk\n",
    "nltk.download('wordnet')\n",
    "nltk.download('omw-1.4')"
   ]
  },
  {
   "cell_type": "code",
   "execution_count": 2,
   "id": "8bff7271",
   "metadata": {},
   "outputs": [
    {
     "data": {
      "text/plain": [
       "'/home/jovyan/projects/vector-nlp/models'"
      ]
     },
     "execution_count": 2,
     "metadata": {},
     "output_type": "execute_result"
    }
   ],
   "source": [
    "CUR_DIR = os.path.abspath(os.curdir)\n",
    "ROOT_DIR = os.path.dirname(CUR_DIR)\n",
    "IMAGES_DIR = os.path.join(ROOT_DIR, \"images\")\n",
    "DATA_DIR = os.path.join(ROOT_DIR, \"data\")\n",
    "MODELS_DIR = os.path.join(ROOT_DIR, \"models\")\n",
    "MODELS_DIR"
   ]
  },
  {
   "cell_type": "code",
   "execution_count": 3,
   "id": "5273dcdc",
   "metadata": {},
   "outputs": [],
   "source": [
    "#ds.list_datasets()"
   ]
  },
  {
   "cell_type": "code",
   "execution_count": 4,
   "id": "c2a06c15",
   "metadata": {},
   "outputs": [
    {
     "name": "stderr",
     "output_type": "stream",
     "text": [
      "Using custom data configuration default\n",
      "Reusing dataset app_reviews (/home/jovyan/.cache/huggingface/datasets/app_reviews/default/0.0.0/20335b51b604b9bc04b7be253cd8445caa9ba93f15f39a4b0492b9e9102853de)\n"
     ]
    }
   ],
   "source": [
    "app_dataset = ds.load_dataset('app_reviews',split='train')\n",
    "app_df = app_dataset.to_pandas()\n",
    "app_df['review_ls'] = app_df['review'].apply(lambda x: x.split(\" \"))\n",
    "vocabulary = list(itertools.chain(*app_df['review_ls']))"
   ]
  },
  {
   "cell_type": "code",
   "execution_count": 5,
   "id": "6ff5087b",
   "metadata": {},
   "outputs": [],
   "source": [
    "# X = app_df['review_lemma']\n",
    "X = app_df['review']\n",
    "y = app_df['star']\n",
    "X_train, X_test, y_train, y_test = train_test_split(X, y, test_size=0.2, random_state=1)\n",
    "\n",
    "X_train, X_val, y_train, y_val = train_test_split(X_train, y_train, test_size=0.25, random_state=1) # 0.25 x 0.8 = 0.2\n",
    "\n",
    "# vect = TfidfVectorizer(max_df=0.8, min_df=2, stop_words='english')\n",
    "# X_train = vect.fit_transform(X_train)\n",
    "# X_test = vect.transform(X_test)\n",
    "# X_val = vect.transform(X_val)"
   ]
  },
  {
   "cell_type": "code",
   "execution_count": 6,
   "id": "ba26fb49",
   "metadata": {},
   "outputs": [
    {
     "name": "stderr",
     "output_type": "stream",
     "text": [
      "2022-03-07 02:37:35.148737: W tensorflow/stream_executor/platform/default/dso_loader.cc:64] Could not load dynamic library 'libcuda.so.1'; dlerror: libcuda.so.1: cannot open shared object file: No such file or directory\n",
      "2022-03-07 02:37:35.148798: W tensorflow/stream_executor/cuda/cuda_driver.cc:269] failed call to cuInit: UNKNOWN ERROR (303)\n",
      "2022-03-07 02:37:35.148820: I tensorflow/stream_executor/cuda/cuda_diagnostics.cc:156] kernel driver does not appear to be running on this host (42b10f96906e): /proc/driver/nvidia/version does not exist\n",
      "2022-03-07 02:37:35.149052: I tensorflow/core/platform/cpu_feature_guard.cc:142] This TensorFlow binary is optimized with oneAPI Deep Neural Network Library (oneDNN) to use the following CPU instructions in performance-critical operations:  SSE4.1 SSE4.2 AVX AVX2 FMA\n",
      "To enable them in other operations, rebuild TensorFlow with the appropriate compiler flags.\n",
      "2022-03-07 02:37:35.223593: I tensorflow/compiler/mlir/mlir_graph_optimization_pass.cc:185] None of the MLIR Optimization Passes are enabled (registered 2)\n"
     ]
    }
   ],
   "source": [
    "# from collections import Counter\n",
    "# results = Counter(app_df.review_clean)\n",
    "VOCAB_SIZE = len(vocabulary)\n",
    "encoder = tf.keras.layers.TextVectorization(\n",
    "    max_tokens=VOCAB_SIZE)\n",
    "encoder.adapt(X_train)"
   ]
  },
  {
   "cell_type": "code",
   "execution_count": 7,
   "id": "717e8e62",
   "metadata": {},
   "outputs": [
    {
     "data": {
      "text/plain": [
       "array(['', '[UNK]', 'the', ..., '00006', '00002323', '0000000000000'],\n",
       "      dtype='<U474')"
      ]
     },
     "execution_count": 7,
     "metadata": {},
     "output_type": "execute_result"
    }
   ],
   "source": [
    "np.array(encoder.get_vocabulary())"
   ]
  },
  {
   "cell_type": "code",
   "execution_count": 8,
   "id": "69167e2f",
   "metadata": {},
   "outputs": [],
   "source": [
    "model = tf.keras.Sequential([\n",
    "    encoder,\n",
    "    tf.keras.layers.Embedding(\n",
    "        input_dim=len(encoder.get_vocabulary()),\n",
    "        output_dim=64),\n",
    "    tf.keras.layers.Bidirectional(tf.keras.layers.LSTM(64)),\n",
    "    tf.keras.layers.Dense(64, activation='relu'),\n",
    "    tf.keras.layers.Dense(1)\n",
    "])"
   ]
  },
  {
   "cell_type": "code",
   "execution_count": 9,
   "id": "357e314e",
   "metadata": {},
   "outputs": [],
   "source": [
    "model.compile(loss = tf.keras.losses.mae, #mae stands for mean absolute error\n",
    "              optimizer = tf.keras.optimizers.SGD(), #stochastic GD\n",
    "              metrics = ['mae'])"
   ]
  },
  {
   "cell_type": "code",
   "execution_count": 10,
   "id": "21c7001a",
   "metadata": {
    "scrolled": true
   },
   "outputs": [
    {
     "name": "stdout",
     "output_type": "stream",
     "text": [
      "Epoch 1/10\n",
      "5402/5402 [==============================] - 338s 62ms/step - loss: 1.0068 - mae: 1.0068 - val_loss: 0.9348 - val_mae: 0.9348\n",
      "Epoch 2/10\n",
      "5402/5402 [==============================] - 382s 71ms/step - loss: 0.8625 - mae: 0.8625 - val_loss: 0.7610 - val_mae: 0.7610\n",
      "Epoch 3/10\n",
      "5402/5402 [==============================] - 355s 66ms/step - loss: 0.7354 - mae: 0.7354 - val_loss: 0.6927 - val_mae: 0.6927\n",
      "Epoch 4/10\n",
      "5402/5402 [==============================] - 358s 66ms/step - loss: 0.6880 - mae: 0.6880 - val_loss: 0.6869 - val_mae: 0.6869\n",
      "Epoch 5/10\n",
      "5402/5402 [==============================] - 333s 62ms/step - loss: 0.6641 - mae: 0.6641 - val_loss: 0.6921 - val_mae: 0.6921\n",
      "Epoch 6/10\n",
      "5402/5402 [==============================] - 316s 58ms/step - loss: 0.6459 - mae: 0.6459 - val_loss: 0.6742 - val_mae: 0.6742\n",
      "Epoch 7/10\n",
      "5402/5402 [==============================] - 327s 61ms/step - loss: 0.6319 - mae: 0.6319 - val_loss: 0.6469 - val_mae: 0.6469\n",
      "Epoch 8/10\n",
      "5402/5402 [==============================] - 326s 60ms/step - loss: 0.6198 - mae: 0.6198 - val_loss: 0.6296 - val_mae: 0.6296\n",
      "Epoch 9/10\n",
      "5402/5402 [==============================] - 323s 60ms/step - loss: 0.6092 - mae: 0.6092 - val_loss: 0.6738 - val_mae: 0.6738\n",
      "Epoch 10/10\n",
      "5402/5402 [==============================] - 323s 60ms/step - loss: 0.5991 - mae: 0.5991 - val_loss: 0.6471 - val_mae: 0.6471\n"
     ]
    }
   ],
   "source": [
    "history = model.fit(X_train, y_train, \n",
    "                    epochs=10, \n",
    "                    validation_data=(X_test, y_test))"
   ]
  },
  {
   "cell_type": "code",
   "execution_count": 11,
   "id": "9f10adcb",
   "metadata": {},
   "outputs": [
    {
     "name": "stdout",
     "output_type": "stream",
     "text": [
      "1801/1801 [==============================] - 33s 18ms/step - loss: 0.6530 - mae: 0.6530\n"
     ]
    },
    {
     "data": {
      "text/plain": [
       "[0.65303635597229, 0.65303635597229]"
      ]
     },
     "execution_count": 11,
     "metadata": {},
     "output_type": "execute_result"
    }
   ],
   "source": [
    "model.evaluate(X_val, y_val)  "
   ]
  },
  {
   "cell_type": "code",
   "execution_count": 12,
   "id": "d583bd13",
   "metadata": {},
   "outputs": [],
   "source": [
    "y_pred = model.predict(X_val)"
   ]
  },
  {
   "cell_type": "code",
   "execution_count": 13,
   "id": "f44c4264",
   "metadata": {},
   "outputs": [
    {
     "data": {
      "text/plain": [
       "0.653036"
      ]
     },
     "execution_count": 13,
     "metadata": {},
     "output_type": "execute_result"
    }
   ],
   "source": [
    "from sklearn.metrics import mean_absolute_error\n",
    "mean_absolute_error(y_val, y_pred)"
   ]
  },
  {
   "cell_type": "code",
   "execution_count": 14,
   "id": "18bb2a6d",
   "metadata": {},
   "outputs": [
    {
     "name": "stdout",
     "output_type": "stream",
     "text": [
      "1.2706896\n",
      "1.1272486889176518\n"
     ]
    }
   ],
   "source": [
    "from sklearn.metrics import mean_squared_error\n",
    "import math\n",
    "print(mean_squared_error(y_val, y_pred))\n",
    "print(math.sqrt(mean_squared_error(y_val, y_pred)))"
   ]
  },
  {
   "cell_type": "code",
   "execution_count": 15,
   "id": "b1236eb3",
   "metadata": {},
   "outputs": [
    {
     "data": {
      "text/plain": [
       "array([5.0499935], dtype=float32)"
      ]
     },
     "execution_count": 15,
     "metadata": {},
     "output_type": "execute_result"
    }
   ],
   "source": [
    "max(y_pred)"
   ]
  },
  {
   "cell_type": "code",
   "execution_count": 16,
   "id": "f16a7f46",
   "metadata": {},
   "outputs": [
    {
     "data": {
      "text/plain": [
       "array([-0.15610754], dtype=float32)"
      ]
     },
     "execution_count": 16,
     "metadata": {},
     "output_type": "execute_result"
    }
   ],
   "source": [
    "min(y_pred)"
   ]
  },
  {
   "cell_type": "code",
   "execution_count": 17,
   "id": "b80a4424",
   "metadata": {},
   "outputs": [
    {
     "name": "stdout",
     "output_type": "stream",
     "text": [
      "Model: \"sequential\"\n",
      "_________________________________________________________________\n",
      "Layer (type)                 Output Shape              Param #   \n",
      "=================================================================\n",
      "text_vectorization (TextVect (None, None)              0         \n",
      "_________________________________________________________________\n",
      "embedding (Embedding)        (None, None, 64)          4385152   \n",
      "_________________________________________________________________\n",
      "bidirectional (Bidirectional (None, 128)               66048     \n",
      "_________________________________________________________________\n",
      "dense (Dense)                (None, 64)                8256      \n",
      "_________________________________________________________________\n",
      "dense_1 (Dense)              (None, 1)                 65        \n",
      "=================================================================\n",
      "Total params: 4,459,521\n",
      "Trainable params: 4,459,521\n",
      "Non-trainable params: 0\n",
      "_________________________________________________________________\n"
     ]
    }
   ],
   "source": [
    "model.summary()"
   ]
  },
  {
   "cell_type": "code",
   "execution_count": 18,
   "id": "a190d918",
   "metadata": {},
   "outputs": [
    {
     "name": "stderr",
     "output_type": "stream",
     "text": [
      "2022-03-07 03:35:23.959751: W tensorflow/python/util/util.cc:348] Sets are not currently considered sequences, but this may change in the future, so consider avoiding using them.\n",
      "WARNING:absl:Found untraced functions such as lstm_cell_1_layer_call_fn, lstm_cell_1_layer_call_and_return_conditional_losses, lstm_cell_2_layer_call_fn, lstm_cell_2_layer_call_and_return_conditional_losses, lstm_cell_1_layer_call_fn while saving (showing 5 of 10). These functions will not be directly callable after loading.\n"
     ]
    },
    {
     "name": "stdout",
     "output_type": "stream",
     "text": [
      "INFO:tensorflow:Assets written to: /home/jovyan/projects/vector-nlp/models/2.1-LSTM_TFIDF/assets\n"
     ]
    },
    {
     "name": "stderr",
     "output_type": "stream",
     "text": [
      "INFO:tensorflow:Assets written to: /home/jovyan/projects/vector-nlp/models/2.1-LSTM_TFIDF/assets\n"
     ]
    }
   ],
   "source": [
    "model.save(os.path.join(MODELS_DIR,'2.1-LSTM_TFIDF'))"
   ]
  },
  {
   "cell_type": "code",
   "execution_count": 7,
   "id": "25b101c1",
   "metadata": {},
   "outputs": [
    {
     "name": "stderr",
     "output_type": "stream",
     "text": [
      "2022-03-09 04:02:25.822887: W tensorflow/stream_executor/platform/default/dso_loader.cc:64] Could not load dynamic library 'libcuda.so.1'; dlerror: libcuda.so.1: cannot open shared object file: No such file or directory\n",
      "2022-03-09 04:02:25.824796: W tensorflow/stream_executor/cuda/cuda_driver.cc:269] failed call to cuInit: UNKNOWN ERROR (303)\n",
      "2022-03-09 04:02:25.824954: I tensorflow/stream_executor/cuda/cuda_diagnostics.cc:156] kernel driver does not appear to be running on this host (42b10f96906e): /proc/driver/nvidia/version does not exist\n",
      "2022-03-09 04:02:25.827849: I tensorflow/core/platform/cpu_feature_guard.cc:142] This TensorFlow binary is optimized with oneAPI Deep Neural Network Library (oneDNN) to use the following CPU instructions in performance-critical operations:  SSE4.1 SSE4.2 AVX AVX2 FMA\n",
      "To enable them in other operations, rebuild TensorFlow with the appropriate compiler flags.\n",
      "2022-03-09 04:02:30.914487: I tensorflow/compiler/mlir/mlir_graph_optimization_pass.cc:185] None of the MLIR Optimization Passes are enabled (registered 2)\n"
     ]
    },
    {
     "name": "stdout",
     "output_type": "stream",
     "text": [
      "Model: \"sequential\"\n",
      "_________________________________________________________________\n",
      "Layer (type)                 Output Shape              Param #   \n",
      "=================================================================\n",
      "text_vectorization (TextVect (None, None)              0         \n",
      "_________________________________________________________________\n",
      "embedding (Embedding)        (None, None, 64)          4385152   \n",
      "_________________________________________________________________\n",
      "bidirectional (Bidirectional (None, 128)               66048     \n",
      "_________________________________________________________________\n",
      "dense (Dense)                (None, 64)                8256      \n",
      "_________________________________________________________________\n",
      "dense_1 (Dense)              (None, 1)                 65        \n",
      "=================================================================\n",
      "Total params: 4,459,521\n",
      "Trainable params: 4,459,521\n",
      "Non-trainable params: 0\n",
      "_________________________________________________________________\n"
     ]
    }
   ],
   "source": [
    "new_model = tf.keras.models.load_model(os.path.join(MODELS_DIR,'2.1-LSTM_TFIDF'))\n",
    "new_model.summary()"
   ]
  },
  {
   "cell_type": "code",
   "execution_count": 33,
   "id": "be1cee57",
   "metadata": {},
   "outputs": [
    {
     "data": {
      "image/png": "[encoded data removed]",
      "text/plain": [
       "<IPython.core.display.Image object>"
      ]
     },
     "execution_count": 33,
     "metadata": {},
     "output_type": "execute_result"
    }
   ],
   "source": [
    "plot_model(model,os.path.join(IMAGES_DIR,'2.1-LSTM_MODEL_PLOT.png'),show_shapes=True, show_dtype=True,\n",
    "    show_layer_names=True, rankdir='TB', expand_nested=True, dpi=96)"
   ]
  },
  {
   "cell_type": "code",
   "execution_count": 47,
   "id": "2c10c5fa",
   "metadata": {},
   "outputs": [
    {
     "data": {
      "text/plain": [
       "[<tf.Variable 'embedding/embeddings:0' shape=(68518, 64) dtype=float32, numpy=\n",
       " array([[ 0.06712313,  0.05424743, -0.1264934 , ...,  0.12156942,\n",
       "          0.05342354, -0.21633689],\n",
       "        [ 0.01393247, -0.02354094, -0.02287075, ..., -0.04389416,\n",
       "         -0.02181464,  0.03797568],\n",
       "        [ 0.0268516 ,  0.00910351,  0.00346383, ..., -0.03365089,\n",
       "         -0.00678857,  0.04857309],\n",
       "        ...,\n",
       "        [ 0.04560035,  0.02324708,  0.01253083, ..., -0.02784825,\n",
       "         -0.04627706,  0.00642945],\n",
       "        [-0.01368918,  0.01382928, -0.02744769, ..., -0.03317849,\n",
       "          0.04011679,  0.03505216],\n",
       "        [ 0.02736231,  0.03597907, -0.02903325, ...,  0.01892034,\n",
       "          0.03123759,  0.0149959 ]], dtype=float32)>,\n",
       " <tf.Variable 'bidirectional/forward_lstm/lstm_cell_1/kernel:0' shape=(64, 256) dtype=float32, numpy=\n",
       " array([[ 0.0156434 , -0.05212928,  0.09991335, ..., -0.07996792,\n",
       "         -0.10207688, -0.02080583],\n",
       "        [ 0.00787714, -0.06983537, -0.07847454, ...,  0.00205337,\n",
       "         -0.09054969, -0.00665109],\n",
       "        [ 0.06487248, -0.02008178,  0.11067795, ...,  0.08161766,\n",
       "         -0.11360744, -0.0645888 ],\n",
       "        ...,\n",
       "        [ 0.03203047, -0.12540038,  0.01960174, ...,  0.01352869,\n",
       "         -0.11929424,  0.0697789 ],\n",
       "        [-0.10340662, -0.00440044, -0.12147409, ...,  0.06705779,\n",
       "         -0.02384536,  0.04439644],\n",
       "        [-0.01545192,  0.00423143,  0.00886083, ...,  0.13955711,\n",
       "          0.12541273, -0.00025356]], dtype=float32)>,\n",
       " <tf.Variable 'bidirectional/forward_lstm/lstm_cell_1/recurrent_kernel:0' shape=(64, 256) dtype=float32, numpy=\n",
       " array([[-0.03991586, -0.04973075,  0.07156251, ..., -0.00363781,\n",
       "          0.10818002,  0.07121577],\n",
       "        [-0.01085438,  0.04834143,  0.07684283, ...,  0.00592063,\n",
       "         -0.00877476,  0.11390306],\n",
       "        [-0.04764366,  0.04901649, -0.01939148, ...,  0.03729525,\n",
       "         -0.03550636,  0.0234658 ],\n",
       "        ...,\n",
       "        [-0.02191536,  0.03277649,  0.0145452 , ...,  0.07455604,\n",
       "          0.1442242 ,  0.00543705],\n",
       "        [-0.06216054, -0.01244012,  0.0679955 , ...,  0.11882675,\n",
       "          0.05009872,  0.10251509],\n",
       "        [-0.05581966,  0.04651544, -0.00284901, ..., -0.06511778,\n",
       "          0.05890013, -0.04817733]], dtype=float32)>,\n",
       " <tf.Variable 'bidirectional/forward_lstm/lstm_cell_1/bias:0' shape=(256,) dtype=float32, numpy=\n",
       " array([-1.11252419e-03, -3.93988425e-03, -4.79077594e-03, -6.18169783e-04,\n",
       "        -1.34406025e-02, -1.49895158e-02, -6.75502466e-03, -1.81567110e-03,\n",
       "        -1.86151955e-02, -5.90309314e-03, -1.03274882e-02, -1.24777853e-02,\n",
       "        -1.53337105e-03, -3.88997491e-03,  3.94664668e-02, -2.26279674e-03,\n",
       "         2.10510101e-02, -4.19406127e-03, -3.13593517e-03, -8.87464732e-03,\n",
       "        -6.85808435e-03, -1.53957224e-02, -8.83841421e-03, -7.07854237e-03,\n",
       "        -7.02480413e-03, -2.87542469e-03, -2.37774453e-03, -3.28333280e-03,\n",
       "        -1.76143064e-03, -4.77895653e-03, -3.82795651e-03, -2.95249652e-03,\n",
       "        -7.14039151e-03, -3.22538312e-03, -1.63921267e-02, -5.08055137e-03,\n",
       "        -4.67774877e-03, -7.49949738e-03, -3.41694802e-03, -1.12472158e-02,\n",
       "        -6.18275721e-03, -2.11736374e-02, -6.76358119e-03,  4.71408974e-04,\n",
       "        -4.29196889e-03, -1.63276158e-02, -2.58735777e-03, -7.57054007e-03,\n",
       "        -8.33202992e-03, -4.18937532e-03, -2.35239491e-02, -3.12812068e-03,\n",
       "        -2.56386213e-03, -1.12008387e-02, -6.44871453e-03,  1.81744131e-03,\n",
       "        -3.89557984e-03, -9.23412153e-04, -1.72823239e-02, -4.44259541e-03,\n",
       "         4.84955832e-02, -7.18309684e-03, -1.33728320e-02, -1.04535120e-02,\n",
       "         9.98164713e-01,  9.94878888e-01,  9.93238091e-01,  9.99187052e-01,\n",
       "         9.79655027e-01,  9.76565182e-01,  9.90528047e-01,  9.97393429e-01,\n",
       "         9.70184445e-01,  9.91124153e-01,  9.84758615e-01,  9.78430569e-01,\n",
       "         9.98096764e-01,  9.94045794e-01,  1.04714656e+00,  9.97866154e-01,\n",
       "         1.01928592e+00,  9.93331611e-01,  9.93862629e-01,  9.87249672e-01,\n",
       "         9.88543153e-01,  9.69730377e-01,  9.86963689e-01,  9.90384758e-01,\n",
       "         9.90095913e-01,  9.94828224e-01,  9.97209191e-01,  9.95520949e-01,\n",
       "         9.97500181e-01,  9.92628992e-01,  9.95213866e-01,  9.95201051e-01,\n",
       "         9.88912404e-01,  9.95625675e-01,  9.81471360e-01,  9.92766738e-01,\n",
       "         9.92715001e-01,  9.83741164e-01,  9.95366931e-01,  9.78895247e-01,\n",
       "         9.81580377e-01,  9.71693158e-01,  9.89570439e-01,  1.00071049e+00,\n",
       "         9.93902504e-01,  9.79172051e-01,  9.95074749e-01,  9.87743795e-01,\n",
       "         9.88571346e-01,  9.93776619e-01,  9.68092442e-01,  9.95902479e-01,\n",
       "         9.96206164e-01,  9.85977054e-01,  9.90753472e-01,  1.00398922e+00,\n",
       "         9.93550897e-01,  9.97053921e-01,  9.71296430e-01,  9.93938625e-01,\n",
       "         1.06512582e+00,  9.88234997e-01,  9.77757990e-01,  9.84372497e-01,\n",
       "         3.92606854e-02,  2.16040518e-02, -3.77302319e-02, -2.99526826e-02,\n",
       "         1.08170241e-01,  1.79401949e-01, -1.30404472e-01,  3.47968601e-02,\n",
       "         1.81793109e-01,  7.35228136e-02,  9.23842639e-02,  1.58997878e-01,\n",
       "        -1.65585838e-02, -2.00732425e-02, -2.77209282e-01,  3.59962992e-02,\n",
       "         3.06915194e-01, -1.40387611e-02,  1.06391601e-01, -5.69342151e-02,\n",
       "        -3.74562480e-02, -1.16159484e-01, -7.61821270e-02, -6.86544254e-02,\n",
       "        -1.88051444e-02, -2.50415169e-02, -1.00780549e-02,  3.00143138e-02,\n",
       "         3.43329087e-02, -3.96680692e-03, -2.36861547e-03, -4.18247096e-02,\n",
       "        -3.45360748e-02, -8.03816020e-02,  1.46181807e-01,  1.29013527e-02,\n",
       "         3.51155363e-02,  1.17892222e-02,  5.88067882e-02, -1.96529567e-01,\n",
       "        -2.47137144e-01,  4.11048196e-02, -5.84505498e-02, -4.40296233e-02,\n",
       "        -2.99588684e-02,  6.66286126e-02, -3.13990712e-02,  1.20371953e-01,\n",
       "        -6.79540187e-02, -1.42955296e-02,  1.53212920e-01,  8.78111867e-04,\n",
       "        -8.26035254e-03,  8.90857726e-02,  8.71597454e-02, -1.35057032e-01,\n",
       "        -4.25308337e-03,  6.50051534e-02, -5.55513874e-02, -4.08990197e-02,\n",
       "         3.12571436e-01,  1.12194918e-01, -9.04355347e-02, -8.28703046e-02,\n",
       "        -1.20348576e-03, -4.00261860e-03, -5.10988804e-03, -6.61321043e-04,\n",
       "        -3.60250920e-02, -5.65054379e-02, -1.07801920e-02, -1.59777317e-03,\n",
       "        -6.26512766e-02, -8.81800242e-03, -2.43480317e-02, -4.40317057e-02,\n",
       "        -2.22050375e-03, -3.61278816e-03, -1.06747955e-01, -2.65067699e-03,\n",
       "        -7.91644305e-02, -4.62065125e-03, -7.21026771e-03, -9.76208597e-03,\n",
       "        -1.04808612e-02, -6.19623475e-02, -1.17740678e-02, -7.47841271e-03,\n",
       "        -8.80606286e-03, -3.22286901e-03, -2.47226260e-03, -3.26684862e-03,\n",
       "        -1.87007710e-03, -5.43521112e-03, -3.96024017e-03, -4.63875104e-03,\n",
       "        -1.03761600e-02, -3.45539628e-03, -1.95648521e-02, -5.24550583e-03,\n",
       "        -4.51861508e-03, -2.24253554e-02, -3.43480753e-03, -7.38954544e-02,\n",
       "        -9.58552808e-02, -4.91724052e-02, -8.58167745e-03,  4.99007409e-04,\n",
       "        -4.74455906e-03, -1.87890083e-02, -5.10103768e-03, -1.32697085e-02,\n",
       "        -1.31413415e-02, -4.21922421e-03, -3.74844782e-02, -3.16591095e-03,\n",
       "        -2.78975884e-03, -1.37968175e-02, -6.89918548e-03,  2.52286205e-03,\n",
       "        -4.97097941e-03, -2.91800546e-03, -2.91626770e-02, -5.52453334e-03,\n",
       "        -9.44698378e-02, -1.38361715e-02, -2.79711373e-02, -1.31514035e-02],\n",
       "       dtype=float32)>,\n",
       " <tf.Variable 'bidirectional/backward_lstm/lstm_cell_2/kernel:0' shape=(64, 256) dtype=float32, numpy=\n",
       " array([[-0.02405557,  0.07983205,  0.05174574, ..., -0.04315542,\n",
       "          0.10973465,  0.02018421],\n",
       "        [-0.04024529, -0.05872358,  0.10606806, ..., -0.03051402,\n",
       "          0.22704102, -0.06611753],\n",
       "        [ 0.05865035,  0.03006822,  0.06985716, ..., -0.07814993,\n",
       "          0.03330423, -0.04087922],\n",
       "        ...,\n",
       "        [-0.11264329, -0.03057705, -0.0683482 , ..., -0.05770319,\n",
       "          0.26494905, -0.08870208],\n",
       "        [ 0.00612007,  0.0293927 , -0.13006993, ...,  0.10023975,\n",
       "         -0.12886368,  0.03117843],\n",
       "        [-0.01673927, -0.12597156, -0.00662905, ...,  0.07481012,\n",
       "         -0.04395625, -0.12507147]], dtype=float32)>,\n",
       " <tf.Variable 'bidirectional/backward_lstm/lstm_cell_2/recurrent_kernel:0' shape=(64, 256) dtype=float32, numpy=\n",
       " array([[ 0.00446212,  0.05976551, -0.01505543, ...,  0.00096165,\n",
       "          0.09961164,  0.01545649],\n",
       "        [-0.10880669, -0.1007407 ,  0.05797322, ..., -0.06298155,\n",
       "         -0.05825685,  0.09307981],\n",
       "        [-0.02761502, -0.00080162, -0.06667388, ..., -0.02700792,\n",
       "          0.10128716, -0.07773221],\n",
       "        ...,\n",
       "        [ 0.08569601,  0.07504017, -0.00229746, ...,  0.02689921,\n",
       "         -0.02426281,  0.01632863],\n",
       "        [-0.01028542, -0.22498772, -0.04164504, ..., -0.01741626,\n",
       "         -0.3444154 ,  0.03036562],\n",
       "        [ 0.06529067,  0.06561397,  0.05889457, ...,  0.00312871,\n",
       "         -0.00798794, -0.08373751]], dtype=float32)>,\n",
       " <tf.Variable 'bidirectional/backward_lstm/lstm_cell_2/bias:0' shape=(256,) dtype=float32, numpy=\n",
       " array([ 5.82870208e-02,  4.53211337e-01, -7.94412848e-03,  4.29520123e-02,\n",
       "        -1.71025714e-03,  2.49661170e-02,  3.11555080e-02, -2.94219307e-03,\n",
       "         1.72937587e-02,  1.39900306e-02,  1.72694796e-04,  9.73418634e-03,\n",
       "         1.83536280e-02,  2.16613580e-02, -1.85614303e-02,  1.28417704e-02,\n",
       "         1.06778167e-01,  6.62674429e-03,  6.17121756e-02, -3.59934499e-03,\n",
       "        -5.85569441e-03, -6.61154743e-03, -1.65114664e-02, -3.50842369e-03,\n",
       "         3.61311622e-02,  2.33660433e-02,  7.76174385e-03,  1.91190559e-02,\n",
       "         1.61187097e-01,  2.32410610e-01,  7.37851718e-04,  4.82657179e-03,\n",
       "        -7.74487481e-03,  8.21365491e-02, -6.17310125e-03, -2.16826680e-03,\n",
       "         4.47556786e-02,  2.96247122e-03, -1.57758351e-02,  1.07268291e-02,\n",
       "         2.88345269e-03,  1.21284332e-02, -4.73724212e-03, -6.88183354e-03,\n",
       "        -4.94396361e-03,  9.54728748e-04,  9.23063904e-02,  8.34919047e-04,\n",
       "         4.27655205e-02, -3.12827225e-03, -2.53143464e-03,  1.51097793e-02,\n",
       "         2.26651807e-03,  3.22772488e-02,  4.22036052e-02,  1.52198914e-02,\n",
       "        -7.28326151e-03,  2.67874092e-01,  4.80887853e-02,  3.55089344e-02,\n",
       "         1.60601325e-02, -6.98449835e-03,  8.24196339e-01,  3.35470550e-02,\n",
       "         9.35391605e-01,  9.50595200e-01,  9.75478411e-01,  9.98885214e-01,\n",
       "         9.74226117e-01,  9.82801676e-01,  9.57415938e-01,  9.84539926e-01,\n",
       "         9.62887406e-01,  9.87526596e-01,  9.95105624e-01,  9.98881876e-01,\n",
       "         1.01220798e+00,  1.02590072e+00,  9.86450911e-01,  9.90202308e-01,\n",
       "         1.02718592e+00,  9.89861846e-01,  9.95466650e-01,  9.89610553e-01,\n",
       "         9.92558002e-01,  9.90961611e-01,  9.83242691e-01,  9.77111459e-01,\n",
       "         1.02991509e+00,  9.94142652e-01,  9.89927709e-01,  9.84654903e-01,\n",
       "         9.95792210e-01,  1.00186229e+00,  9.91452694e-01,  9.92889225e-01,\n",
       "         9.78912294e-01,  9.59522605e-01,  9.97484803e-01,  9.89327848e-01,\n",
       "         9.72153485e-01,  9.92327809e-01,  9.89739776e-01,  9.85012829e-01,\n",
       "         9.95339930e-01,  9.94328499e-01,  9.88911450e-01,  9.83988464e-01,\n",
       "         9.90452886e-01,  9.97351050e-01,  1.00463700e+00,  9.88713086e-01,\n",
       "         9.83044386e-01,  9.89191413e-01,  9.87784445e-01,  1.00160754e+00,\n",
       "         1.00087845e+00,  9.38685834e-01,  9.76116419e-01,  1.02159941e+00,\n",
       "         9.87212837e-01,  9.76509869e-01,  9.71308529e-01,  9.95486140e-01,\n",
       "         9.90108848e-01,  9.81280386e-01,  6.41494453e-01,  9.58179593e-01,\n",
       "         7.71113113e-02,  1.21882617e-01, -1.10402862e-02,  1.28164664e-02,\n",
       "        -2.66536437e-02, -6.06286060e-03,  4.73801419e-02, -1.62778962e-02,\n",
       "         3.96855250e-02,  1.05037242e-02,  3.02211698e-02,  1.07602468e-02,\n",
       "        -1.56176733e-02, -5.03442228e-01,  1.67055186e-02, -6.75906315e-02,\n",
       "        -3.36060524e-02,  6.41717110e-03,  1.39195800e-01,  6.02474920e-02,\n",
       "         5.87442238e-03, -1.22085204e-02,  5.78658916e-02,  1.08966080e-03,\n",
       "         7.90031329e-02,  4.31564860e-02, -1.57415550e-02,  1.21854758e-03,\n",
       "        -1.71559513e-01,  1.41042933e-01, -6.46543037e-03,  4.40873280e-02,\n",
       "         1.39726195e-02, -3.43181230e-02,  6.19397499e-03, -3.12795341e-02,\n",
       "         4.32403870e-02,  4.73119952e-02, -9.20559615e-02,  4.03499193e-02,\n",
       "        -7.33061656e-02, -5.04292473e-02,  1.17557161e-02,  1.94632076e-02,\n",
       "         2.47448380e-03, -3.89630198e-02, -1.49253085e-02, -3.67502272e-02,\n",
       "         2.15331875e-02, -6.35754764e-02, -6.36407547e-03, -4.52710539e-02,\n",
       "        -1.27775548e-02,  5.86370677e-02, -4.74711321e-03,  1.21116163e-02,\n",
       "         3.88029739e-02,  1.26465797e-01, -8.09940845e-02,  2.35088598e-02,\n",
       "         4.35340255e-02,  7.28271529e-02,  1.63350850e-02,  2.08406635e-02,\n",
       "         2.52432209e-02,  2.05174193e-01, -8.85970797e-03,  2.81536430e-02,\n",
       "        -1.91940193e-03,  2.14536879e-02,  2.85690743e-02, -5.54170809e-04,\n",
       "         1.28732072e-02,  1.38844261e-02, -7.63144693e-04,  1.00538554e-02,\n",
       "         1.70671735e-02, -8.80749077e-02, -2.02942807e-02,  1.09583326e-02,\n",
       "         4.29894179e-02,  6.97839865e-03,  1.55665847e-02, -9.57469549e-03,\n",
       "        -5.37406607e-03, -6.91493694e-03, -1.85269024e-02, -3.10894917e-03,\n",
       "         1.88759081e-02,  2.25919839e-02,  8.15938413e-03,  2.20936574e-02,\n",
       "         7.85421431e-02,  1.15219049e-01, -2.40116334e-03,  6.77485997e-03,\n",
       "        -1.58890858e-02,  6.52118474e-02, -8.56549665e-03, -2.20511155e-03,\n",
       "         1.94687843e-02,  3.09284125e-03, -1.81445628e-02,  1.09532066e-02,\n",
       "         6.91677153e-04,  1.01187555e-02, -4.58070263e-03, -9.25655942e-03,\n",
       "        -4.61348658e-03,  2.08639842e-03,  4.92265783e-02, -7.09580490e-05,\n",
       "         3.77921909e-02, -2.12744065e-03, -6.04339037e-03,  1.42631978e-02,\n",
       "         1.95204979e-03,  3.24956514e-02,  2.12993957e-02,  1.49770156e-02,\n",
       "        -7.21095316e-03,  1.36996686e-01,  2.83062067e-02,  2.95334887e-02,\n",
       "         1.16442293e-02, -7.65011134e-03,  4.74831045e-01,  3.28403562e-02],\n",
       "       dtype=float32)>,\n",
       " <tf.Variable 'dense/kernel:0' shape=(128, 64) dtype=float32, numpy=\n",
       " array([[ 0.00832554, -0.12625839,  0.14094788, ...,  0.04423987,\n",
       "         -0.07224075,  0.10616849],\n",
       "        [-0.16777992, -0.10300996, -0.04285765, ...,  0.05901429,\n",
       "         -0.02833784, -0.07967739],\n",
       "        [-0.14170717, -0.04457442,  0.14109534, ..., -0.02735009,\n",
       "          0.1361558 , -0.10583428],\n",
       "        ...,\n",
       "        [-0.00705302, -0.10993862,  0.01269878, ...,  0.16450101,\n",
       "         -0.07552675,  0.13480088],\n",
       "        [ 0.3898306 ,  0.15349975, -0.0229771 , ..., -0.1189972 ,\n",
       "         -0.07702032, -0.1432599 ],\n",
       "        [ 0.12060513, -0.17798796, -0.06664845, ..., -0.16220869,\n",
       "          0.11755068, -0.03944201]], dtype=float32)>,\n",
       " <tf.Variable 'dense/bias:0' shape=(64,) dtype=float32, numpy=\n",
       " array([-7.9387026e-03, -7.5859852e-02,  2.7863273e-01,  3.2000083e-03,\n",
       "        -2.3584651e-02,  4.2283627e-01,  1.4997724e-01, -4.1446805e-02,\n",
       "        -6.8564810e-02, -5.4186799e-02,  7.2393166e-03, -8.5066080e-02,\n",
       "        -6.3354351e-02, -2.7194912e-02,  2.2510754e-01,  3.2120907e-01,\n",
       "         6.5089329e-03, -6.4756023e-03,  1.2275860e-01, -3.1311899e-02,\n",
       "        -2.7036760e-02, -2.4278589e-02,  2.0486377e-01,  1.0636927e-02,\n",
       "        -1.2654494e-01,  2.3539183e-01, -4.6753500e-02,  3.2859202e-02,\n",
       "         4.0172437e-01,  1.6959982e-01, -3.7229955e-02, -1.5465244e-02,\n",
       "        -1.0187195e-01, -5.0568664e-03,  4.4461557e-01,  2.9947343e-01,\n",
       "        -4.2070303e-02, -4.1362464e-02,  3.8984331e-01,  3.4441072e-01,\n",
       "        -2.0645155e-02,  2.4581827e-01, -3.4232132e-02,  1.8496801e-01,\n",
       "         1.0749590e-01, -7.9007506e-02, -9.9563308e-02, -3.7429326e-03,\n",
       "         1.1207809e-01,  3.3039150e-01, -2.2587452e-02,  2.4068274e-01,\n",
       "        -6.1838061e-02, -5.7794392e-02,  2.3729236e-01, -3.2824624e-02,\n",
       "        -1.7368779e-02, -1.2160248e-01, -2.2983829e-02, -5.7927740e-05,\n",
       "        -1.2922506e-01, -2.5617920e-02, -1.5094952e-02,  2.1956369e-01],\n",
       "       dtype=float32)>,\n",
       " <tf.Variable 'dense_1/kernel:0' shape=(64, 1) dtype=float32, numpy=\n",
       " array([[-0.5301681 ],\n",
       "        [ 0.48134652],\n",
       "        [ 0.3377192 ],\n",
       "        [ 0.0517925 ],\n",
       "        [-0.10056375],\n",
       "        [ 0.5352146 ],\n",
       "        [ 0.18051678],\n",
       "        [-0.32742703],\n",
       "        [-0.21355622],\n",
       "        [-0.18303117],\n",
       "        [-0.15997292],\n",
       "        [-0.19086893],\n",
       "        [-0.98532504],\n",
       "        [-0.22237173],\n",
       "        [ 0.18402359],\n",
       "        [ 0.27498293],\n",
       "        [ 0.04831931],\n",
       "        [ 0.06481022],\n",
       "        [ 0.0879158 ],\n",
       "        [-0.4402139 ],\n",
       "        [-0.05149596],\n",
       "        [-0.46466154],\n",
       "        [ 0.27705517],\n",
       "        [-0.80579525],\n",
       "        [-1.0121304 ],\n",
       "        [ 0.30570048],\n",
       "        [-0.06709731],\n",
       "        [ 0.07443879],\n",
       "        [ 0.4048346 ],\n",
       "        [ 0.2213121 ],\n",
       "        [-0.2444287 ],\n",
       "        [-0.13899317],\n",
       "        [-0.7502361 ],\n",
       "        [-0.05672987],\n",
       "        [ 0.5186605 ],\n",
       "        [ 0.2741657 ],\n",
       "        [-0.10548716],\n",
       "        [-0.31629735],\n",
       "        [ 0.43261135],\n",
       "        [ 0.38931084],\n",
       "        [-0.20774427],\n",
       "        [ 0.27431047],\n",
       "        [ 0.15188628],\n",
       "        [ 0.26639912],\n",
       "        [ 0.17365177],\n",
       "        [-0.25181776],\n",
       "        [-0.23510164],\n",
       "        [-0.19626276],\n",
       "        [ 0.12018573],\n",
       "        [ 0.35343188],\n",
       "        [ 0.16710909],\n",
       "        [ 0.27322334],\n",
       "        [-1.213752  ],\n",
       "        [-0.49011213],\n",
       "        [ 0.44625816],\n",
       "        [-0.07520302],\n",
       "        [-0.07096901],\n",
       "        [-0.21095218],\n",
       "        [-0.19791162],\n",
       "        [-0.00268442],\n",
       "        [-0.41031444],\n",
       "        [-0.2506189 ],\n",
       "        [-0.24525052],\n",
       "        [ 0.2602304 ]], dtype=float32)>,\n",
       " <tf.Variable 'dense_1/bias:0' shape=(1,) dtype=float32, numpy=array([1.917466], dtype=float32)>]"
      ]
     },
     "execution_count": 47,
     "metadata": {},
     "output_type": "execute_result"
    }
   ],
   "source": [
    "model.trainable_variables"
   ]
  },
  {
   "cell_type": "code",
   "execution_count": 49,
   "id": "5054006e",
   "metadata": {},
   "outputs": [
    {
     "data": {
      "text/plain": [
       "[array([b'the', b'it', b'i', ..., b'00006', b'00002323', b'0000000000000'],\n",
       "       dtype=object),\n",
       " array([[ 0.06712313,  0.05424743, -0.1264934 , ...,  0.12156942,\n",
       "          0.05342354, -0.21633689],\n",
       "        [ 0.01393247, -0.02354094, -0.02287075, ..., -0.04389416,\n",
       "         -0.02181464,  0.03797568],\n",
       "        [ 0.0268516 ,  0.00910351,  0.00346383, ..., -0.03365089,\n",
       "         -0.00678857,  0.04857309],\n",
       "        ...,\n",
       "        [ 0.04560035,  0.02324708,  0.01253083, ..., -0.02784825,\n",
       "         -0.04627706,  0.00642945],\n",
       "        [-0.01368918,  0.01382928, -0.02744769, ..., -0.03317849,\n",
       "          0.04011679,  0.03505216],\n",
       "        [ 0.02736231,  0.03597907, -0.02903325, ...,  0.01892034,\n",
       "          0.03123759,  0.0149959 ]], dtype=float32),\n",
       " array([[ 0.0156434 , -0.05212928,  0.09991335, ..., -0.07996792,\n",
       "         -0.10207688, -0.02080583],\n",
       "        [ 0.00787714, -0.06983537, -0.07847454, ...,  0.00205337,\n",
       "         -0.09054969, -0.00665109],\n",
       "        [ 0.06487248, -0.02008178,  0.11067795, ...,  0.08161766,\n",
       "         -0.11360744, -0.0645888 ],\n",
       "        ...,\n",
       "        [ 0.03203047, -0.12540038,  0.01960174, ...,  0.01352869,\n",
       "         -0.11929424,  0.0697789 ],\n",
       "        [-0.10340662, -0.00440044, -0.12147409, ...,  0.06705779,\n",
       "         -0.02384536,  0.04439644],\n",
       "        [-0.01545192,  0.00423143,  0.00886083, ...,  0.13955711,\n",
       "          0.12541273, -0.00025356]], dtype=float32),\n",
       " array([[-0.03991586, -0.04973075,  0.07156251, ..., -0.00363781,\n",
       "          0.10818002,  0.07121577],\n",
       "        [-0.01085438,  0.04834143,  0.07684283, ...,  0.00592063,\n",
       "         -0.00877476,  0.11390306],\n",
       "        [-0.04764366,  0.04901649, -0.01939148, ...,  0.03729525,\n",
       "         -0.03550636,  0.0234658 ],\n",
       "        ...,\n",
       "        [-0.02191536,  0.03277649,  0.0145452 , ...,  0.07455604,\n",
       "          0.1442242 ,  0.00543705],\n",
       "        [-0.06216054, -0.01244012,  0.0679955 , ...,  0.11882675,\n",
       "          0.05009872,  0.10251509],\n",
       "        [-0.05581966,  0.04651544, -0.00284901, ..., -0.06511778,\n",
       "          0.05890013, -0.04817733]], dtype=float32),\n",
       " array([-1.11252419e-03, -3.93988425e-03, -4.79077594e-03, -6.18169783e-04,\n",
       "        -1.34406025e-02, -1.49895158e-02, -6.75502466e-03, -1.81567110e-03,\n",
       "        -1.86151955e-02, -5.90309314e-03, -1.03274882e-02, -1.24777853e-02,\n",
       "        -1.53337105e-03, -3.88997491e-03,  3.94664668e-02, -2.26279674e-03,\n",
       "         2.10510101e-02, -4.19406127e-03, -3.13593517e-03, -8.87464732e-03,\n",
       "        -6.85808435e-03, -1.53957224e-02, -8.83841421e-03, -7.07854237e-03,\n",
       "        -7.02480413e-03, -2.87542469e-03, -2.37774453e-03, -3.28333280e-03,\n",
       "        -1.76143064e-03, -4.77895653e-03, -3.82795651e-03, -2.95249652e-03,\n",
       "        -7.14039151e-03, -3.22538312e-03, -1.63921267e-02, -5.08055137e-03,\n",
       "        -4.67774877e-03, -7.49949738e-03, -3.41694802e-03, -1.12472158e-02,\n",
       "        -6.18275721e-03, -2.11736374e-02, -6.76358119e-03,  4.71408974e-04,\n",
       "        -4.29196889e-03, -1.63276158e-02, -2.58735777e-03, -7.57054007e-03,\n",
       "        -8.33202992e-03, -4.18937532e-03, -2.35239491e-02, -3.12812068e-03,\n",
       "        -2.56386213e-03, -1.12008387e-02, -6.44871453e-03,  1.81744131e-03,\n",
       "        -3.89557984e-03, -9.23412153e-04, -1.72823239e-02, -4.44259541e-03,\n",
       "         4.84955832e-02, -7.18309684e-03, -1.33728320e-02, -1.04535120e-02,\n",
       "         9.98164713e-01,  9.94878888e-01,  9.93238091e-01,  9.99187052e-01,\n",
       "         9.79655027e-01,  9.76565182e-01,  9.90528047e-01,  9.97393429e-01,\n",
       "         9.70184445e-01,  9.91124153e-01,  9.84758615e-01,  9.78430569e-01,\n",
       "         9.98096764e-01,  9.94045794e-01,  1.04714656e+00,  9.97866154e-01,\n",
       "         1.01928592e+00,  9.93331611e-01,  9.93862629e-01,  9.87249672e-01,\n",
       "         9.88543153e-01,  9.69730377e-01,  9.86963689e-01,  9.90384758e-01,\n",
       "         9.90095913e-01,  9.94828224e-01,  9.97209191e-01,  9.95520949e-01,\n",
       "         9.97500181e-01,  9.92628992e-01,  9.95213866e-01,  9.95201051e-01,\n",
       "         9.88912404e-01,  9.95625675e-01,  9.81471360e-01,  9.92766738e-01,\n",
       "         9.92715001e-01,  9.83741164e-01,  9.95366931e-01,  9.78895247e-01,\n",
       "         9.81580377e-01,  9.71693158e-01,  9.89570439e-01,  1.00071049e+00,\n",
       "         9.93902504e-01,  9.79172051e-01,  9.95074749e-01,  9.87743795e-01,\n",
       "         9.88571346e-01,  9.93776619e-01,  9.68092442e-01,  9.95902479e-01,\n",
       "         9.96206164e-01,  9.85977054e-01,  9.90753472e-01,  1.00398922e+00,\n",
       "         9.93550897e-01,  9.97053921e-01,  9.71296430e-01,  9.93938625e-01,\n",
       "         1.06512582e+00,  9.88234997e-01,  9.77757990e-01,  9.84372497e-01,\n",
       "         3.92606854e-02,  2.16040518e-02, -3.77302319e-02, -2.99526826e-02,\n",
       "         1.08170241e-01,  1.79401949e-01, -1.30404472e-01,  3.47968601e-02,\n",
       "         1.81793109e-01,  7.35228136e-02,  9.23842639e-02,  1.58997878e-01,\n",
       "        -1.65585838e-02, -2.00732425e-02, -2.77209282e-01,  3.59962992e-02,\n",
       "         3.06915194e-01, -1.40387611e-02,  1.06391601e-01, -5.69342151e-02,\n",
       "        -3.74562480e-02, -1.16159484e-01, -7.61821270e-02, -6.86544254e-02,\n",
       "        -1.88051444e-02, -2.50415169e-02, -1.00780549e-02,  3.00143138e-02,\n",
       "         3.43329087e-02, -3.96680692e-03, -2.36861547e-03, -4.18247096e-02,\n",
       "        -3.45360748e-02, -8.03816020e-02,  1.46181807e-01,  1.29013527e-02,\n",
       "         3.51155363e-02,  1.17892222e-02,  5.88067882e-02, -1.96529567e-01,\n",
       "        -2.47137144e-01,  4.11048196e-02, -5.84505498e-02, -4.40296233e-02,\n",
       "        -2.99588684e-02,  6.66286126e-02, -3.13990712e-02,  1.20371953e-01,\n",
       "        -6.79540187e-02, -1.42955296e-02,  1.53212920e-01,  8.78111867e-04,\n",
       "        -8.26035254e-03,  8.90857726e-02,  8.71597454e-02, -1.35057032e-01,\n",
       "        -4.25308337e-03,  6.50051534e-02, -5.55513874e-02, -4.08990197e-02,\n",
       "         3.12571436e-01,  1.12194918e-01, -9.04355347e-02, -8.28703046e-02,\n",
       "        -1.20348576e-03, -4.00261860e-03, -5.10988804e-03, -6.61321043e-04,\n",
       "        -3.60250920e-02, -5.65054379e-02, -1.07801920e-02, -1.59777317e-03,\n",
       "        -6.26512766e-02, -8.81800242e-03, -2.43480317e-02, -4.40317057e-02,\n",
       "        -2.22050375e-03, -3.61278816e-03, -1.06747955e-01, -2.65067699e-03,\n",
       "        -7.91644305e-02, -4.62065125e-03, -7.21026771e-03, -9.76208597e-03,\n",
       "        -1.04808612e-02, -6.19623475e-02, -1.17740678e-02, -7.47841271e-03,\n",
       "        -8.80606286e-03, -3.22286901e-03, -2.47226260e-03, -3.26684862e-03,\n",
       "        -1.87007710e-03, -5.43521112e-03, -3.96024017e-03, -4.63875104e-03,\n",
       "        -1.03761600e-02, -3.45539628e-03, -1.95648521e-02, -5.24550583e-03,\n",
       "        -4.51861508e-03, -2.24253554e-02, -3.43480753e-03, -7.38954544e-02,\n",
       "        -9.58552808e-02, -4.91724052e-02, -8.58167745e-03,  4.99007409e-04,\n",
       "        -4.74455906e-03, -1.87890083e-02, -5.10103768e-03, -1.32697085e-02,\n",
       "        -1.31413415e-02, -4.21922421e-03, -3.74844782e-02, -3.16591095e-03,\n",
       "        -2.78975884e-03, -1.37968175e-02, -6.89918548e-03,  2.52286205e-03,\n",
       "        -4.97097941e-03, -2.91800546e-03, -2.91626770e-02, -5.52453334e-03,\n",
       "        -9.44698378e-02, -1.38361715e-02, -2.79711373e-02, -1.31514035e-02],\n",
       "       dtype=float32),\n",
       " array([[-0.02405557,  0.07983205,  0.05174574, ..., -0.04315542,\n",
       "          0.10973465,  0.02018421],\n",
       "        [-0.04024529, -0.05872358,  0.10606806, ..., -0.03051402,\n",
       "          0.22704102, -0.06611753],\n",
       "        [ 0.05865035,  0.03006822,  0.06985716, ..., -0.07814993,\n",
       "          0.03330423, -0.04087922],\n",
       "        ...,\n",
       "        [-0.11264329, -0.03057705, -0.0683482 , ..., -0.05770319,\n",
       "          0.26494905, -0.08870208],\n",
       "        [ 0.00612007,  0.0293927 , -0.13006993, ...,  0.10023975,\n",
       "         -0.12886368,  0.03117843],\n",
       "        [-0.01673927, -0.12597156, -0.00662905, ...,  0.07481012,\n",
       "         -0.04395625, -0.12507147]], dtype=float32),\n",
       " array([[ 0.00446212,  0.05976551, -0.01505543, ...,  0.00096165,\n",
       "          0.09961164,  0.01545649],\n",
       "        [-0.10880669, -0.1007407 ,  0.05797322, ..., -0.06298155,\n",
       "         -0.05825685,  0.09307981],\n",
       "        [-0.02761502, -0.00080162, -0.06667388, ..., -0.02700792,\n",
       "          0.10128716, -0.07773221],\n",
       "        ...,\n",
       "        [ 0.08569601,  0.07504017, -0.00229746, ...,  0.02689921,\n",
       "         -0.02426281,  0.01632863],\n",
       "        [-0.01028542, -0.22498772, -0.04164504, ..., -0.01741626,\n",
       "         -0.3444154 ,  0.03036562],\n",
       "        [ 0.06529067,  0.06561397,  0.05889457, ...,  0.00312871,\n",
       "         -0.00798794, -0.08373751]], dtype=float32),\n",
       " array([ 5.82870208e-02,  4.53211337e-01, -7.94412848e-03,  4.29520123e-02,\n",
       "        -1.71025714e-03,  2.49661170e-02,  3.11555080e-02, -2.94219307e-03,\n",
       "         1.72937587e-02,  1.39900306e-02,  1.72694796e-04,  9.73418634e-03,\n",
       "         1.83536280e-02,  2.16613580e-02, -1.85614303e-02,  1.28417704e-02,\n",
       "         1.06778167e-01,  6.62674429e-03,  6.17121756e-02, -3.59934499e-03,\n",
       "        -5.85569441e-03, -6.61154743e-03, -1.65114664e-02, -3.50842369e-03,\n",
       "         3.61311622e-02,  2.33660433e-02,  7.76174385e-03,  1.91190559e-02,\n",
       "         1.61187097e-01,  2.32410610e-01,  7.37851718e-04,  4.82657179e-03,\n",
       "        -7.74487481e-03,  8.21365491e-02, -6.17310125e-03, -2.16826680e-03,\n",
       "         4.47556786e-02,  2.96247122e-03, -1.57758351e-02,  1.07268291e-02,\n",
       "         2.88345269e-03,  1.21284332e-02, -4.73724212e-03, -6.88183354e-03,\n",
       "        -4.94396361e-03,  9.54728748e-04,  9.23063904e-02,  8.34919047e-04,\n",
       "         4.27655205e-02, -3.12827225e-03, -2.53143464e-03,  1.51097793e-02,\n",
       "         2.26651807e-03,  3.22772488e-02,  4.22036052e-02,  1.52198914e-02,\n",
       "        -7.28326151e-03,  2.67874092e-01,  4.80887853e-02,  3.55089344e-02,\n",
       "         1.60601325e-02, -6.98449835e-03,  8.24196339e-01,  3.35470550e-02,\n",
       "         9.35391605e-01,  9.50595200e-01,  9.75478411e-01,  9.98885214e-01,\n",
       "         9.74226117e-01,  9.82801676e-01,  9.57415938e-01,  9.84539926e-01,\n",
       "         9.62887406e-01,  9.87526596e-01,  9.95105624e-01,  9.98881876e-01,\n",
       "         1.01220798e+00,  1.02590072e+00,  9.86450911e-01,  9.90202308e-01,\n",
       "         1.02718592e+00,  9.89861846e-01,  9.95466650e-01,  9.89610553e-01,\n",
       "         9.92558002e-01,  9.90961611e-01,  9.83242691e-01,  9.77111459e-01,\n",
       "         1.02991509e+00,  9.94142652e-01,  9.89927709e-01,  9.84654903e-01,\n",
       "         9.95792210e-01,  1.00186229e+00,  9.91452694e-01,  9.92889225e-01,\n",
       "         9.78912294e-01,  9.59522605e-01,  9.97484803e-01,  9.89327848e-01,\n",
       "         9.72153485e-01,  9.92327809e-01,  9.89739776e-01,  9.85012829e-01,\n",
       "         9.95339930e-01,  9.94328499e-01,  9.88911450e-01,  9.83988464e-01,\n",
       "         9.90452886e-01,  9.97351050e-01,  1.00463700e+00,  9.88713086e-01,\n",
       "         9.83044386e-01,  9.89191413e-01,  9.87784445e-01,  1.00160754e+00,\n",
       "         1.00087845e+00,  9.38685834e-01,  9.76116419e-01,  1.02159941e+00,\n",
       "         9.87212837e-01,  9.76509869e-01,  9.71308529e-01,  9.95486140e-01,\n",
       "         9.90108848e-01,  9.81280386e-01,  6.41494453e-01,  9.58179593e-01,\n",
       "         7.71113113e-02,  1.21882617e-01, -1.10402862e-02,  1.28164664e-02,\n",
       "        -2.66536437e-02, -6.06286060e-03,  4.73801419e-02, -1.62778962e-02,\n",
       "         3.96855250e-02,  1.05037242e-02,  3.02211698e-02,  1.07602468e-02,\n",
       "        -1.56176733e-02, -5.03442228e-01,  1.67055186e-02, -6.75906315e-02,\n",
       "        -3.36060524e-02,  6.41717110e-03,  1.39195800e-01,  6.02474920e-02,\n",
       "         5.87442238e-03, -1.22085204e-02,  5.78658916e-02,  1.08966080e-03,\n",
       "         7.90031329e-02,  4.31564860e-02, -1.57415550e-02,  1.21854758e-03,\n",
       "        -1.71559513e-01,  1.41042933e-01, -6.46543037e-03,  4.40873280e-02,\n",
       "         1.39726195e-02, -3.43181230e-02,  6.19397499e-03, -3.12795341e-02,\n",
       "         4.32403870e-02,  4.73119952e-02, -9.20559615e-02,  4.03499193e-02,\n",
       "        -7.33061656e-02, -5.04292473e-02,  1.17557161e-02,  1.94632076e-02,\n",
       "         2.47448380e-03, -3.89630198e-02, -1.49253085e-02, -3.67502272e-02,\n",
       "         2.15331875e-02, -6.35754764e-02, -6.36407547e-03, -4.52710539e-02,\n",
       "        -1.27775548e-02,  5.86370677e-02, -4.74711321e-03,  1.21116163e-02,\n",
       "         3.88029739e-02,  1.26465797e-01, -8.09940845e-02,  2.35088598e-02,\n",
       "         4.35340255e-02,  7.28271529e-02,  1.63350850e-02,  2.08406635e-02,\n",
       "         2.52432209e-02,  2.05174193e-01, -8.85970797e-03,  2.81536430e-02,\n",
       "        -1.91940193e-03,  2.14536879e-02,  2.85690743e-02, -5.54170809e-04,\n",
       "         1.28732072e-02,  1.38844261e-02, -7.63144693e-04,  1.00538554e-02,\n",
       "         1.70671735e-02, -8.80749077e-02, -2.02942807e-02,  1.09583326e-02,\n",
       "         4.29894179e-02,  6.97839865e-03,  1.55665847e-02, -9.57469549e-03,\n",
       "        -5.37406607e-03, -6.91493694e-03, -1.85269024e-02, -3.10894917e-03,\n",
       "         1.88759081e-02,  2.25919839e-02,  8.15938413e-03,  2.20936574e-02,\n",
       "         7.85421431e-02,  1.15219049e-01, -2.40116334e-03,  6.77485997e-03,\n",
       "        -1.58890858e-02,  6.52118474e-02, -8.56549665e-03, -2.20511155e-03,\n",
       "         1.94687843e-02,  3.09284125e-03, -1.81445628e-02,  1.09532066e-02,\n",
       "         6.91677153e-04,  1.01187555e-02, -4.58070263e-03, -9.25655942e-03,\n",
       "        -4.61348658e-03,  2.08639842e-03,  4.92265783e-02, -7.09580490e-05,\n",
       "         3.77921909e-02, -2.12744065e-03, -6.04339037e-03,  1.42631978e-02,\n",
       "         1.95204979e-03,  3.24956514e-02,  2.12993957e-02,  1.49770156e-02,\n",
       "        -7.21095316e-03,  1.36996686e-01,  2.83062067e-02,  2.95334887e-02,\n",
       "         1.16442293e-02, -7.65011134e-03,  4.74831045e-01,  3.28403562e-02],\n",
       "       dtype=float32),\n",
       " array([[ 0.00832554, -0.12625839,  0.14094788, ...,  0.04423987,\n",
       "         -0.07224075,  0.10616849],\n",
       "        [-0.16777992, -0.10300996, -0.04285765, ...,  0.05901429,\n",
       "         -0.02833784, -0.07967739],\n",
       "        [-0.14170717, -0.04457442,  0.14109534, ..., -0.02735009,\n",
       "          0.1361558 , -0.10583428],\n",
       "        ...,\n",
       "        [-0.00705302, -0.10993862,  0.01269878, ...,  0.16450101,\n",
       "         -0.07552675,  0.13480088],\n",
       "        [ 0.3898306 ,  0.15349975, -0.0229771 , ..., -0.1189972 ,\n",
       "         -0.07702032, -0.1432599 ],\n",
       "        [ 0.12060513, -0.17798796, -0.06664845, ..., -0.16220869,\n",
       "          0.11755068, -0.03944201]], dtype=float32),\n",
       " array([-7.9387026e-03, -7.5859852e-02,  2.7863273e-01,  3.2000083e-03,\n",
       "        -2.3584651e-02,  4.2283627e-01,  1.4997724e-01, -4.1446805e-02,\n",
       "        -6.8564810e-02, -5.4186799e-02,  7.2393166e-03, -8.5066080e-02,\n",
       "        -6.3354351e-02, -2.7194912e-02,  2.2510754e-01,  3.2120907e-01,\n",
       "         6.5089329e-03, -6.4756023e-03,  1.2275860e-01, -3.1311899e-02,\n",
       "        -2.7036760e-02, -2.4278589e-02,  2.0486377e-01,  1.0636927e-02,\n",
       "        -1.2654494e-01,  2.3539183e-01, -4.6753500e-02,  3.2859202e-02,\n",
       "         4.0172437e-01,  1.6959982e-01, -3.7229955e-02, -1.5465244e-02,\n",
       "        -1.0187195e-01, -5.0568664e-03,  4.4461557e-01,  2.9947343e-01,\n",
       "        -4.2070303e-02, -4.1362464e-02,  3.8984331e-01,  3.4441072e-01,\n",
       "        -2.0645155e-02,  2.4581827e-01, -3.4232132e-02,  1.8496801e-01,\n",
       "         1.0749590e-01, -7.9007506e-02, -9.9563308e-02, -3.7429326e-03,\n",
       "         1.1207809e-01,  3.3039150e-01, -2.2587452e-02,  2.4068274e-01,\n",
       "        -6.1838061e-02, -5.7794392e-02,  2.3729236e-01, -3.2824624e-02,\n",
       "        -1.7368779e-02, -1.2160248e-01, -2.2983829e-02, -5.7927740e-05,\n",
       "        -1.2922506e-01, -2.5617920e-02, -1.5094952e-02,  2.1956369e-01],\n",
       "       dtype=float32),\n",
       " array([[-0.5301681 ],\n",
       "        [ 0.48134652],\n",
       "        [ 0.3377192 ],\n",
       "        [ 0.0517925 ],\n",
       "        [-0.10056375],\n",
       "        [ 0.5352146 ],\n",
       "        [ 0.18051678],\n",
       "        [-0.32742703],\n",
       "        [-0.21355622],\n",
       "        [-0.18303117],\n",
       "        [-0.15997292],\n",
       "        [-0.19086893],\n",
       "        [-0.98532504],\n",
       "        [-0.22237173],\n",
       "        [ 0.18402359],\n",
       "        [ 0.27498293],\n",
       "        [ 0.04831931],\n",
       "        [ 0.06481022],\n",
       "        [ 0.0879158 ],\n",
       "        [-0.4402139 ],\n",
       "        [-0.05149596],\n",
       "        [-0.46466154],\n",
       "        [ 0.27705517],\n",
       "        [-0.80579525],\n",
       "        [-1.0121304 ],\n",
       "        [ 0.30570048],\n",
       "        [-0.06709731],\n",
       "        [ 0.07443879],\n",
       "        [ 0.4048346 ],\n",
       "        [ 0.2213121 ],\n",
       "        [-0.2444287 ],\n",
       "        [-0.13899317],\n",
       "        [-0.7502361 ],\n",
       "        [-0.05672987],\n",
       "        [ 0.5186605 ],\n",
       "        [ 0.2741657 ],\n",
       "        [-0.10548716],\n",
       "        [-0.31629735],\n",
       "        [ 0.43261135],\n",
       "        [ 0.38931084],\n",
       "        [-0.20774427],\n",
       "        [ 0.27431047],\n",
       "        [ 0.15188628],\n",
       "        [ 0.26639912],\n",
       "        [ 0.17365177],\n",
       "        [-0.25181776],\n",
       "        [-0.23510164],\n",
       "        [-0.19626276],\n",
       "        [ 0.12018573],\n",
       "        [ 0.35343188],\n",
       "        [ 0.16710909],\n",
       "        [ 0.27322334],\n",
       "        [-1.213752  ],\n",
       "        [-0.49011213],\n",
       "        [ 0.44625816],\n",
       "        [-0.07520302],\n",
       "        [-0.07096901],\n",
       "        [-0.21095218],\n",
       "        [-0.19791162],\n",
       "        [-0.00268442],\n",
       "        [-0.41031444],\n",
       "        [-0.2506189 ],\n",
       "        [-0.24525052],\n",
       "        [ 0.2602304 ]], dtype=float32),\n",
       " array([1.917466], dtype=float32)]"
      ]
     },
     "execution_count": 49,
     "metadata": {},
     "output_type": "execute_result"
    }
   ],
   "source": [
    "model.get_weights()"
   ]
  },
  {
   "cell_type": "code",
   "execution_count": 8,
   "id": "7850af6f",
   "metadata": {},
   "outputs": [],
   "source": [
    "eval_df = pd.merge(X_val, y_val, left_index=True, right_index=True)\n",
    "eval_df.to_csv(os.path.join(DATA_DIR,'raw','validation.csv'))\n",
    "eval_df['prediction'] = new_model.predict(eval_df.review).ravel()\n",
    "eval_df['absolute_error'] = (eval_df['prediction'] - eval_df['star']).abs()\n",
    "eval_df.to_csv(os.path.join(DATA_DIR,'output','2.1-LSTM-Validation-Scored.csv'))"
   ]
  },
  {
   "cell_type": "code",
   "execution_count": 50,
   "id": "a3b6af7d",
   "metadata": {},
   "outputs": [],
   "source": [
    "train_df = pd.merge(X_train, y_train, left_index=True, right_index=True)\n",
    "train_df.to_csv(os.path.join(DATA_DIR,'raw','training.csv'))"
   ]
  },
  {
   "cell_type": "code",
   "execution_count": 51,
   "id": "15c74533",
   "metadata": {},
   "outputs": [],
   "source": [
    "test_df = pd.merge(X_test, y_test, left_index=True, right_index=True)\n",
    "test_df.to_csv(os.path.join(DATA_DIR,'raw','test.csv'))"
   ]
  }
 ],
 "metadata": {
  "kernelspec": {
   "display_name": "Python 3 (ipykernel)",
   "language": "python",
   "name": "python3"
  },
  "language_info": {
   "codemirror_mode": {
    "name": "ipython",
    "version": 3
   },
   "file_extension": ".py",
   "mimetype": "text/x-python",
   "name": "python",
   "nbconvert_exporter": "python",
   "pygments_lexer": "ipython3",
   "version": "3.9.10"
  }
 },
 "nbformat": 4,
 "nbformat_minor": 5
}
