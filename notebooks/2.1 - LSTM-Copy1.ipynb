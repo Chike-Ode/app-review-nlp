{
 "cells": [
  {
   "cell_type": "code",
   "execution_count": 2,
   "id": "aceb8a03",
   "metadata": {},
   "outputs": [
    {
     "name": "stderr",
     "output_type": "stream",
     "text": [
      "/opt/conda/lib/python3.9/site-packages/xgboost/compat.py:36: FutureWarning: pandas.Int64Index is deprecated and will be removed from pandas in a future version. Use pandas.Index with the appropriate dtype instead.\n",
      "  from pandas import MultiIndex, Int64Index\n",
      "[nltk_data] Downloading package wordnet to /home/jovyan/nltk_data...\n",
      "[nltk_data]   Package wordnet is already up-to-date!\n",
      "[nltk_data] Downloading package omw-1.4 to /home/jovyan/nltk_data...\n",
      "[nltk_data]   Package omw-1.4 is already up-to-date!\n"
     ]
    },
    {
     "data": {
      "text/plain": [
       "True"
      ]
     },
     "execution_count": 2,
     "metadata": {},
     "output_type": "execute_result"
    }
   ],
   "source": [
    "import datasets as ds\n",
    "import pandas as pd\n",
    "from sklearn.model_selection import train_test_split\n",
    "from sklearn.feature_extraction.text import TfidfVectorizer\n",
    "import os\n",
    "import numpy as np\n",
    "import nltk\n",
    "import xgboost\n",
    "nltk.download('wordnet')\n",
    "nltk.download('omw-1.4')"
   ]
  },
  {
   "cell_type": "code",
   "execution_count": 2,
   "id": "8bff7271",
   "metadata": {},
   "outputs": [
    {
     "data": {
      "text/plain": [
       "'/home/jovyan/projects/vector-nlp/models'"
      ]
     },
     "execution_count": 2,
     "metadata": {},
     "output_type": "execute_result"
    }
   ],
   "source": [
    "CUR_DIR = os.path.abspath(os.curdir)\n",
    "ROOT_DIR = os.path.dirname(CUR_DIR)\n",
    "IMAGES_DIR = os.path.join(ROOT_DIR, \"images\")\n",
    "DATA_DIR = os.path.join(ROOT_DIR, \"data\")\n",
    "MODELS_DIR = os.path.join(ROOT_DIR, \"models\")\n",
    "MODELS_DIR"
   ]
  },
  {
   "cell_type": "code",
   "execution_count": 3,
   "id": "5273dcdc",
   "metadata": {},
   "outputs": [],
   "source": [
    "#ds.list_datasets()"
   ]
  },
  {
   "cell_type": "code",
   "execution_count": 4,
   "id": "c2a06c15",
   "metadata": {},
   "outputs": [
    {
     "name": "stderr",
     "output_type": "stream",
     "text": [
      "Using custom data configuration default\n",
      "Reusing dataset app_reviews (/home/jovyan/.cache/huggingface/datasets/app_reviews/default/0.0.0/20335b51b604b9bc04b7be253cd8445caa9ba93f15f39a4b0492b9e9102853de)\n"
     ]
    }
   ],
   "source": [
    "app_dataset = ds.load_dataset('app_reviews',split='train')\n",
    "app_df = app_dataset.to_pandas()\n",
    "app_df['review_ls'] = app_df['review'].apply(lambda x: x.split(\" \"))\n",
    "vocabulary = list(itertools.chain(*app_df['review_ls']))"
   ]
  },
  {
   "cell_type": "code",
   "execution_count": 5,
   "id": "6ff5087b",
   "metadata": {},
   "outputs": [],
   "source": [
    "# X = app_df['review_lemma']\n",
    "X = app_df['review']\n",
    "y = app_df['star']\n",
    "X_train, X_test, y_train, y_test = train_test_split(X, y, test_size=0.2, random_state=1)\n",
    "\n",
    "X_train, X_val, y_train, y_val = train_test_split(X_train, y_train, test_size=0.25, random_state=1) # 0.25 x 0.8 = 0.2\n",
    "\n",
    "# vect = TfidfVectorizer(max_df=0.8, min_df=2, stop_words='english')\n",
    "# X_train = vect.fit_transform(X_train)\n",
    "# X_test = vect.transform(X_test)\n",
    "# X_val = vect.transform(X_val)"
   ]
  },
  {
   "cell_type": "code",
   "execution_count": 6,
   "id": "ba26fb49",
   "metadata": {},
   "outputs": [
    {
     "name": "stderr",
     "output_type": "stream",
     "text": [
      "2022-03-07 02:37:35.148737: W tensorflow/stream_executor/platform/default/dso_loader.cc:64] Could not load dynamic library 'libcuda.so.1'; dlerror: libcuda.so.1: cannot open shared object file: No such file or directory\n",
      "2022-03-07 02:37:35.148798: W tensorflow/stream_executor/cuda/cuda_driver.cc:269] failed call to cuInit: UNKNOWN ERROR (303)\n",
      "2022-03-07 02:37:35.148820: I tensorflow/stream_executor/cuda/cuda_diagnostics.cc:156] kernel driver does not appear to be running on this host (42b10f96906e): /proc/driver/nvidia/version does not exist\n",
      "2022-03-07 02:37:35.149052: I tensorflow/core/platform/cpu_feature_guard.cc:142] This TensorFlow binary is optimized with oneAPI Deep Neural Network Library (oneDNN) to use the following CPU instructions in performance-critical operations:  SSE4.1 SSE4.2 AVX AVX2 FMA\n",
      "To enable them in other operations, rebuild TensorFlow with the appropriate compiler flags.\n",
      "2022-03-07 02:37:35.223593: I tensorflow/compiler/mlir/mlir_graph_optimization_pass.cc:185] None of the MLIR Optimization Passes are enabled (registered 2)\n"
     ]
    }
   ],
   "source": [
    "# from collections import Counter\n",
    "# results = Counter(app_df.review_clean)\n",
    "VOCAB_SIZE = len(vocabulary)\n",
    "encoder = tf.keras.layers.TextVectorization(\n",
    "    max_tokens=VOCAB_SIZE)\n",
    "encoder.adapt(X_train)"
   ]
  },
  {
   "cell_type": "code",
   "execution_count": 7,
   "id": "717e8e62",
   "metadata": {},
   "outputs": [
    {
     "data": {
      "text/plain": [
       "array(['', '[UNK]', 'the', ..., '00006', '00002323', '0000000000000'],\n",
       "      dtype='<U474')"
      ]
     },
     "execution_count": 7,
     "metadata": {},
     "output_type": "execute_result"
    }
   ],
   "source": [
    "np.array(encoder.get_vocabulary())"
   ]
  },
  {
   "cell_type": "code",
   "execution_count": 8,
   "id": "69167e2f",
   "metadata": {},
   "outputs": [],
   "source": [
    "model = tf.keras.Sequential([\n",
    "    encoder,\n",
    "    tf.keras.layers.Embedding(\n",
    "        input_dim=len(encoder.get_vocabulary()),\n",
    "        output_dim=64),\n",
    "    tf.keras.layers.Bidirectional(tf.keras.layers.LSTM(64)),\n",
    "    tf.keras.layers.Dense(64, activation='relu'),\n",
    "    tf.keras.layers.Dense(1)\n",
    "])"
   ]
  },
  {
   "cell_type": "code",
   "execution_count": 9,
   "id": "357e314e",
   "metadata": {},
   "outputs": [],
   "source": [
    "model.compile(loss = tf.keras.losses.mae, #mae stands for mean absolute error\n",
    "              optimizer = tf.keras.optimizers.SGD(), #stochastic GD\n",
    "              metrics = ['mae'])"
   ]
  },
  {
   "cell_type": "code",
   "execution_count": 10,
   "id": "21c7001a",
   "metadata": {
    "scrolled": false
   },
   "outputs": [
    {
     "name": "stdout",
     "output_type": "stream",
     "text": [
      "Epoch 1/10\n",
      "5402/5402 [==============================] - 338s 62ms/step - loss: 1.0068 - mae: 1.0068 - val_loss: 0.9348 - val_mae: 0.9348\n",
      "Epoch 2/10\n",
      "5402/5402 [==============================] - 382s 71ms/step - loss: 0.8625 - mae: 0.8625 - val_loss: 0.7610 - val_mae: 0.7610\n",
      "Epoch 3/10\n",
      "5402/5402 [==============================] - 355s 66ms/step - loss: 0.7354 - mae: 0.7354 - val_loss: 0.6927 - val_mae: 0.6927\n",
      "Epoch 4/10\n",
      "5402/5402 [==============================] - 358s 66ms/step - loss: 0.6880 - mae: 0.6880 - val_loss: 0.6869 - val_mae: 0.6869\n",
      "Epoch 5/10\n",
      "5402/5402 [==============================] - 333s 62ms/step - loss: 0.6641 - mae: 0.6641 - val_loss: 0.6921 - val_mae: 0.6921\n",
      "Epoch 6/10\n",
      "5402/5402 [==============================] - 316s 58ms/step - loss: 0.6459 - mae: 0.6459 - val_loss: 0.6742 - val_mae: 0.6742\n",
      "Epoch 7/10\n",
      "5402/5402 [==============================] - 327s 61ms/step - loss: 0.6319 - mae: 0.6319 - val_loss: 0.6469 - val_mae: 0.6469\n",
      "Epoch 8/10\n",
      "5402/5402 [==============================] - 326s 60ms/step - loss: 0.6198 - mae: 0.6198 - val_loss: 0.6296 - val_mae: 0.6296\n",
      "Epoch 9/10\n",
      "5402/5402 [==============================] - 323s 60ms/step - loss: 0.6092 - mae: 0.6092 - val_loss: 0.6738 - val_mae: 0.6738\n",
      "Epoch 10/10\n",
      "5402/5402 [==============================] - 323s 60ms/step - loss: 0.5991 - mae: 0.5991 - val_loss: 0.6471 - val_mae: 0.6471\n"
     ]
    }
   ],
   "source": [
    "history = model.fit(X_train, y_train, \n",
    "                    epochs=10, \n",
    "                    validation_data=(X_test, y_test))"
   ]
  },
  {
   "cell_type": "code",
   "execution_count": 11,
   "id": "9f10adcb",
   "metadata": {},
   "outputs": [
    {
     "name": "stdout",
     "output_type": "stream",
     "text": [
      "1801/1801 [==============================] - 33s 18ms/step - loss: 0.6530 - mae: 0.6530\n"
     ]
    },
    {
     "data": {
      "text/plain": [
       "[0.65303635597229, 0.65303635597229]"
      ]
     },
     "execution_count": 11,
     "metadata": {},
     "output_type": "execute_result"
    }
   ],
   "source": [
    "model.evaluate(X_val, y_val)  "
   ]
  },
  {
   "cell_type": "code",
   "execution_count": 12,
   "id": "d583bd13",
   "metadata": {},
   "outputs": [],
   "source": [
    "y_pred = model.predict(X_val)"
   ]
  },
  {
   "cell_type": "code",
   "execution_count": 13,
   "id": "f44c4264",
   "metadata": {},
   "outputs": [
    {
     "data": {
      "text/plain": [
       "0.653036"
      ]
     },
     "execution_count": 13,
     "metadata": {},
     "output_type": "execute_result"
    }
   ],
   "source": [
    "from sklearn.metrics import mean_absolute_error\n",
    "mean_absolute_error(y_val, y_pred)"
   ]
  },
  {
   "cell_type": "code",
   "execution_count": 14,
   "id": "18bb2a6d",
   "metadata": {},
   "outputs": [
    {
     "name": "stdout",
     "output_type": "stream",
     "text": [
      "1.2706896\n",
      "1.1272486889176518\n"
     ]
    }
   ],
   "source": [
    "from sklearn.metrics import mean_squared_error\n",
    "import math\n",
    "print(mean_squared_error(y_val, y_pred))\n",
    "print(math.sqrt(mean_squared_error(y_val, y_pred)))"
   ]
  },
  {
   "cell_type": "code",
   "execution_count": 15,
   "id": "b1236eb3",
   "metadata": {},
   "outputs": [
    {
     "data": {
      "text/plain": [
       "array([5.0499935], dtype=float32)"
      ]
     },
     "execution_count": 15,
     "metadata": {},
     "output_type": "execute_result"
    }
   ],
   "source": [
    "max(y_pred)"
   ]
  },
  {
   "cell_type": "code",
   "execution_count": 16,
   "id": "0d46913e",
   "metadata": {},
   "outputs": [
    {
     "data": {
      "text/plain": [
       "array([-0.15610754], dtype=float32)"
      ]
     },
     "execution_count": 16,
     "metadata": {},
     "output_type": "execute_result"
    }
   ],
   "source": [
    "min(y_pred)"
   ]
  },
  {
   "cell_type": "code",
   "execution_count": 17,
   "id": "7c503047",
   "metadata": {},
   "outputs": [
    {
     "name": "stdout",
     "output_type": "stream",
     "text": [
      "Model: \"sequential\"\n",
      "_________________________________________________________________\n",
      "Layer (type)                 Output Shape              Param #   \n",
      "=================================================================\n",
      "text_vectorization (TextVect (None, None)              0         \n",
      "_________________________________________________________________\n",
      "embedding (Embedding)        (None, None, 64)          4385152   \n",
      "_________________________________________________________________\n",
      "bidirectional (Bidirectional (None, 128)               66048     \n",
      "_________________________________________________________________\n",
      "dense (Dense)                (None, 64)                8256      \n",
      "_________________________________________________________________\n",
      "dense_1 (Dense)              (None, 1)                 65        \n",
      "=================================================================\n",
      "Total params: 4,459,521\n",
      "Trainable params: 4,459,521\n",
      "Non-trainable params: 0\n",
      "_________________________________________________________________\n"
     ]
    }
   ],
   "source": [
    "model.summary()"
   ]
  },
  {
   "cell_type": "code",
   "execution_count": 18,
   "id": "780ae5a4",
   "metadata": {},
   "outputs": [
    {
     "name": "stderr",
     "output_type": "stream",
     "text": [
      "2022-03-07 03:35:23.959751: W tensorflow/python/util/util.cc:348] Sets are not currently considered sequences, but this may change in the future, so consider avoiding using them.\n",
      "WARNING:absl:Found untraced functions such as lstm_cell_1_layer_call_fn, lstm_cell_1_layer_call_and_return_conditional_losses, lstm_cell_2_layer_call_fn, lstm_cell_2_layer_call_and_return_conditional_losses, lstm_cell_1_layer_call_fn while saving (showing 5 of 10). These functions will not be directly callable after loading.\n"
     ]
    },
    {
     "name": "stdout",
     "output_type": "stream",
     "text": [
      "INFO:tensorflow:Assets written to: /home/jovyan/projects/vector-nlp/models/2.1-LSTM_TFIDF/assets\n"
     ]
    },
    {
     "name": "stderr",
     "output_type": "stream",
     "text": [
      "INFO:tensorflow:Assets written to: /home/jovyan/projects/vector-nlp/models/2.1-LSTM_TFIDF/assets\n"
     ]
    }
   ],
   "source": [
    "model.save(os.path.join(MODELS_DIR,'2.1-LSTM_TFIDF'))"
   ]
  },
  {
   "cell_type": "code",
   "execution_count": 19,
   "id": "07365aad",
   "metadata": {},
   "outputs": [
    {
     "name": "stdout",
     "output_type": "stream",
     "text": [
      "Model: \"sequential\"\n",
      "_________________________________________________________________\n",
      "Layer (type)                 Output Shape              Param #   \n",
      "=================================================================\n",
      "text_vectorization (TextVect (None, None)              0         \n",
      "_________________________________________________________________\n",
      "embedding (Embedding)        (None, None, 64)          4385152   \n",
      "_________________________________________________________________\n",
      "bidirectional (Bidirectional (None, 128)               66048     \n",
      "_________________________________________________________________\n",
      "dense (Dense)                (None, 64)                8256      \n",
      "_________________________________________________________________\n",
      "dense_1 (Dense)              (None, 1)                 65        \n",
      "=================================================================\n",
      "Total params: 4,459,521\n",
      "Trainable params: 4,459,521\n",
      "Non-trainable params: 0\n",
      "_________________________________________________________________\n"
     ]
    }
   ],
   "source": [
    "new_model = tf.keras.models.load_model(os.path.join(MODELS_DIR,'2.1-LSTM_TFIDF'))\n",
    "new_model.summary()"
   ]
  },
  {
   "cell_type": "code",
   "execution_count": 33,
   "id": "be1cee57",
   "metadata": {},
   "outputs": [
    {
     "data": {
      "image/png": "[encoded data removed]",
      "text/plain": [
       "<IPython.core.display.Image object>"
      ]
     },
     "execution_count": 33,
     "metadata": {},
     "output_type": "execute_result"
    }
   ],
   "source": [
    "plot_model(model,os.path.join(IMAGES_DIR,'2.1-LSTM_MODEL_PLOT.png'),show_shapes=True, show_dtype=True,\n",
    "    show_layer_names=True, rankdir='TB', expand_nested=True, dpi=96)"
   ]
  },
  {
   "cell_type": "code",
   "execution_count": 45,
   "id": "17793923",
   "metadata": {},
   "outputs": [
    {
     "data": {
      "text/html": [
       "<div>\n",
       "<style scoped>\n",
       "    .dataframe tbody tr th:only-of-type {\n",
       "        vertical-align: middle;\n",
       "    }\n",
       "\n",
       "    .dataframe tbody tr th {\n",
       "        vertical-align: top;\n",
       "    }\n",
       "\n",
       "    .dataframe thead th {\n",
       "        text-align: right;\n",
       "    }\n",
       "</style>\n",
       "<table border=\"1\" class=\"dataframe\">\n",
       "  <thead>\n",
       "    <tr style=\"text-align: right;\">\n",
       "      <th></th>\n",
       "      <th>review</th>\n",
       "      <th>star</th>\n",
       "      <th>prediction</th>\n",
       "      <th>absolute_error</th>\n",
       "    </tr>\n",
       "  </thead>\n",
       "  <tbody>\n",
       "    <tr>\n",
       "      <th>179623</th>\n",
       "      <td>Very good</td>\n",
       "      <td>5</td>\n",
       "      <td>5.017479</td>\n",
       "      <td>0.017479</td>\n",
       "    </tr>\n",
       "    <tr>\n",
       "      <th>236041</th>\n",
       "      <td>Well work. Need updates.</td>\n",
       "      <td>3</td>\n",
       "      <td>3.620065</td>\n",
       "      <td>0.620065</td>\n",
       "    </tr>\n",
       "    <tr>\n",
       "      <th>222198</th>\n",
       "      <td>Greatest application</td>\n",
       "      <td>5</td>\n",
       "      <td>5.024105</td>\n",
       "      <td>0.024105</td>\n",
       "    </tr>\n",
       "    <tr>\n",
       "      <th>190249</th>\n",
       "      <td>Free store Another</td>\n",
       "      <td>5</td>\n",
       "      <td>5.027055</td>\n",
       "      <td>0.027055</td>\n",
       "    </tr>\n",
       "    <tr>\n",
       "      <th>209847</th>\n",
       "      <td>Fabulous</td>\n",
       "      <td>3</td>\n",
       "      <td>5.033536</td>\n",
       "      <td>2.033536</td>\n",
       "    </tr>\n",
       "    <tr>\n",
       "      <th>...</th>\n",
       "      <td>...</td>\n",
       "      <td>...</td>\n",
       "      <td>...</td>\n",
       "      <td>...</td>\n",
       "    </tr>\n",
       "    <tr>\n",
       "      <th>72870</th>\n",
       "      <td>Uploading problem This mobile reporting applic...</td>\n",
       "      <td>1</td>\n",
       "      <td>3.854673</td>\n",
       "      <td>2.854673</td>\n",
       "    </tr>\n",
       "    <tr>\n",
       "      <th>286328</th>\n",
       "      <td>Epub format not picking I've used this app for...</td>\n",
       "      <td>3</td>\n",
       "      <td>1.417408</td>\n",
       "      <td>1.582592</td>\n",
       "    </tr>\n",
       "    <tr>\n",
       "      <th>140683</th>\n",
       "      <td>No persian languge It is good but there is per...</td>\n",
       "      <td>4</td>\n",
       "      <td>2.812909</td>\n",
       "      <td>1.187091</td>\n",
       "    </tr>\n",
       "    <tr>\n",
       "      <th>188443</th>\n",
       "      <td>Rajon Dhaka</td>\n",
       "      <td>5</td>\n",
       "      <td>4.491194</td>\n",
       "      <td>0.508806</td>\n",
       "    </tr>\n",
       "    <tr>\n",
       "      <th>267585</th>\n",
       "      <td>Nice app</td>\n",
       "      <td>5</td>\n",
       "      <td>5.021367</td>\n",
       "      <td>0.021367</td>\n",
       "    </tr>\n",
       "  </tbody>\n",
       "</table>\n",
       "<p>57613 rows × 4 columns</p>\n",
       "</div>"
      ],
      "text/plain": [
       "                                                   review  star  prediction  \\\n",
       "179623                                          Very good     5    5.017479   \n",
       "236041                           Well work. Need updates.     3    3.620065   \n",
       "222198                               Greatest application     5    5.024105   \n",
       "190249                                 Free store Another     5    5.027055   \n",
       "209847                                           Fabulous     3    5.033536   \n",
       "...                                                   ...   ...         ...   \n",
       "72870   Uploading problem This mobile reporting applic...     1    3.854673   \n",
       "286328  Epub format not picking I've used this app for...     3    1.417408   \n",
       "140683  No persian languge It is good but there is per...     4    2.812909   \n",
       "188443                                        Rajon Dhaka     5    4.491194   \n",
       "267585                                           Nice app     5    5.021367   \n",
       "\n",
       "        absolute_error  \n",
       "179623        0.017479  \n",
       "236041        0.620065  \n",
       "222198        0.024105  \n",
       "190249        0.027055  \n",
       "209847        2.033536  \n",
       "...                ...  \n",
       "72870         2.854673  \n",
       "286328        1.582592  \n",
       "140683        1.187091  \n",
       "188443        0.508806  \n",
       "267585        0.021367  \n",
       "\n",
       "[57613 rows x 4 columns]"
      ]
     },
     "execution_count": 45,
     "metadata": {},
     "output_type": "execute_result"
    }
   ],
   "source": [
    "eval_df = pd.merge(X_val, y_val, left_index=True, right_index=True)\n",
    "eval_df['prediction'] = model.predict(eval_df.review).ravel()\n",
    "eval_df['absolute_error'] = (eval_df['prediction'] - eval_df['star']).abs()\n",
    "eval_df"
   ]
  }
 ],
 "metadata": {
  "kernelspec": {
   "display_name": "Python 3 (ipykernel)",
   "language": "python",
   "name": "python3"
  },
  "language_info": {
   "codemirror_mode": {
    "name": "ipython",
    "version": 3
   },
   "file_extension": ".py",
   "mimetype": "text/x-python",
   "name": "python",
   "nbconvert_exporter": "python",
   "pygments_lexer": "ipython3",
   "version": "3.9.10"
  }
 },
 "nbformat": 4,
 "nbformat_minor": 5
}
