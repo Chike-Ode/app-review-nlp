{
 "cells": [
  {
   "cell_type": "markdown",
   "id": "61db35b9-8772-4e85-92d7-b5433d2763c5",
   "metadata": {},
   "source": [
    "# Seq2Vec Sentiment Modeling in Tensorflow"
   ]
  },
  {
   "cell_type": "markdown",
   "id": "97e0df3f-b1f7-4568-9f97-465fa6213fa0",
   "metadata": {},
   "source": [
    "## 1.0 - Import Packages"
   ]
  },
  {
   "cell_type": "code",
   "execution_count": 1,
   "id": "aceb8a03",
   "metadata": {},
   "outputs": [
    {
     "name": "stderr",
     "output_type": "stream",
     "text": [
      "/opt/conda/lib/python3.9/site-packages/xgboost/compat.py:36: FutureWarning: pandas.Int64Index is deprecated and will be removed from pandas in a future version. Use pandas.Index with the appropriate dtype instead.\n",
      "  from pandas import MultiIndex, Int64Index\n"
     ]
    }
   ],
   "source": [
    "import tensorflow as tf\n",
    "from tensorflow import keras\n",
    "from tensorflow.keras import layers\n",
    "from tensorflow.keras import losses\n",
    "from tensorflow.keras import regularizers\n",
    "import matplotlib.pyplot as plt\n",
    "import tensorflow_hub as hub\n",
    "import pandas as pd\n",
    "from sklearn.metrics import mean_absolute_error\n",
    "from keras import backend as K\n",
    "from keras.layers import Dropout\n",
    "import os\n",
    "import numpy as np\n",
    "import seaborn as sns\n",
    "import sys\n",
    "module_path = os.path.abspath(os.path.join('..'))\n",
    "if module_path not in sys.path:\n",
    "    sys.path.append(module_path)\n",
    "from src.utils import *\n",
    "import itertools\n",
    "# from imblearn.over_sampling import SMOTE"
   ]
  },
  {
   "cell_type": "code",
   "execution_count": 2,
   "id": "8bff7271",
   "metadata": {},
   "outputs": [],
   "source": [
    "CUR_DIR = os.path.abspath(os.curdir)\n",
    "ROOT_DIR = os.path.dirname(CUR_DIR)\n",
    "IMAGES_DIR = os.path.join(ROOT_DIR, \"images\")\n",
    "DATA_DIR = os.path.join(ROOT_DIR, \"data\")\n",
    "MODELS_DIR = os.path.join(ROOT_DIR, \"models\")\n",
    "EVAL_DIR = os.path.join(ROOT_DIR, \"evaluation\")\n",
    "MODEL_PERF_DIR = os.path.join(EVAL_DIR, \"model_performance\")\n",
    "GRAPHS_DIR = os.path.join(EVAL_DIR, \"graphs\")\n",
    "writepath = os.path.join(MODEL_PERF_DIR, \"performance.csv\")"
   ]
  },
  {
   "cell_type": "markdown",
   "id": "c51e122e-0f29-4a5c-a392-91b014a72bfd",
   "metadata": {
    "tags": []
   },
   "source": [
    "## 1.1 Import Data "
   ]
  },
  {
   "cell_type": "code",
   "execution_count": 3,
   "id": "c2a06c15",
   "metadata": {},
   "outputs": [
    {
     "name": "stderr",
     "output_type": "stream",
     "text": [
      "2022-03-16 13:53:45.534636: W tensorflow/stream_executor/platform/default/dso_loader.cc:64] Could not load dynamic library 'libcuda.so.1'; dlerror: libcuda.so.1: cannot open shared object file: No such file or directory\n",
      "2022-03-16 13:53:45.535035: W tensorflow/stream_executor/cuda/cuda_driver.cc:269] failed call to cuInit: UNKNOWN ERROR (303)\n",
      "2022-03-16 13:53:45.535129: I tensorflow/stream_executor/cuda/cuda_diagnostics.cc:156] kernel driver does not appear to be running on this host (42b10f96906e): /proc/driver/nvidia/version does not exist\n",
      "2022-03-16 13:53:45.536315: I tensorflow/core/platform/cpu_feature_guard.cc:142] This TensorFlow binary is optimized with oneAPI Deep Neural Network Library (oneDNN) to use the following CPU instructions in performance-critical operations:  SSE4.1 SSE4.2 AVX AVX2 FMA\n",
      "To enable them in other operations, rebuild TensorFlow with the appropriate compiler flags.\n"
     ]
    }
   ],
   "source": [
    "validation_df = pd.read_csv(os.path.join(DATA_DIR,'raw','validation.csv'))\n",
    "training_df = pd.read_csv(os.path.join(DATA_DIR,'raw','training_balanced.csv'))\n",
    "test_df = pd.read_csv(os.path.join(DATA_DIR,'raw','test.csv'))\n",
    "\n",
    "X_train = training_df['review']\n",
    "y_train = training_df['star']\n",
    "      \n",
    "X_val = validation_df['review']\n",
    "y_val = validation_df['star']\n",
    "\n",
    "X_test = test_df['review']\n",
    "y_test = test_df['star']\n",
    "\n",
    "# Convert to tensorflow datasets\n",
    "train_ds = tf.data.Dataset.from_tensor_slices((X_train,y_train)).shuffle(buffer_size=1024).batch(128)\n",
    "test_ds = tf.data.Dataset.from_tensor_slices((X_test,y_test)).shuffle(buffer_size=1024).batch(128) \n",
    "val_ds = tf.data.Dataset.from_tensor_slices((X_val,y_val)).shuffle(buffer_size=1024).batch(128)"
   ]
  },
  {
   "cell_type": "markdown",
   "id": "08a75aba-54fc-4f10-99b3-8de633ea1650",
   "metadata": {},
   "source": [
    "## 2.0 Create embedding layer & Build simple model"
   ]
  },
  {
   "cell_type": "code",
   "execution_count": 4,
   "id": "65927447-3d22-4e1b-bcdc-b0e72cab15d3",
   "metadata": {},
   "outputs": [
    {
     "name": "stderr",
     "output_type": "stream",
     "text": [
      "2022-03-16 13:53:53.183476: I tensorflow/compiler/mlir/mlir_graph_optimization_pass.cc:185] None of the MLIR Optimization Passes are enabled (registered 2)\n"
     ]
    }
   ],
   "source": [
    "training_df['review_ls'] = training_df['review'].apply(lambda x: x.split(\" \"))\n",
    "vocabulary = list(itertools.chain(*training_df['review_ls']))\n",
    "VOCAB_SIZE = len(vocabulary)\n",
    "encoder = tf.keras.layers.TextVectorization(\n",
    "    max_tokens=VOCAB_SIZE)\n",
    "\n",
    "callback = tf.keras.callbacks.EarlyStopping(monitor='val_mae', patience=3)\n",
    "encoder.adapt(X_train)"
   ]
  },
  {
   "cell_type": "markdown",
   "id": "626b305f-6f43-4e63-8fe7-8b41b984c3df",
   "metadata": {},
   "source": [
    "## Baseline"
   ]
  },
  {
   "cell_type": "code",
   "execution_count": null,
   "id": "a7011dbe-f60a-47cd-b618-a8c8cf9e93b4",
   "metadata": {},
   "outputs": [],
   "source": [
    "epochs = 100\n",
    "\n",
    "base_model = keras.Sequential([\n",
    "        encoder,\n",
    "        tf.keras.layers.Embedding(\n",
    "        input_dim=len(encoder.get_vocabulary()),\n",
    "        output_dim=64),\n",
    "        layers.Dense(20,activation='relu', dtype=tf.float32),\n",
    "        layers.Dense(1,activation=relu_advanced)],name='2.7-Base-No-Reg-Balance-Trained')\n",
    "\n",
    "base_model.compile(loss=tf.keras.losses.MeanSquaredError(),\n",
    "                   optimizer=keras.optimizers.Adam(lr=0.0003,decay=1e-6),\n",
    "                   metrics=['mae'])\n",
    "\n",
    "\n",
    "base_history = base_model.fit(train_ds,\n",
    "                    epochs = epochs,\n",
    "                    validation_data=val_ds,\n",
    "                    callbacks=[callback],\n",
    "                    verbose=1)"
   ]
  },
  {
   "cell_type": "code",
   "execution_count": null,
   "id": "b983904f-78c5-4f03-8cbb-c2cb5163cb56",
   "metadata": {},
   "outputs": [],
   "source": [
    "plot_loss(base_history,base_model)"
   ]
  },
  {
   "cell_type": "code",
   "execution_count": null,
   "id": "e6499e44-c265-431d-965f-24914e455287",
   "metadata": {},
   "outputs": [],
   "source": [
    "performance_evaluation(X_test, y_test, base_model)"
   ]
  },
  {
   "cell_type": "code",
   "execution_count": null,
   "id": "4ef54c98-273f-42dd-baab-20b740d1c7ed",
   "metadata": {},
   "outputs": [],
   "source": [
    "plot_model_path = os.path.join(IMAGES_DIR, f'plot_model_{base_model.name}.png')\n",
    "tf.keras.utils.plot_model(base_model, to_file=plot_model_path ,show_shapes=True, show_dtype=True,\n",
    "    show_layer_names=True, rankdir='TB', expand_nested=True, dpi=96)"
   ]
  },
  {
   "cell_type": "code",
   "execution_count": null,
   "id": "780ae5a4",
   "metadata": {},
   "outputs": [],
   "source": [
    "base_model.save(os.path.join(MODELS_DIR,base_model.name))"
   ]
  },
  {
   "cell_type": "markdown",
   "id": "90d22bea-5d18-41fa-ab37-4be30c0c69a2",
   "metadata": {
    "tags": []
   },
   "source": [
    "## RNN"
   ]
  },
  {
   "cell_type": "code",
   "execution_count": null,
   "id": "2cccfc50-5273-4c20-a693-ce3958ef3527",
   "metadata": {},
   "outputs": [],
   "source": [
    "embed\n",
    "embed(X_train).shape"
   ]
  },
  {
   "cell_type": "code",
   "execution_count": null,
   "id": "586aa595-0921-4789-bd7d-c1d1df95306a",
   "metadata": {},
   "outputs": [],
   "source": [
    "rnn_model = tf.keras.Sequential([\n",
    "    encoder,\n",
    "    tf.keras.layers.Embedding(\n",
    "        input_dim=len(encoder.get_vocabulary()),\n",
    "        output_dim=64),\n",
    "    layers.SimpleRNN(30, activation='tanh',return_sequences=False),\n",
    "    layers.Dense(1,activation=relu_advanced)\n",
    "],name='2.7-RNN-No-Reg-Balance-Trained')\n",
    "\n",
    "rnn_model.compile(loss=tf.keras.losses.MeanSquaredError(),\n",
    "              optimizer=tf.keras.optimizers.Adam(learning_rate=0.001),\n",
    "              metrics=['mae'])\n",
    "\n",
    "num_epochs=100\n",
    "rnn_history=rnn_model.fit(train_ds, \n",
    "                          epochs=num_epochs, \n",
    "                          validation_data = val_ds, \n",
    "                          callbacks=[callback],\n",
    "                          verbose=1)"
   ]
  },
  {
   "cell_type": "code",
   "execution_count": null,
   "id": "23adecbb-6164-408c-9c23-1302569b1763",
   "metadata": {},
   "outputs": [],
   "source": [
    "rnn_model.summary()"
   ]
  },
  {
   "cell_type": "code",
   "execution_count": null,
   "id": "39e42a05-3ba6-46e7-bca0-bc6a1239d965",
   "metadata": {},
   "outputs": [],
   "source": [
    "plot_loss(rnn_history,rnn_model)"
   ]
  },
  {
   "cell_type": "code",
   "execution_count": null,
   "id": "1b662f69-c74f-49a0-80ee-1d76bb7e5170",
   "metadata": {},
   "outputs": [],
   "source": [
    "performance_evaluation(X_test, y_test, rnn_model)"
   ]
  },
  {
   "cell_type": "code",
   "execution_count": null,
   "id": "8d2b0d60-37ed-4602-8652-0022e9576708",
   "metadata": {},
   "outputs": [],
   "source": [
    "plot_model_path = os.path.join(IMAGES_DIR, f'plot_model_{rnn_model.name}.png')\n",
    "tf.keras.utils.plot_model(rnn_model, to_file=plot_model_path ,show_shapes=True, show_dtype=True,\n",
    "    show_layer_names=True, rankdir='TB', expand_nested=True, dpi=96)"
   ]
  },
  {
   "cell_type": "code",
   "execution_count": null,
   "id": "32c6d0ff-6823-4db3-b21f-0d49b849cc26",
   "metadata": {},
   "outputs": [],
   "source": [
    "rnn_model.save(os.path.join(MODELS_DIR,rnn_model.name))"
   ]
  },
  {
   "cell_type": "code",
   "execution_count": null,
   "id": "ff5d87fc-241c-48e1-b506-7bd809400191",
   "metadata": {},
   "outputs": [],
   "source": [
    "# max(y_pred)"
   ]
  },
  {
   "cell_type": "code",
   "execution_count": null,
   "id": "899c0c0b-9c99-47dd-9b6f-e6f9190a97f3",
   "metadata": {},
   "outputs": [],
   "source": [
    "gru_model = tf.keras.Sequential([\n",
    "    encoder,\n",
    "    tf.keras.layers.Embedding(\n",
    "        input_dim=len(encoder.get_vocabulary()),\n",
    "        output_dim=64),\n",
    "    layers.GRU(64, activation='tanh',return_sequences=False),\n",
    "    layers.Dense(5,activation='tanh'),\n",
    "    layers.Dense(1,activation=relu_advanced)\n",
    "],name='2.2-GRU-No-Reg-Balance-Swivel')\n",
    "gru_model.compile(loss='mse',\n",
    "              optimizer=tf.keras.optimizers.Adam(learning_rate=0.001),\n",
    "              metrics=['mae'])\n",
    "\n",
    "num_epochs=100\n",
    "gru_history=gru_model.fit(train_ds,\n",
    "                          epochs=num_epochs, \n",
    "                          validation_data = val_ds, \n",
    "                          callbacks=[callback],\n",
    "                          verbose=1)"
   ]
  },
  {
   "cell_type": "code",
   "execution_count": null,
   "id": "674c93c2-dea0-43d7-b921-044533422886",
   "metadata": {},
   "outputs": [],
   "source": [
    "gru_model.save(os.path.join(MODELS_DIR,gru_model.name))"
   ]
  },
  {
   "cell_type": "code",
   "execution_count": null,
   "id": "634d4536-da28-4843-8f24-d7667a5ea0b7",
   "metadata": {},
   "outputs": [],
   "source": [
    "plot_loss(gru_history,gru_model)"
   ]
  },
  {
   "cell_type": "code",
   "execution_count": null,
   "id": "38f1b8b9-aee9-4bc6-bde8-00097290af17",
   "metadata": {},
   "outputs": [],
   "source": [
    "performance_evaluation(X_test, y_test, gru_model)"
   ]
  },
  {
   "cell_type": "code",
   "execution_count": null,
   "id": "602031d5-2f09-4bbb-a72a-f5a7d5caa908",
   "metadata": {},
   "outputs": [],
   "source": [
    "plot_model_path = os.path.join(IMAGES_DIR, f'plot_model_{gru_model.name}.png')\n",
    "tf.keras.utils.plot_model(gru_model, to_file=plot_model_path ,show_shapes=True, show_dtype=True,\n",
    "    show_layer_names=True, rankdir='TB', expand_nested=True, dpi=96)"
   ]
  },
  {
   "cell_type": "markdown",
   "id": "e83a344f-40d6-42a6-afaf-3deccd2fcd9f",
   "metadata": {},
   "source": [
    "## LSTM"
   ]
  },
  {
   "cell_type": "code",
   "execution_count": null,
   "id": "e6f7b59f-dffd-4f04-b95d-58a7d6393d18",
   "metadata": {},
   "outputs": [],
   "source": [
    "lstm_model = tf.keras.Sequential([\n",
    "    encoder,\n",
    "    tf.keras.layers.Embedding(\n",
    "        input_dim=len(encoder.get_vocabulary()),\n",
    "        output_dim=64),\n",
    "    layers.LSTM(64, activation='tanh',return_sequences=False),\n",
    "    layers.Dense(5,activation='tanh'),\n",
    "    layers.Dense(1,activation=relu_advanced)\n",
    "],name='2.7-LSTM-No-Reg-Balance-Trained')\n",
    "lstm_model.compile(loss='mse',\n",
    "              optimizer=tf.keras.optimizers.Adam(learning_rate=0.001),\n",
    "              metrics=['mse','mae'])\n",
    "\n",
    "num_epochs=100\n",
    "lstm_history=lstm_model.fit(train_ds,\n",
    "                          epochs=num_epochs, \n",
    "                          validation_data = val_ds, \n",
    "                          callbacks=[callback],\n",
    "                          verbose=1)"
   ]
  },
  {
   "cell_type": "code",
   "execution_count": null,
   "id": "5b769a86-5082-4f0f-a015-d7ff4451a734",
   "metadata": {},
   "outputs": [],
   "source": [
    "performance_evaluation(X_test, y_test, lstm_model)"
   ]
  },
  {
   "cell_type": "code",
   "execution_count": null,
   "id": "16f17eb7-54ab-442a-9e0e-10fafef5932b",
   "metadata": {},
   "outputs": [],
   "source": [
    "plot_loss(lstm_history,lstm_model)"
   ]
  },
  {
   "cell_type": "code",
   "execution_count": null,
   "id": "41a9fb37-b8ce-4d51-82e1-5c34a9c85874",
   "metadata": {},
   "outputs": [],
   "source": [
    "plot_model_path = os.path.join(IMAGES_DIR, f'plot_model_{lstm_model.name}.png')\n",
    "tf.keras.utils.plot_model(lstm_model, to_file=plot_model_path ,show_shapes=True, show_dtype=True,\n",
    "    show_layer_names=True, rankdir='TB', expand_nested=True, dpi=96)"
   ]
  },
  {
   "cell_type": "code",
   "execution_count": null,
   "id": "d686aa94-cade-4679-82d6-6830b20c8806",
   "metadata": {},
   "outputs": [],
   "source": [
    "lstm_model.save(os.path.join(MODELS_DIR,lstm_model.name))"
   ]
  }
 ],
 "metadata": {
  "kernelspec": {
   "display_name": "Python 3 (ipykernel)",
   "language": "python",
   "name": "python3"
  },
  "language_info": {
   "codemirror_mode": {
    "name": "ipython",
    "version": 3
   },
   "file_extension": ".py",
   "mimetype": "text/x-python",
   "name": "python",
   "nbconvert_exporter": "python",
   "pygments_lexer": "ipython3",
   "version": "3.9.10"
  }
 },
 "nbformat": 4,
 "nbformat_minor": 5
}
