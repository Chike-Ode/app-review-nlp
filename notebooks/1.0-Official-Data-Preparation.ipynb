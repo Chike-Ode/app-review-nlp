{
 "cells": [
  {
   "cell_type": "code",
   "execution_count": 1,
   "id": "aceb8a03",
   "metadata": {},
   "outputs": [
    {
     "name": "stderr",
     "output_type": "stream",
     "text": [
      "/opt/conda/lib/python3.9/site-packages/xgboost/compat.py:36: FutureWarning: pandas.Int64Index is deprecated and will be removed from pandas in a future version. Use pandas.Index with the appropriate dtype instead.\n",
      "  from pandas import MultiIndex, Int64Index\n"
     ]
    }
   ],
   "source": [
    "import datasets as ds\n",
    "import pandas as pd\n",
    "import numpy as np\n",
    "from sklearn.model_selection import train_test_split\n",
    "import os\n",
    "import sys\n",
    "module_path = os.path.abspath(os.path.join('..'))\n",
    "if module_path not in sys.path:\n",
    "    sys.path.append(module_path)\n",
    "from src.utils import *"
   ]
  },
  {
   "cell_type": "code",
   "execution_count": 2,
   "id": "8bff7271",
   "metadata": {},
   "outputs": [],
   "source": [
    "DATA_DIR = os.path.join(ROOT_DIR, \"data\")"
   ]
  },
  {
   "cell_type": "code",
   "execution_count": 3,
   "id": "c2a06c15",
   "metadata": {},
   "outputs": [
    {
     "name": "stderr",
     "output_type": "stream",
     "text": [
      "Using custom data configuration default\n",
      "Reusing dataset app_reviews (/home/jovyan/.cache/huggingface/datasets/app_reviews/default/0.0.0/20335b51b604b9bc04b7be253cd8445caa9ba93f15f39a4b0492b9e9102853de)\n"
     ]
    }
   ],
   "source": [
    "app_dataset = ds.load_dataset('app_reviews',split='train')\n",
    "app_df = app_dataset.to_pandas()"
   ]
  },
  {
   "cell_type": "code",
   "execution_count": 4,
   "id": "6ff5087b",
   "metadata": {},
   "outputs": [],
   "source": [
    "X = app_df['review']\n",
    "y = app_df['star']\n",
    "X_train, X_test, y_train, y_test = train_test_split(X, y, test_size=0.2, random_state=1)\n",
    "\n",
    "X_train, X_val, y_train, y_val = train_test_split(X_train, y_train, test_size=0.25, random_state=1) # 0.25 x 0.8 = 0.2\n"
   ]
  },
  {
   "cell_type": "code",
   "execution_count": 5,
   "id": "a3b6af7d",
   "metadata": {},
   "outputs": [],
   "source": [
    "train_df = pd.merge(X_train, y_train, left_index=True, right_index=True)\n",
    "train_df.to_csv(os.path.join(DATA_DIR,'raw','training.csv'))"
   ]
  },
  {
   "cell_type": "code",
   "execution_count": 6,
   "id": "68b1759c-5efc-4307-92dd-0fb1e69e6706",
   "metadata": {},
   "outputs": [
    {
     "name": "stderr",
     "output_type": "stream",
     "text": [
      "/home/jovyan/projects/vector-nlp/src/utils.py:163: FutureWarning: The frame.append method is deprecated and will be removed from pandas in a future version. Use pandas.concat instead.\n",
      "  df = df.append(sub_df)\n",
      "/home/jovyan/projects/vector-nlp/src/utils.py:163: FutureWarning: The frame.append method is deprecated and will be removed from pandas in a future version. Use pandas.concat instead.\n",
      "  df = df.append(sub_df)\n",
      "/home/jovyan/projects/vector-nlp/src/utils.py:163: FutureWarning: The frame.append method is deprecated and will be removed from pandas in a future version. Use pandas.concat instead.\n",
      "  df = df.append(sub_df)\n",
      "/home/jovyan/projects/vector-nlp/src/utils.py:163: FutureWarning: The frame.append method is deprecated and will be removed from pandas in a future version. Use pandas.concat instead.\n",
      "  df = df.append(sub_df)\n"
     ]
    },
    {
     "name": "stdout",
     "output_type": "stream",
     "text": [
      "Done Upsampling\n"
     ]
    },
    {
     "data": {
      "text/plain": [
       "5    104524\n",
       "4    104524\n",
       "1    104524\n",
       "2    104524\n",
       "3    104524\n",
       "Name: star, dtype: int64"
      ]
     },
     "execution_count": 6,
     "metadata": {},
     "output_type": "execute_result"
    }
   ],
   "source": [
    "train_upsampled_df = upsampler(train_df)\n",
    "train_upsampled_df.to_csv(os.path.join(DATA_DIR,'raw','training_balanced.csv'))\n",
    "train_upsampled_df.star.value_counts()"
   ]
  },
  {
   "cell_type": "code",
   "execution_count": 7,
   "id": "15c74533",
   "metadata": {},
   "outputs": [],
   "source": [
    "test_df = pd.merge(X_test, y_test, left_index=True, right_index=True)\n",
    "test_df.to_csv(os.path.join(DATA_DIR,'raw','test.csv'))"
   ]
  }
 ],
 "metadata": {
  "kernelspec": {
   "display_name": "Python 3 (ipykernel)",
   "language": "python",
   "name": "python3"
  },
  "language_info": {
   "codemirror_mode": {
    "name": "ipython",
    "version": 3
   },
   "file_extension": ".py",
   "mimetype": "text/x-python",
   "name": "python",
   "nbconvert_exporter": "python",
   "pygments_lexer": "ipython3",
   "version": "3.9.10"
  }
 },
 "nbformat": 4,
 "nbformat_minor": 5
}
