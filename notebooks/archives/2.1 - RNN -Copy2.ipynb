{
 "cells": [
  {
   "cell_type": "code",
   "execution_count": 1,
   "id": "aceb8a03",
   "metadata": {},
   "outputs": [
    {
     "name": "stderr",
     "output_type": "stream",
     "text": [
      "[nltk_data] Downloading package wordnet to /home/jovyan/nltk_data...\n",
      "[nltk_data]   Package wordnet is already up-to-date!\n",
      "[nltk_data] Downloading package omw-1.4 to /home/jovyan/nltk_data...\n",
      "[nltk_data]   Package omw-1.4 is already up-to-date!\n"
     ]
    },
    {
     "data": {
      "text/plain": [
       "True"
      ]
     },
     "execution_count": 1,
     "metadata": {},
     "output_type": "execute_result"
    }
   ],
   "source": [
    "import datasets as ds\n",
    "import pandas as pd\n",
    "import tensorflow as tf\n",
    "from tensorflow import keras\n",
    "from tensorflow.keras import layers\n",
    "import tensorflow_hub as hub\n",
    "from nltk.stem import PorterStemmer, WordNetLemmatizer\n",
    "from sklearn.model_selection import train_test_split\n",
    "from sklearn.feature_extraction.text import TfidfVectorizer\n",
    "from tensorflow.keras.layers import Dense, Dropout, LSTM\n",
    "from tensorflow.keras.models import Sequential\n",
    "from tensorflow.keras.utils import plot_model\n",
    "import itertools\n",
    "import os\n",
    "import numpy as np\n",
    "import nltk\n",
    "nltk.download('wordnet')\n",
    "nltk.download('omw-1.4')"
   ]
  },
  {
   "cell_type": "code",
   "execution_count": 3,
   "id": "02087bfa",
   "metadata": {},
   "outputs": [
    {
     "name": "stderr",
     "output_type": "stream",
     "text": [
      "2022-03-07 02:18:40.465893: W tensorflow/stream_executor/platform/default/dso_loader.cc:64] Could not load dynamic library 'libcuda.so.1'; dlerror: libcuda.so.1: cannot open shared object file: No such file or directory\n",
      "2022-03-07 02:18:40.467738: W tensorflow/stream_executor/cuda/cuda_driver.cc:269] failed call to cuInit: UNKNOWN ERROR (303)\n",
      "2022-03-07 02:18:40.467977: I tensorflow/stream_executor/cuda/cuda_diagnostics.cc:156] kernel driver does not appear to be running on this host (42b10f96906e): /proc/driver/nvidia/version does not exist\n",
      "2022-03-07 02:18:40.471188: I tensorflow/core/platform/cpu_feature_guard.cc:142] This TensorFlow binary is optimized with oneAPI Deep Neural Network Library (oneDNN) to use the following CPU instructions in performance-critical operations:  SSE4.1 SSE4.2 AVX AVX2 FMA\n",
      "To enable them in other operations, rebuild TensorFlow with the appropriate compiler flags.\n"
     ]
    },
    {
     "data": {
      "image/png": "[encoded data removed]",
      "text/plain": [
       "<IPython.core.display.Image object>"
      ]
     },
     "execution_count": 3,
     "metadata": {},
     "output_type": "execute_result"
    }
   ],
   "source": [
    "model = tf.keras.Sequential([\n",
    "    \n",
    "    \n",
    "    tf.keras.layers.Bidirectional(tf.keras.layers.LSTM(64)),\n",
    "    tf.keras.layers.Dense(64, activation='relu'),\n",
    "    tf.keras.layers.Dense(1)\n",
    "])\n",
    "plot_model(model)"
   ]
  },
  {
   "cell_type": "code",
   "execution_count": 2,
   "id": "8bff7271",
   "metadata": {},
   "outputs": [
    {
     "data": {
      "text/plain": [
       "'/home/jovyan/projects/vector-nlp/data'"
      ]
     },
     "execution_count": 2,
     "metadata": {},
     "output_type": "execute_result"
    }
   ],
   "source": [
    "CUR_DIR = os.path.abspath(os.curdir)\n",
    "ROOT_DIR = os.path.dirname(CUR_DIR)\n",
    "IMAGES_DIR = os.path.join(ROOT_DIR, \"images\")\n",
    "DATA_DIR = os.path.join(ROOT_DIR, \"data\")\n",
    "DATA_DIR"
   ]
  },
  {
   "cell_type": "code",
   "execution_count": 3,
   "id": "5273dcdc",
   "metadata": {},
   "outputs": [],
   "source": [
    "#ds.list_datasets()"
   ]
  },
  {
   "cell_type": "code",
   "execution_count": 3,
   "id": "c2a06c15",
   "metadata": {},
   "outputs": [
    {
     "name": "stderr",
     "output_type": "stream",
     "text": [
      "Using custom data configuration default\n",
      "Reusing dataset app_reviews (/home/jovyan/.cache/huggingface/datasets/app_reviews/default/0.0.0/20335b51b604b9bc04b7be253cd8445caa9ba93f15f39a4b0492b9e9102853de)\n"
     ]
    }
   ],
   "source": [
    "app_dataset = ds.load_dataset('app_reviews',split='train')\n",
    "app_df = app_dataset.to_pandas()\n",
    "app_df['review_ls'] = app_df['review'].apply(lambda x: x.split(\" \"))\n",
    "vocabulary = list(itertools.chain(*app_df['review_ls']))"
   ]
  },
  {
   "cell_type": "code",
   "execution_count": 5,
   "id": "6ff5087b",
   "metadata": {},
   "outputs": [],
   "source": [
    "# X = app_df['review_lemma']\n",
    "X = app_df['review']\n",
    "y = app_df['star']\n",
    "X_train, X_test, y_train, y_test = train_test_split(X, y, test_size=0.2, random_state=1)\n",
    "\n",
    "X_train, X_val, y_train, y_val = train_test_split(X_train, y_train, test_size=0.25, random_state=1) # 0.25 x 0.8 = 0.2\n",
    "\n",
    "# vect = TfidfVectorizer(max_df=0.8, min_df=2, stop_words='english')\n",
    "# X_train = vect.fit_transform(X_train)\n",
    "# X_test = vect.transform(X_test)\n",
    "# X_val = vect.transform(X_val)"
   ]
  },
  {
   "cell_type": "code",
   "execution_count": 8,
   "id": "ba26fb49",
   "metadata": {},
   "outputs": [
    {
     "name": "stderr",
     "output_type": "stream",
     "text": [
      "2022-03-07 00:17:11.186438: I tensorflow/compiler/mlir/mlir_graph_optimization_pass.cc:185] None of the MLIR Optimization Passes are enabled (registered 2)\n"
     ]
    }
   ],
   "source": [
    "# from collections import Counter\n",
    "# results = Counter(app_df.review_clean)\n",
    "VOCAB_SIZE = len(vocabulary)\n",
    "encoder = tf.keras.layers.TextVectorization(\n",
    "    max_tokens=VOCAB_SIZE)\n",
    "encoder.adapt(X_train)"
   ]
  },
  {
   "cell_type": "code",
   "execution_count": 11,
   "id": "717e8e62",
   "metadata": {},
   "outputs": [
    {
     "data": {
      "text/plain": [
       "array(['', '[UNK]', 'the', ..., '00006', '00002323', '0000000000000'],\n",
       "      dtype='<U474')"
      ]
     },
     "execution_count": 11,
     "metadata": {},
     "output_type": "execute_result"
    }
   ],
   "source": [
    "np.array(encoder.get_vocabulary())"
   ]
  },
  {
   "cell_type": "code",
   "execution_count": 12,
   "id": "69167e2f",
   "metadata": {},
   "outputs": [],
   "source": [
    "model = tf.keras.Sequential([\n",
    "    encoder,\n",
    "    tf.keras.layers.Embedding(\n",
    "        input_dim=len(encoder.get_vocabulary()),\n",
    "        output_dim=64,\n",
    "        # Use masking to handle the variable sequence lengths\n",
    "        mask_zero=True),\n",
    "    tf.keras.layers.Bidirectional(tf.keras.layers.LSTM(64)),\n",
    "    tf.keras.layers.Dense(64, activation='relu'),\n",
    "    tf.keras.layers.Dense(1)\n",
    "])"
   ]
  },
  {
   "cell_type": "code",
   "execution_count": 16,
   "id": "357e314e",
   "metadata": {},
   "outputs": [],
   "source": [
    "model.compile(loss = tf.keras.losses.mae, #mae stands for mean absolute error\n",
    "              optimizer = tf.keras.optimizers.SGD(), #stochastic GD\n",
    "              metrics = ['mae'])"
   ]
  },
  {
   "cell_type": "code",
   "execution_count": 17,
   "id": "21c7001a",
   "metadata": {
    "scrolled": false
   },
   "outputs": [
    {
     "name": "stdout",
     "output_type": "stream",
     "text": [
      "Epoch 1/10\n",
      "5402/5402 [==============================] - 394s 72ms/step - loss: 1.4993 - mae: 1.4993 - val_loss: 1.0066 - val_mae: 1.0066\n",
      "Epoch 2/10\n",
      "5402/5402 [==============================] - 402s 74ms/step - loss: 0.9815 - mae: 0.9815 - val_loss: 0.9479 - val_mae: 0.9479\n",
      "Epoch 3/10\n",
      "5402/5402 [==============================] - 398s 74ms/step - loss: 0.9236 - mae: 0.9236 - val_loss: 0.8673 - val_mae: 0.8673\n",
      "Epoch 4/10\n",
      "5402/5402 [==============================] - 391s 72ms/step - loss: 0.8109 - mae: 0.8109 - val_loss: 0.7581 - val_mae: 0.7581\n",
      "Epoch 5/10\n",
      "5402/5402 [==============================] - 385s 71ms/step - loss: 0.7316 - mae: 0.7316 - val_loss: 0.7511 - val_mae: 0.7511\n",
      "Epoch 6/10\n",
      "5402/5402 [==============================] - 422s 78ms/step - loss: 0.6818 - mae: 0.6818 - val_loss: 0.6615 - val_mae: 0.6615\n",
      "Epoch 7/10\n",
      "5402/5402 [==============================] - 424s 78ms/step - loss: 0.6732 - mae: 0.6732 - val_loss: 0.7034 - val_mae: 0.7034\n",
      "Epoch 8/10\n",
      "5402/5402 [==============================] - 424s 79ms/step - loss: 0.6708 - mae: 0.6708 - val_loss: 0.6828 - val_mae: 0.6828\n",
      "Epoch 9/10\n",
      "5402/5402 [==============================] - 428s 79ms/step - loss: 0.6525 - mae: 0.6525 - val_loss: 0.7107 - val_mae: 0.7107\n",
      "Epoch 10/10\n",
      "5402/5402 [==============================] - 421s 78ms/step - loss: 0.6398 - mae: 0.6398 - val_loss: 0.6669 - val_mae: 0.6669\n"
     ]
    }
   ],
   "source": [
    "history = model.fit(X_train, y_train, \n",
    "                    epochs=10, \n",
    "                    validation_data=(X_test, y_test))"
   ]
  },
  {
   "cell_type": "code",
   "execution_count": 18,
   "id": "9f10adcb",
   "metadata": {},
   "outputs": [
    {
     "name": "stdout",
     "output_type": "stream",
     "text": [
      "1801/1801 [==============================] - 44s 24ms/step - loss: 0.6730 - mae: 0.6730\n"
     ]
    },
    {
     "data": {
      "text/plain": [
       "[0.6729981899261475, 0.6729981899261475]"
      ]
     },
     "execution_count": 18,
     "metadata": {},
     "output_type": "execute_result"
    }
   ],
   "source": [
    "model.evaluate(X_val, y_val)  "
   ]
  },
  {
   "cell_type": "code",
   "execution_count": 20,
   "id": "d583bd13",
   "metadata": {},
   "outputs": [],
   "source": [
    "y_pred = model.predict(X_val)"
   ]
  },
  {
   "cell_type": "code",
   "execution_count": 21,
   "id": "f44c4264",
   "metadata": {},
   "outputs": [
    {
     "data": {
      "text/plain": [
       "0.6729983"
      ]
     },
     "execution_count": 21,
     "metadata": {},
     "output_type": "execute_result"
    }
   ],
   "source": [
    "from sklearn.metrics import mean_absolute_error\n",
    "mean_absolute_error(y_val, y_pred)"
   ]
  },
  {
   "cell_type": "code",
   "execution_count": 23,
   "id": "18bb2a6d",
   "metadata": {},
   "outputs": [
    {
     "name": "stdout",
     "output_type": "stream",
     "text": [
      "1.4270874\n",
      "1.194607645290121\n"
     ]
    }
   ],
   "source": [
    "from sklearn.metrics import mean_squared_error\n",
    "import math\n",
    "print(mean_squared_error(y_val, y_pred))\n",
    "print(math.sqrt(mean_squared_error(y_val, y_pred)))"
   ]
  },
  {
   "cell_type": "code",
   "execution_count": 24,
   "id": "b1236eb3",
   "metadata": {},
   "outputs": [
    {
     "data": {
      "text/plain": [
       "array([5.0449634], dtype=float32)"
      ]
     },
     "execution_count": 24,
     "metadata": {},
     "output_type": "execute_result"
    }
   ],
   "source": [
    "max(y_pred)"
   ]
  },
  {
   "cell_type": "code",
   "execution_count": 25,
   "id": "106e49dc",
   "metadata": {},
   "outputs": [
    {
     "data": {
      "text/plain": [
       "array([-0.369689], dtype=float32)"
      ]
     },
     "execution_count": 25,
     "metadata": {},
     "output_type": "execute_result"
    }
   ],
   "source": [
    "min(y_pred)"
   ]
  },
  {
   "cell_type": "code",
   "execution_count": 33,
   "id": "be1cee57",
   "metadata": {},
   "outputs": [
    {
     "name": "stdout",
     "output_type": "stream",
     "text": [
      "('You must install pydot (`pip install pydot`) and install graphviz (see instructions at https://graphviz.gitlab.io/download/) ', 'for plot_model/model_to_dot to work.')\n"
     ]
    }
   ],
   "source": [
    "plot_model(model)"
   ]
  }
 ],
 "metadata": {
  "kernelspec": {
   "display_name": "Python 3 (ipykernel)",
   "language": "python",
   "name": "python3"
  },
  "language_info": {
   "codemirror_mode": {
    "name": "ipython",
    "version": 3
   },
   "file_extension": ".py",
   "mimetype": "text/x-python",
   "name": "python",
   "nbconvert_exporter": "python",
   "pygments_lexer": "ipython3",
   "version": "3.9.10"
  }
 },
 "nbformat": 4,
 "nbformat_minor": 5
}
