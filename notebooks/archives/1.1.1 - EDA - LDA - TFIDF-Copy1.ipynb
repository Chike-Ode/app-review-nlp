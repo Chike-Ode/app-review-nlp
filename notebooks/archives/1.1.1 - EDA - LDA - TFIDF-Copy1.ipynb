{
 "cells": [
  {
   "cell_type": "code",
   "execution_count": 3,
   "id": "aceb8a03",
   "metadata": {},
   "outputs": [],
   "source": [
    "import datasets as ds\n",
    "import pandas as pd\n",
    "import os\n",
    "import numpy as np\n",
    "from sklearn.decomposition import LatentDirichletAllocation\n",
    "from sklearn.feature_extraction.text import TfidfVectorizer\n",
    "from nltk.stem import PorterStemmer, WordNetLemmatizer"
   ]
  },
  {
   "cell_type": "code",
   "execution_count": 4,
   "id": "8bff7271",
   "metadata": {},
   "outputs": [
    {
     "data": {
      "text/plain": [
       "'/home/jovyan/projects/vector-nlp/data'"
      ]
     },
     "execution_count": 4,
     "metadata": {},
     "output_type": "execute_result"
    }
   ],
   "source": [
    "CUR_DIR = os.path.abspath(os.curdir)\n",
    "ROOT_DIR = os.path.dirname(CUR_DIR)\n",
    "IMAGES_DIR = os.path.join(ROOT_DIR, \"images\")\n",
    "DATA_DIR = os.path.join(ROOT_DIR, \"data\")\n",
    "DATA_DIR"
   ]
  },
  {
   "cell_type": "code",
   "execution_count": 3,
   "id": "5273dcdc",
   "metadata": {},
   "outputs": [],
   "source": [
    "#ds.list_datasets()"
   ]
  },
  {
   "cell_type": "code",
   "execution_count": 5,
   "id": "c2a06c15",
   "metadata": {},
   "outputs": [
    {
     "name": "stderr",
     "output_type": "stream",
     "text": [
      "Using custom data configuration default\n",
      "Reusing dataset app_reviews (/home/jovyan/.cache/huggingface/datasets/app_reviews/default/0.0.0/20335b51b604b9bc04b7be253cd8445caa9ba93f15f39a4b0492b9e9102853de)\n"
     ]
    }
   ],
   "source": [
    "app_dataset = ds.load_dataset('app_reviews',split='train')\n",
    "app_df = app_dataset.to_pandas()"
   ]
  },
  {
   "cell_type": "code",
   "execution_count": 6,
   "id": "c17e4750",
   "metadata": {},
   "outputs": [
    {
     "data": {
      "text/plain": [
       "'https://giograno.me/assets/pdf/workshop/wama17.pdf'"
      ]
     },
     "execution_count": 6,
     "metadata": {},
     "output_type": "execute_result"
    }
   ],
   "source": [
    "app_dataset.homepage"
   ]
  },
  {
   "cell_type": "code",
   "execution_count": 7,
   "id": "92189865",
   "metadata": {},
   "outputs": [],
   "source": [
    "porter_stemmer = PorterStemmer()\n",
    "def stem_sentences(sentence):\n",
    "    tokens = sentence.split()\n",
    "    stemmed_tokens = [porter_stemmer.stem(token) for token in tokens]\n",
    "    return ' '.join(stemmed_tokens)\n",
    "\n",
    "app_df['review_stem'] = app_df['review'].apply(stem_sentences)"
   ]
  },
  {
   "cell_type": "code",
   "execution_count": 8,
   "id": "3d010a81",
   "metadata": {},
   "outputs": [
    {
     "data": {
      "text/html": [
       "<div>\n",
       "<style scoped>\n",
       "    .dataframe tbody tr th:only-of-type {\n",
       "        vertical-align: middle;\n",
       "    }\n",
       "\n",
       "    .dataframe tbody tr th {\n",
       "        vertical-align: top;\n",
       "    }\n",
       "\n",
       "    .dataframe thead th {\n",
       "        text-align: right;\n",
       "    }\n",
       "</style>\n",
       "<table border=\"1\" class=\"dataframe\">\n",
       "  <thead>\n",
       "    <tr style=\"text-align: right;\">\n",
       "      <th></th>\n",
       "      <th>package_name</th>\n",
       "      <th>review</th>\n",
       "      <th>date</th>\n",
       "      <th>star</th>\n",
       "      <th>review_stem</th>\n",
       "    </tr>\n",
       "  </thead>\n",
       "  <tbody>\n",
       "    <tr>\n",
       "      <th>0</th>\n",
       "      <td>com.mantz_it.rfanalyzer</td>\n",
       "      <td>Great app! The new version now works on my Bra...</td>\n",
       "      <td>October 12 2016</td>\n",
       "      <td>4</td>\n",
       "      <td>great app! the new version now work on my brav...</td>\n",
       "    </tr>\n",
       "    <tr>\n",
       "      <th>1</th>\n",
       "      <td>com.mantz_it.rfanalyzer</td>\n",
       "      <td>Great It's not fully optimised and has some is...</td>\n",
       "      <td>August 23 2016</td>\n",
       "      <td>4</td>\n",
       "      <td>great it' not fulli optimis and ha some issu w...</td>\n",
       "    </tr>\n",
       "    <tr>\n",
       "      <th>2</th>\n",
       "      <td>com.mantz_it.rfanalyzer</td>\n",
       "      <td>Works on a Nexus 6p I'm still messing around w...</td>\n",
       "      <td>August 04 2016</td>\n",
       "      <td>5</td>\n",
       "      <td>work on a nexu 6p i'm still mess around with m...</td>\n",
       "    </tr>\n",
       "    <tr>\n",
       "      <th>3</th>\n",
       "      <td>com.mantz_it.rfanalyzer</td>\n",
       "      <td>The bandwidth seemed to be limited to maximum ...</td>\n",
       "      <td>July 25 2016</td>\n",
       "      <td>3</td>\n",
       "      <td>the bandwidth seem to be limit to maximum 2 mh...</td>\n",
       "    </tr>\n",
       "    <tr>\n",
       "      <th>4</th>\n",
       "      <td>com.mantz_it.rfanalyzer</td>\n",
       "      <td>Works well with my Hackrf Hopefully new update...</td>\n",
       "      <td>July 22 2016</td>\n",
       "      <td>5</td>\n",
       "      <td>work well with my hackrf hope new updat will a...</td>\n",
       "    </tr>\n",
       "  </tbody>\n",
       "</table>\n",
       "</div>"
      ],
      "text/plain": [
       "              package_name                                             review  \\\n",
       "0  com.mantz_it.rfanalyzer  Great app! The new version now works on my Bra...   \n",
       "1  com.mantz_it.rfanalyzer  Great It's not fully optimised and has some is...   \n",
       "2  com.mantz_it.rfanalyzer  Works on a Nexus 6p I'm still messing around w...   \n",
       "3  com.mantz_it.rfanalyzer  The bandwidth seemed to be limited to maximum ...   \n",
       "4  com.mantz_it.rfanalyzer  Works well with my Hackrf Hopefully new update...   \n",
       "\n",
       "              date  star                                        review_stem  \n",
       "0  October 12 2016     4  great app! the new version now work on my brav...  \n",
       "1   August 23 2016     4  great it' not fulli optimis and ha some issu w...  \n",
       "2   August 04 2016     5  work on a nexu 6p i'm still mess around with m...  \n",
       "3     July 25 2016     3  the bandwidth seem to be limit to maximum 2 mh...  \n",
       "4     July 22 2016     5  work well with my hackrf hope new updat will a...  "
      ]
     },
     "execution_count": 8,
     "metadata": {},
     "output_type": "execute_result"
    }
   ],
   "source": [
    "app_df.head()"
   ]
  },
  {
   "cell_type": "code",
   "execution_count": 10,
   "id": "d583bd13",
   "metadata": {},
   "outputs": [],
   "source": [
    "vect = TfidfVectorizer(max_df=0.8, min_df=2, stop_words='english',ngram_range = (1,2))\n",
    "doc_term_matrix = vect.fit_transform(app_df.review_stem)"
   ]
  },
  {
   "cell_type": "code",
   "execution_count": 18,
   "id": "f44c4264",
   "metadata": {},
   "outputs": [
    {
     "data": {
      "text/plain": [
       "LatentDirichletAllocation(n_components=5, random_state=42)"
      ]
     },
     "execution_count": 18,
     "metadata": {},
     "output_type": "execute_result"
    }
   ],
   "source": [
    "LDA = LatentDirichletAllocation(n_components=5, random_state=42)\n",
    "LDA.fit(doc_term_matrix)"
   ]
  },
  {
   "cell_type": "code",
   "execution_count": 19,
   "id": "18bb2a6d",
   "metadata": {},
   "outputs": [
    {
     "name": "stderr",
     "output_type": "stream",
     "text": [
      "/opt/conda/lib/python3.9/site-packages/sklearn/utils/deprecation.py:87: FutureWarning: Function get_feature_names is deprecated; get_feature_names is deprecated in 1.0 and will be removed in 1.2. Please use get_feature_names_out instead.\n",
      "  warnings.warn(msg, category=FutureWarning)\n"
     ]
    },
    {
     "name": "stdout",
     "output_type": "stream",
     "text": [
      "easi perfect\n",
      "emulator howev\n",
      "tabloid\n",
      "releas just\n",
      "ha essenti\n",
      "look online\n",
      "closing\n",
      "plz upload\n",
      "doe control\n",
      "ois\n"
     ]
    }
   ],
   "source": [
    "import random\n",
    "\n",
    "for i in range(10):\n",
    "    random_id = random.randint(0,len(vect.get_feature_names()))\n",
    "    print(vect.get_feature_names()[random_id])"
   ]
  },
  {
   "cell_type": "code",
   "execution_count": 20,
   "id": "b1236eb3",
   "metadata": {},
   "outputs": [],
   "source": [
    "first_topic = LDA.components_[0]"
   ]
  },
  {
   "cell_type": "code",
   "execution_count": 21,
   "id": "d2628e06",
   "metadata": {
    "scrolled": true
   },
   "outputs": [
    {
     "name": "stdout",
     "output_type": "stream",
     "text": [
      "Top 10 words for topic #0:\n",
      "['nice', 'app', 'veri nice', 'easi', 'amaz', 'veri', 'work', 'ok', 'great', 'love']\n",
      "\n",
      "\n",
      "Top 10 words for topic #1:\n",
      "['phone', 'hi', 'use', 'wow', 'work', 'best app', 'thi', 'updat', 'app', 'best']\n",
      "\n",
      "\n",
      "Top 10 words for topic #2:\n",
      "['happi', 'awesom app', 'slow', 'good good', 'app', 'veri', 'good app', 'veri good', 'awesom', 'good']\n",
      "\n",
      "\n",
      "Top 10 words for topic #3:\n",
      "['superb', 'work', 'bad', 'perfect', 'game', 'app', 'nice app', 'use', 'super', 'nice']\n",
      "\n",
      "\n",
      "Top 10 words for topic #4:\n",
      "['googl', 'great app', 'use', 'great', 'excel', 'cool', 'thi', 'thank', 'app', 'like']\n",
      "\n",
      "\n"
     ]
    }
   ],
   "source": [
    "for i,topic in enumerate(LDA.components_):\n",
    "    print(f'Top 10 words for topic #{i}:')\n",
    "    print([vect.get_feature_names()[i] for i in topic.argsort()[-10:]])\n",
    "    print('\\n')"
   ]
  },
  {
   "cell_type": "code",
   "execution_count": 22,
   "id": "f175c49a",
   "metadata": {},
   "outputs": [
    {
     "data": {
      "text/plain": [
       "(288065, 5)"
      ]
     },
     "execution_count": 22,
     "metadata": {},
     "output_type": "execute_result"
    }
   ],
   "source": [
    "topic_values = LDA.transform(doc_term_matrix)\n",
    "topic_values.shape"
   ]
  },
  {
   "cell_type": "code",
   "execution_count": 23,
   "id": "043b843d",
   "metadata": {
    "scrolled": true
   },
   "outputs": [],
   "source": [
    "app_df['Topic'] = topic_values.argmax(axis=1)"
   ]
  },
  {
   "cell_type": "code",
   "execution_count": 24,
   "id": "be1cee57",
   "metadata": {},
   "outputs": [],
   "source": [
    "app_df.to_csv(os.path.join(DATA_DIR, \"1.1_LDA-Tfidf.csv\"),index = False)"
   ]
  }
 ],
 "metadata": {
  "kernelspec": {
   "display_name": "Python 3 (ipykernel)",
   "language": "python",
   "name": "python3"
  },
  "language_info": {
   "codemirror_mode": {
    "name": "ipython",
    "version": 3
   },
   "file_extension": ".py",
   "mimetype": "text/x-python",
   "name": "python",
   "nbconvert_exporter": "python",
   "pygments_lexer": "ipython3",
   "version": "3.9.10"
  }
 },
 "nbformat": 4,
 "nbformat_minor": 5
}
