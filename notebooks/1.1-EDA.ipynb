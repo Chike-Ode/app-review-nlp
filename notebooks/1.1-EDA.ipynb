{
 "cells": [
  {
   "cell_type": "code",
   "execution_count": 1,
   "id": "aceb8a03",
   "metadata": {},
   "outputs": [
    {
     "name": "stderr",
     "output_type": "stream",
     "text": [
      "/opt/conda/lib/python3.9/site-packages/xgboost/compat.py:36: FutureWarning: pandas.Int64Index is deprecated and will be removed from pandas in a future version. Use pandas.Index with the appropriate dtype instead.\n",
      "  from pandas import MultiIndex, Int64Index\n",
      "[nltk_data] Downloading package wordnet to /home/jovyan/nltk_data...\n",
      "[nltk_data]   Package wordnet is already up-to-date!\n",
      "[nltk_data] Downloading package omw-1.4 to /home/jovyan/nltk_data...\n",
      "[nltk_data]   Package omw-1.4 is already up-to-date!\n"
     ]
    }
   ],
   "source": [
    "import datasets as ds\n",
    "import pandas as pd\n",
    "from sklearn.model_selection import train_test_split\n",
    "from sklearn.feature_extraction.text import TfidfVectorizer\n",
    "from sklearn.model_selection import GridSearchCV\n",
    "import os\n",
    "import numpy as np\n",
    "import nltk\n",
    "import xgboost as xgb\n",
    "from sklearn.ensemble import RandomForestRegressor\n",
    "nltk.download('wordnet')\n",
    "nltk.download('omw-1.4')\n",
    "from yellowbrick.model_selection import FeatureImportances\n",
    "import sys\n",
    "module_path = os.path.abspath(os.path.join('..'))\n",
    "if module_path not in sys.path:\n",
    "    sys.path.append(module_path)\n",
    "from src.utils import *"
   ]
  },
  {
   "cell_type": "code",
   "execution_count": 2,
   "id": "8bff7271",
   "metadata": {},
   "outputs": [
    {
     "data": {
      "text/plain": [
       "'/home/jovyan/projects/vector-nlp/models'"
      ]
     },
     "execution_count": 2,
     "metadata": {},
     "output_type": "execute_result"
    }
   ],
   "source": [
    "CUR_DIR = os.path.abspath(os.curdir)\n",
    "ROOT_DIR = os.path.dirname(CUR_DIR)\n",
    "IMAGES_DIR = os.path.join(ROOT_DIR, \"images\")\n",
    "DATA_DIR = os.path.join(ROOT_DIR, \"data\")\n",
    "MODELS_DIR = os.path.join(ROOT_DIR, \"models\")\n",
    "MODELS_DIR"
   ]
  },
  {
   "cell_type": "code",
   "execution_count": 3,
   "id": "5273dcdc",
   "metadata": {},
   "outputs": [],
   "source": [
    "validation_df = pd.read_csv(os.path.join(DATA_DIR,'raw','validation.csv'))\n",
    "training_df = pd.read_csv(os.path.join(DATA_DIR,'raw','training.csv'))\n",
    "test_df = pd.read_csv(os.path.join(DATA_DIR,'raw','test.csv'))\n",
    "app_df = pd.concat([validation_df, training_df, test_df])"
   ]
  },
  {
   "cell_type": "code",
   "execution_count": 4,
   "id": "6ff5087b",
   "metadata": {},
   "outputs": [],
   "source": [
    "X = app_df['review']\n",
    "y = app_df['star']\n",
    "\n",
    "vect = TfidfVectorizer(max_df=0.8, min_df=2, stop_words='english')\n",
    "X_tfidf = vect.fit_transform(X)"
   ]
  },
  {
   "cell_type": "code",
   "execution_count": 5,
   "id": "07c1a3f8",
   "metadata": {},
   "outputs": [
    {
     "name": "stderr",
     "output_type": "stream",
     "text": [
      "/opt/conda/lib/python3.9/site-packages/sklearn/utils/deprecation.py:87: FutureWarning: Function get_feature_names is deprecated; get_feature_names is deprecated in 1.0 and will be removed in 1.2. Please use get_feature_names_out instead.\n",
      "  warnings.warn(msg, category=FutureWarning)\n"
     ]
    }
   ],
   "source": [
    "from sklearn.feature_selection import SelectKBest, chi2\n",
    "chi2score = chi2(X_tfidf,y)[0]\n",
    "\n",
    "wscores = zip(vect.get_feature_names(),chi2score)\n",
    "wchi2 = sorted(wscores,key=lambda x:x[1]) \n",
    "topchi2 = zip(*wchi2[-20:])\n",
    "show=list(topchi2)"
   ]
  },
  {
   "cell_type": "code",
   "execution_count": 38,
   "id": "9ce66492",
   "metadata": {},
   "outputs": [
    {
     "name": "stderr",
     "output_type": "stream",
     "text": [
      "/opt/conda/lib/python3.9/site-packages/sklearn/utils/deprecation.py:87: FutureWarning: Function get_feature_names is deprecated; get_feature_names is deprecated in 1.0 and will be removed in 1.2. Please use get_feature_names_out instead.\n",
      "  warnings.warn(msg, category=FutureWarning)\n"
     ]
    }
   ],
   "source": [
    "chi2_selector = SelectKBest(chi2, k=10)\n",
    "chi2_selector.fit(X_tfidf, y)\n",
    "\n",
    "# Look at scores returned from the selector for each feature\n",
    "chi2_scores = pd.DataFrame(list(zip(vect.get_feature_names(), chi2_selector.scores_, chi2_selector.pvalues_)), \n",
    "                                       columns=['word', 'score', 'pval'])\n",
    "chi2_scores.nlargest(20,'score')\n",
    "chi2_scores.to_csv(os.path.join(DATA_DIR,'output','1.1-Chi-Square-Importance.csv'))"
   ]
  },
  {
   "cell_type": "code",
   "execution_count": 23,
   "id": "a65c216b-bc26-467a-bf71-5df5a06003fd",
   "metadata": {},
   "outputs": [
    {
     "data": {
      "text/html": [
       "<div>\n",
       "<style scoped>\n",
       "    .dataframe tbody tr th:only-of-type {\n",
       "        vertical-align: middle;\n",
       "    }\n",
       "\n",
       "    .dataframe tbody tr th {\n",
       "        vertical-align: top;\n",
       "    }\n",
       "\n",
       "    .dataframe thead th {\n",
       "        text-align: right;\n",
       "    }\n",
       "</style>\n",
       "<table border=\"1\" class=\"dataframe\">\n",
       "  <thead>\n",
       "    <tr style=\"text-align: right;\">\n",
       "      <th></th>\n",
       "      <th>feature</th>\n",
       "      <th>score</th>\n",
       "      <th>pval</th>\n",
       "    </tr>\n",
       "  </thead>\n",
       "  <tbody>\n",
       "    <tr>\n",
       "      <th>0</th>\n",
       "      <td>00</td>\n",
       "      <td>3.277984</td>\n",
       "      <td>0.512428</td>\n",
       "    </tr>\n",
       "    <tr>\n",
       "      <th>1</th>\n",
       "      <td>000</td>\n",
       "      <td>6.135203</td>\n",
       "      <td>0.189276</td>\n",
       "    </tr>\n",
       "    <tr>\n",
       "      <th>2</th>\n",
       "      <td>0000</td>\n",
       "      <td>2.089842</td>\n",
       "      <td>0.719239</td>\n",
       "    </tr>\n",
       "    <tr>\n",
       "      <th>3</th>\n",
       "      <td>00000</td>\n",
       "      <td>1.493795</td>\n",
       "      <td>0.827740</td>\n",
       "    </tr>\n",
       "    <tr>\n",
       "      <th>4</th>\n",
       "      <td>000000</td>\n",
       "      <td>10.018040</td>\n",
       "      <td>0.040125</td>\n",
       "    </tr>\n",
       "    <tr>\n",
       "      <th>...</th>\n",
       "      <td>...</td>\n",
       "      <td>...</td>\n",
       "      <td>...</td>\n",
       "    </tr>\n",
       "    <tr>\n",
       "      <th>29342</th>\n",
       "      <td>ㅠㅠ</td>\n",
       "      <td>14.997594</td>\n",
       "      <td>0.004706</td>\n",
       "    </tr>\n",
       "    <tr>\n",
       "      <th>29343</th>\n",
       "      <td>儿童人3e域名他们就3</td>\n",
       "      <td>20.558073</td>\n",
       "      <td>0.000387</td>\n",
       "    </tr>\n",
       "    <tr>\n",
       "      <th>29344</th>\n",
       "      <td>流畅</td>\n",
       "      <td>0.794980</td>\n",
       "      <td>0.939120</td>\n",
       "    </tr>\n",
       "    <tr>\n",
       "      <th>29345</th>\n",
       "      <td>简洁</td>\n",
       "      <td>0.794980</td>\n",
       "      <td>0.939120</td>\n",
       "    </tr>\n",
       "    <tr>\n",
       "      <th>29346</th>\n",
       "      <td>非常好</td>\n",
       "      <td>0.888401</td>\n",
       "      <td>0.926219</td>\n",
       "    </tr>\n",
       "  </tbody>\n",
       "</table>\n",
       "<p>29347 rows × 3 columns</p>\n",
       "</div>"
      ],
      "text/plain": [
       "           feature      score      pval\n",
       "0               00   3.277984  0.512428\n",
       "1              000   6.135203  0.189276\n",
       "2             0000   2.089842  0.719239\n",
       "3            00000   1.493795  0.827740\n",
       "4           000000  10.018040  0.040125\n",
       "...            ...        ...       ...\n",
       "29342           ㅠㅠ  14.997594  0.004706\n",
       "29343  儿童人3e域名他们就3  20.558073  0.000387\n",
       "29344           流畅   0.794980  0.939120\n",
       "29345           简洁   0.794980  0.939120\n",
       "29346          非常好   0.888401  0.926219\n",
       "\n",
       "[29347 rows x 3 columns]"
      ]
     },
     "execution_count": 23,
     "metadata": {},
     "output_type": "execute_result"
    }
   ],
   "source": [
    "chi2_scores"
   ]
  },
  {
   "cell_type": "code",
   "execution_count": 39,
   "id": "1f951144-f24b-4f29-9e54-3ac139d5825f",
   "metadata": {},
   "outputs": [
    {
     "data": {
      "image/png": "[encoded data removed]",
      "text/plain": [
       "<Figure size 576x396 with 1 Axes>"
      ]
     },
     "metadata": {},
     "output_type": "display_data"
    }
   ],
   "source": [
    "import seaborn as sns\n",
    "import matplotlib.pyplot as plt\n",
    "\n",
    "plt.title(\"Chi Square Word Importance\")\n",
    "sns.set_theme(style=\"darkgrid\")\n",
    "# tips = sns.load_dataset(\"tips\")\n",
    "ax = sns.barplot(x=\"word\", y=\"score\", data=chi2_scores.nlargest(25,'score'), color='darkblue')\n",
    "ax.set_xticklabels(ax.get_xticklabels(),rotation = 90)\n",
    "fig = ax.get_figure()\n",
    "fig.savefig(f\"{IMAGES_DIR}/1.1-Word-Importance.png\", bbox_inches = \"tight\")"
   ]
  },
  {
   "cell_type": "code",
   "execution_count": 40,
   "id": "69df725e-6f63-492d-90c9-1529bcc8e8d9",
   "metadata": {},
   "outputs": [
    {
     "data": {
      "text/plain": [
       "5    174374\n",
       "1     39984\n",
       "4     37247\n",
       "3     23196\n",
       "2     13264\n",
       "Name: star, dtype: int64"
      ]
     },
     "execution_count": 40,
     "metadata": {},
     "output_type": "execute_result"
    }
   ],
   "source": [
    "app_df.star.value_counts()"
   ]
  },
  {
   "cell_type": "code",
   "execution_count": 37,
   "id": "7b420a0f-79ae-4e34-918e-3be17cb788fe",
   "metadata": {},
   "outputs": [
    {
     "data": {
      "image/png": "[encoded data removed]",
      "text/plain": [
       "<Figure size 576x396 with 1 Axes>"
      ]
     },
     "metadata": {},
     "output_type": "display_data"
    }
   ],
   "source": [
    "plt.title(\"Star Rating Distribution\")\n",
    "sns.set_theme(style=\"darkgrid\")\n",
    "# tips = sns.load_dataset(\"tips\")\n",
    "ax = sns.countplot(x=\"star\", data=app_df, color='darkgreen')\n",
    "# ax.set_xticklabels(ax.get_xticklabels(),rotation = 90)\n",
    "fig = ax.get_figure()\n",
    "fig.savefig(f\"{IMAGES_DIR}/1.1-Score-Distribution.png\", bbox_inches = \"tight\")"
   ]
  }
 ],
 "metadata": {
  "kernelspec": {
   "display_name": "Python 3 (ipykernel)",
   "language": "python",
   "name": "python3"
  },
  "language_info": {
   "codemirror_mode": {
    "name": "ipython",
    "version": 3
   },
   "file_extension": ".py",
   "mimetype": "text/x-python",
   "name": "python",
   "nbconvert_exporter": "python",
   "pygments_lexer": "ipython3",
   "version": "3.9.10"
  }
 },
 "nbformat": 4,
 "nbformat_minor": 5
}
