{
 "cells": [
  {
   "cell_type": "markdown",
   "id": "61db35b9-8772-4e85-92d7-b5433d2763c5",
   "metadata": {},
   "source": [
    "# Seq2Vec Sentiment Modeling in Tensorflow"
   ]
  },
  {
   "cell_type": "markdown",
   "id": "97e0df3f-b1f7-4568-9f97-465fa6213fa0",
   "metadata": {},
   "source": [
    "## 1.0 - Import Packages"
   ]
  },
  {
   "cell_type": "code",
   "execution_count": 1,
   "id": "aceb8a03",
   "metadata": {},
   "outputs": [],
   "source": [
    "import tensorflow as tf\n",
    "from tensorflow import keras\n",
    "from tensorflow.keras import layers\n",
    "from tensorflow.keras import losses\n",
    "from tensorflow.keras import regularizers\n",
    "import matplotlib.pyplot as plt\n",
    "import tensorflow_hub as hub\n",
    "import pandas as pd\n",
    "from sklearn.metrics import mean_absolute_error\n",
    "from keras import backend as K\n",
    "from keras.layers import Dropout\n",
    "import os\n",
    "import numpy as np"
   ]
  },
  {
   "cell_type": "code",
   "execution_count": 2,
   "id": "8bff7271",
   "metadata": {},
   "outputs": [],
   "source": [
    "CUR_DIR = os.path.abspath(os.curdir)\n",
    "ROOT_DIR = os.path.dirname(CUR_DIR)\n",
    "IMAGES_DIR = os.path.join(ROOT_DIR, \"images\")\n",
    "DATA_DIR = os.path.join(ROOT_DIR, \"data\")\n",
    "MODELS_DIR = os.path.join(ROOT_DIR, \"models\")\n",
    "EVAL_DIR = os.path.join(ROOT_DIR, \"evaluation\")\n",
    "MODEL_PERF_DIR = os.path.join(EVAL_DIR, \"model_performance\")\n",
    "GRAPHS_DIR = os.path.join(EVAL_DIR, \"graphs\")\n",
    "writepath = os.path.join(MODEL_PERF_DIR, \"performance.csv\")"
   ]
  },
  {
   "cell_type": "markdown",
   "id": "3eefd6a5-d16c-411b-986a-aed061c25812",
   "metadata": {},
   "source": [
    "## 1.1 Define Functions"
   ]
  },
  {
   "cell_type": "code",
   "execution_count": 3,
   "id": "a2f074a7-aaa3-4f72-8e46-77f4f4a31309",
   "metadata": {},
   "outputs": [],
   "source": [
    "def plot_loss(history,model):\n",
    "    \"\"\"\n",
    "    The purpose of this function is to plot the validation and training loss function across epochs.\n",
    "    \"\"\"\n",
    "    plt.plot(history.history['mae'], label='training')\n",
    "    plt.plot(history.history['val_mae'], label='val')\n",
    "    plt.xlabel('epoch')\n",
    "    plt.ylabel('mae')\n",
    "    plt.title(f'Loss for {model.name}')\n",
    "    plt.legend(loc='upper right')\n",
    "    output_path = os.path.join(MODEL_PERF_DIR,f'{model.name}.png')\n",
    "    plt.savefig(output_path)\n",
    "    plt.show()\n",
    "    print(output_path)"
   ]
  },
  {
   "cell_type": "code",
   "execution_count": 4,
   "id": "0f166cde-9d0c-491a-a7c0-7fc63c17cdb8",
   "metadata": {},
   "outputs": [],
   "source": [
    "def relu_advanced(x):\n",
    "    \"\"\"The purpose of this function is the bound the output value of the network between 1 and 5 inclusively which matches the domain the stars get on the reviews.\"\"\"\n",
    "    return (K.relu(x, max_value=5))"
   ]
  },
  {
   "cell_type": "code",
   "execution_count": 5,
   "id": "d53ceb9d-9526-45e0-a8a2-d40908f69ce4",
   "metadata": {},
   "outputs": [],
   "source": [
    "def transpose_df(df,reset_index,prefix):\n",
    "    if reset_index == False:\n",
    "        out_df = df.groupby('star',as_index=False)['prediction'].mean().T\n",
    "    elif reset_index == True:\n",
    "        out_df = pd.DataFrame(df.groupby('star')['prediction'].skew()).reset_index().T\n",
    "    new_header = out_df.iloc[0]\n",
    "    new_header = [f'{prefix} {int(i)} Star' for i in new_header]\n",
    "    new_header\n",
    "    out_df = out_df[1:] #take the data less the header row\n",
    "    out_df.columns = new_header\n",
    "    return out_df"
   ]
  },
  {
   "cell_type": "code",
   "execution_count": 6,
   "id": "ce1e04c6-caa8-491e-8386-584d3f3ee8b1",
   "metadata": {},
   "outputs": [],
   "source": [
    "def write_performance(model,mae,writepath,eval_df):\n",
    "    # df = pd.DataFrame(eval_df.groupby('star')['prediction'].skew()).reset_index().T#.pivot(columns='star',values='prediction')\n",
    "    # new_header = df.iloc[0] #grab the first row for the header\n",
    "    # new_header = [f'Prediction Skewness for {int(i)} Star' for i in new_header]\n",
    "    # df = df[1:] #take the data less the header row\n",
    "    # df.columns = new_header \n",
    "    data = {\n",
    "        'model_name':model.name,\n",
    "        'mae':mae\n",
    "    }\n",
    "    grouped_eval_df = eval_df.groupby('star',as_index=False)['prediction'].mean()\n",
    "    avg_prefix = 'Average Prediction for'\n",
    "    skew_prefix = 'Prediction Skewness for'\n",
    "    avg_df = transpose_df(eval_df,False,avg_prefix)\n",
    "    skew_df = transpose_df(eval_df,True,skew_prefix)\n",
    "    \n",
    "    # grouped_eval_df.to_csv(os.path.join(DATA_DIR,'output','summary', f'{model.name}'))\n",
    "    for col in avg_df.columns:\n",
    "        data.update({col:avg_df[col][0]})\n",
    "    for col in skew_df.columns:\n",
    "        data.update({col:skew_df[col][0]})\n",
    "    print(data)\n",
    "    out_df = pd.DataFrame(data,index=[0])\n",
    "    mode = 'a' if os.path.exists(writepath) else 'w'\n",
    "    header = False if os.path.exists(writepath) else True\n",
    "    out_df.to_csv(writepath, mode=mode, index=False, header=header)\n",
    "    # print message\n",
    "    print(\"Data appended successfully.\")"
   ]
  },
  {
   "cell_type": "code",
   "execution_count": 7,
   "id": "721c89de-0875-4146-9e09-54be175d9b49",
   "metadata": {},
   "outputs": [],
   "source": [
    "# df = pd.DataFrame(eval_df.groupby('star')['prediction'].skew()).reset_index().T#.pivot(columns='star',values='prediction')\n",
    "# new_header = df.iloc[0] #grab the first row for the header\n",
    "# new_header = [f'skewness for {int(i)} star' for i in new_header]\n",
    "# df = df[1:] #take the data less the header row\n",
    "# df.columns = new_header\n",
    "# # df.index=1\n",
    "# # df3=pd.DataFrame({'nice':1, 'yes':2})\n",
    "# # df3.index=1\n",
    "# # pd.concat([df,df3],axis=1,ignore_index=True)\n",
    "# df#['skewness for 1 star'][0]"
   ]
  },
  {
   "cell_type": "code",
   "execution_count": 8,
   "id": "43835b3f-c458-4d6c-bc29-68801d04d5fe",
   "metadata": {},
   "outputs": [],
   "source": [
    "def plot_score_distribution_by_group(model,eval_df):\n",
    "    # Create subplots \n",
    "    fig, axes = plt.subplots(nrows=2, ncols=3, \n",
    "                           constrained_layout = True,figsize=(15,10))\n",
    "    fig.delaxes(axes[1][2])\n",
    "    plt.text(x=0.5, y=0.94, s=f\"Model Prediction Distribution by Stars for model: {model.name}\", fontsize=18, ha=\"center\", transform=fig.transFigure)\n",
    "    plt.subplots_adjust(top=0.9, wspace=0.3)\n",
    "\n",
    "    # Generate histograms\n",
    "    i=0\n",
    "    colors = ['black', 'midnightblue', 'darkgreen','mediumpurple','darkred']\n",
    "    for ax, (name, subdf) in zip(axes.flatten(), eval_df.groupby('star')):\n",
    "        subdf.hist('prediction', ax=ax, rwidth=0.9,color = colors[i])\n",
    "        i+=1\n",
    "        ax.set_title(name)\n",
    "        ax.set_xlabel('prediction')\n",
    "        ax.set_ylabel('count')\n",
    "    # plt.subplots_adjust(wspace=1, hspace=1)\n",
    "    plt.savefig(os.path.join(MODEL_PERF_DIR,f'prediction_distribution_{model.name}.png'))\n",
    "    plt.show()"
   ]
  },
  {
   "cell_type": "code",
   "execution_count": 9,
   "id": "aa4df388-d184-4b2b-8e32-be9ab87936e4",
   "metadata": {},
   "outputs": [],
   "source": [
    "def performance_evaluation(X_test, y_test, model):\n",
    "    y_pred = model.predict(X_test)\n",
    "    print(f'The prediction values range between {min(y_pred)} and {max(y_pred)}')\n",
    "    mae = mean_absolute_error(y_test, y_pred)\n",
    "    print(f'Mean Absolute Error: {mae}')\n",
    "    eval_df = pd.merge(X_test, y_test, left_index=True, right_index=True)\n",
    "    eval_df['prediction'] = y_pred.ravel()\n",
    "    eval_df['absolute_error'] = (eval_df['prediction'] - eval_df['star']).abs()\n",
    "    eval_df.to_csv(os.path.join(DATA_DIR,'output','scoring', f'{model.name}'))\n",
    "    # grouped_eval_df = eval_df.groupby('star',as_index=False)['prediction'].mean()\n",
    "    # grouped_eval_df.to_csv(os.path.join(DATA_DIR,'output','summary', f'{model.name}'))\n",
    "    plot_score_distribution_by_group(model,eval_df)\n",
    "    write_performance(model,mae,writepath,eval_df)\n",
    "    print('Done')"
   ]
  },
  {
   "cell_type": "markdown",
   "id": "c51e122e-0f29-4a5c-a392-91b014a72bfd",
   "metadata": {
    "tags": []
   },
   "source": [
    "## 1.1 Import Data "
   ]
  },
  {
   "cell_type": "code",
   "execution_count": 10,
   "id": "c2a06c15",
   "metadata": {},
   "outputs": [
    {
     "name": "stderr",
     "output_type": "stream",
     "text": [
      "2022-03-14 07:53:08.761558: W tensorflow/stream_executor/platform/default/dso_loader.cc:64] Could not load dynamic library 'libcuda.so.1'; dlerror: libcuda.so.1: cannot open shared object file: No such file or directory\n",
      "2022-03-14 07:53:08.762190: W tensorflow/stream_executor/cuda/cuda_driver.cc:269] failed call to cuInit: UNKNOWN ERROR (303)\n",
      "2022-03-14 07:53:08.762341: I tensorflow/stream_executor/cuda/cuda_diagnostics.cc:156] kernel driver does not appear to be running on this host (42b10f96906e): /proc/driver/nvidia/version does not exist\n",
      "2022-03-14 07:53:08.770803: I tensorflow/core/platform/cpu_feature_guard.cc:142] This TensorFlow binary is optimized with oneAPI Deep Neural Network Library (oneDNN) to use the following CPU instructions in performance-critical operations:  SSE4.1 SSE4.2 AVX AVX2 FMA\n",
      "To enable them in other operations, rebuild TensorFlow with the appropriate compiler flags.\n"
     ]
    }
   ],
   "source": [
    "validation_df = pd.read_csv(os.path.join(DATA_DIR,'raw','validation.csv'))\n",
    "training_df = pd.read_csv(os.path.join(DATA_DIR,'raw','training.csv'))\n",
    "test_df = pd.read_csv(os.path.join(DATA_DIR,'raw','test.csv'))\n",
    "\n",
    "X_train = training_df['review']\n",
    "y_train = training_df['star']\n",
    "X_val = validation_df['review']\n",
    "y_val = validation_df['star']\n",
    "X_test = test_df['review']\n",
    "y_test = test_df['star']\n",
    "\n",
    "# Convert to tensorflow datasets\n",
    "train_ds = tf.data.Dataset.from_tensor_slices((X_train,y_train)).shuffle(buffer_size=1024).batch(128)\n",
    "test_ds = tf.data.Dataset.from_tensor_slices((X_test,y_test)).shuffle(buffer_size=1024).batch(128)\n",
    "val_ds = tf.data.Dataset.from_tensor_slices((X_val,y_val)).shuffle(buffer_size=1024).batch(128)"
   ]
  },
  {
   "cell_type": "code",
   "execution_count": null,
   "id": "6ff5087b",
   "metadata": {},
   "outputs": [],
   "source": []
  },
  {
   "cell_type": "code",
   "execution_count": null,
   "id": "9fb7472b-afd7-4779-9939-3d0af9e6727e",
   "metadata": {},
   "outputs": [],
   "source": []
  },
  {
   "cell_type": "markdown",
   "id": "08a75aba-54fc-4f10-99b3-8de633ea1650",
   "metadata": {},
   "source": [
    "## 2.0 Create embedding layer & Build simple model"
   ]
  },
  {
   "cell_type": "code",
   "execution_count": 11,
   "id": "65927447-3d22-4e1b-bcdc-b0e72cab15d3",
   "metadata": {},
   "outputs": [
    {
     "name": "stderr",
     "output_type": "stream",
     "text": [
      "2022-03-14 07:53:08.992301: I tensorflow/compiler/mlir/mlir_graph_optimization_pass.cc:185] None of the MLIR Optimization Passes are enabled (registered 2)\n"
     ]
    }
   ],
   "source": [
    "handle = 'https://tfhub.dev/google/tf2-preview/gnews-swivel-20dim-with-oov/1'\n",
    "# emb_layer = hub.KerasLayer(handle = handle,\n",
    "#                input_shape=[],dtype=tf.string,trainable=True)\n",
    "\n",
    "emb_layer = hub.KerasLayer(handle = handle, output_shape=(20,1),\n",
    "               input_shape=(None,),dtype=tf.string,trainable=True, name='embed')\n",
    "\n",
    "callback = tf.keras.callbacks.EarlyStopping(monitor='val_mae', patience=3)"
   ]
  },
  {
   "cell_type": "code",
   "execution_count": 12,
   "id": "22b1d1cc-5b78-4a86-9893-3dbbc10ffdc2",
   "metadata": {},
   "outputs": [
    {
     "data": {
      "text/plain": [
       "<tf.Tensor: shape=(2, 20), dtype=float32, numpy=\n",
       "array([[ 0.52211034, -0.5292976 ,  0.33719632,  0.0902942 , -0.6266122 ,\n",
       "         0.45860922, -0.70826894,  0.55458295,  1.1077714 ,  0.40197402,\n",
       "        -1.5735748 ,  0.35205668,  0.8920213 , -0.05832118, -0.29793447,\n",
       "        -0.2865127 ,  0.7564523 ,  0.6519507 , -0.7274325 , -0.45961407],\n",
       "       [ 0.52211034, -0.5292976 ,  0.33719632,  0.0902942 , -0.6266122 ,\n",
       "         0.45860922, -0.70826894,  0.55458295,  1.1077714 ,  0.40197402,\n",
       "        -1.5735748 ,  0.35205668,  0.8920213 , -0.05832118, -0.29793447,\n",
       "        -0.2865127 ,  0.7564523 ,  0.6519507 , -0.7274325 , -0.45961407]],\n",
       "      dtype=float32)>"
      ]
     },
     "execution_count": 12,
     "metadata": {},
     "output_type": "execute_result"
    }
   ],
   "source": [
    "embed = hub.load(handle)\n",
    "embeddings = embed([\"hello\",\"hello\"])\n",
    "embeddings"
   ]
  },
  {
   "cell_type": "markdown",
   "id": "626b305f-6f43-4e63-8fe7-8b41b984c3df",
   "metadata": {},
   "source": [
    "## Baseline"
   ]
  },
  {
   "cell_type": "code",
   "execution_count": 13,
   "id": "8aa1d19d-dbfb-4332-98d1-ddd7852d7414",
   "metadata": {},
   "outputs": [],
   "source": [
    "# emb_layer = hub.KerasLayer(handle = handle, output_shape=(20,1),\n",
    "#                input_shape=(None,),dtype=tf.string,trainable=True, name='embed')\n",
    "\n",
    "# base_model = keras.Sequential([\n",
    "#         layers.Input(shape=(), name=\"Input\", dtype=tf.string),\n",
    "#         emb_layer,\n",
    "#         layers.Dense(10,activation='relu'),\n",
    "#         layers.Dropout(0.1),\n",
    "#         layers.Dense(1,activation='relu')])\n",
    "\n",
    "# base_model.compile(loss=tf.keras.losses.MeanSquaredError(),\n",
    "#                    optimizer=keras.optimizers.Adam(lr=0.00005,decay=1e-6),\n",
    "#                    metrics=['mse','mae'])\n",
    "\n",
    "# base_model.summary()\n",
    "# tf.keras.utils.plot_model(base_model,show_shapes=True, show_dtype=True,\n",
    "#     show_layer_names=True, rankdir='TB', expand_nested=True, dpi=96)"
   ]
  },
  {
   "cell_type": "code",
   "execution_count": null,
   "id": "a7011dbe-f60a-47cd-b618-a8c8cf9e93b4",
   "metadata": {},
   "outputs": [
    {
     "name": "stderr",
     "output_type": "stream",
     "text": [
      "/opt/conda/lib/python3.9/site-packages/keras/optimizer_v2/optimizer_v2.py:355: UserWarning: The `lr` argument is deprecated, use `learning_rate` instead.\n",
      "  warnings.warn(\n"
     ]
    },
    {
     "name": "stdout",
     "output_type": "stream",
     "text": [
      "Epoch 1/100\n",
      "1351/1351 [==============================] - 11s 8ms/step - loss: 7.4989 - mse: 7.4989 - mae: 2.3055 - val_loss: 4.5597 - val_mse: 4.5597 - val_mae: 1.6763\n",
      "Epoch 2/100\n",
      "1351/1351 [==============================] - 9s 7ms/step - loss: 3.6259 - mse: 3.6259 - mae: 1.4169 - val_loss: 2.9485 - val_mse: 2.9485 - val_mae: 1.2369\n",
      "Epoch 3/100\n",
      "1351/1351 [==============================] - 10s 7ms/step - loss: 2.5910 - mse: 2.5910 - mae: 1.1321 - val_loss: 2.2862 - val_mse: 2.2862 - val_mae: 1.0515\n",
      "Epoch 4/100\n",
      "1351/1351 [==============================] - 9s 7ms/step - loss: 2.1055 - mse: 2.1055 - mae: 0.9983 - val_loss: 1.9451 - val_mse: 1.9451 - val_mae: 0.9609\n",
      "Epoch 5/100\n",
      "1351/1351 [==============================] - 9s 7ms/step - loss: 1.8427 - mse: 1.8427 - mae: 0.9261 - val_loss: 1.7564 - val_mse: 1.7564 - val_mae: 0.9087\n",
      "Epoch 6/100\n",
      "1351/1351 [==============================] - 9s 6ms/step - loss: 1.6860 - mse: 1.6860 - mae: 0.8837 - val_loss: 1.6355 - val_mse: 1.6355 - val_mae: 0.8755\n",
      "Epoch 7/100\n",
      " 923/1351 [===================>..........] - ETA: 2s - loss: 1.5917 - mse: 1.5917 - mae: 0.8595"
     ]
    }
   ],
   "source": [
    "epochs = 100\n",
    "\n",
    "base_model = keras.Sequential([\n",
    "        layers.Input(shape=(), name=\"Input\", dtype=tf.string),\n",
    "        emb_layer,\n",
    "        layers.Dense(10,activation='relu', dtype=tf.float32),\n",
    "        layers.Dense(1,activation=relu_advanced)],name='2.0-Baseline-No-Regularization')\n",
    "\n",
    "base_model.compile(loss=tf.keras.losses.MeanSquaredError(),\n",
    "                   optimizer=keras.optimizers.Adam(lr=0.0001,decay=1e-6),\n",
    "                   metrics=['mse','mae'])\n",
    "\n",
    "\n",
    "base_history = base_model.fit(train_ds,\n",
    "                    epochs = epochs,\n",
    "                    validation_data=val_ds,\n",
    "                    callbacks=[callback],\n",
    "                    verbose=1)"
   ]
  },
  {
   "cell_type": "code",
   "execution_count": null,
   "id": "b983904f-78c5-4f03-8cbb-c2cb5163cb56",
   "metadata": {},
   "outputs": [],
   "source": [
    "plot_loss(base_history,base_model)"
   ]
  },
  {
   "cell_type": "code",
   "execution_count": null,
   "id": "e6499e44-c265-431d-965f-24914e455287",
   "metadata": {},
   "outputs": [],
   "source": [
    "performance_evaluation(X_test, y_test, base_model)"
   ]
  },
  {
   "cell_type": "code",
   "execution_count": null,
   "id": "4ef54c98-273f-42dd-baab-20b740d1c7ed",
   "metadata": {},
   "outputs": [],
   "source": [
    "# tf.keras.utils.plot_model(base_model,show_shapes=True, show_dtype=True,\n",
    "#     show_layer_names=True, rankdir='TB', expand_nested=True, dpi=96)"
   ]
  },
  {
   "cell_type": "code",
   "execution_count": null,
   "id": "f09c6675-bfde-468b-8343-cf03455a3fda",
   "metadata": {},
   "outputs": [],
   "source": [
    "# plot_performance(base_history,2.0,'No-Regularization','Baseline')"
   ]
  },
  {
   "cell_type": "code",
   "execution_count": null,
   "id": "72bc4ae6-37d0-44ab-a954-15ff28067f47",
   "metadata": {},
   "outputs": [],
   "source": [
    "# plt.plot(base_history.history['mae'], label='training')\n",
    "# plt.plot(base_history.history['val_mae'], label='val')\n",
    "# plt.xlabel('epoch')\n",
    "# plt.ylabel('mae')\n",
    "# plt.title('Baseline No Regularization')\n",
    "# plt.legend(loc='upper right')\n",
    "# plt.savefig(os.path.join(IMAGES_DIR,'2.0_No-Regularizer-Baseline.png'))\n",
    "# plt.show()"
   ]
  },
  {
   "cell_type": "code",
   "execution_count": null,
   "id": "e80505bb-c55a-4d7d-91e0-cdec13330f3d",
   "metadata": {},
   "outputs": [],
   "source": [
    "performance_evaluation(X_test, y_test, base_model)"
   ]
  },
  {
   "cell_type": "code",
   "execution_count": null,
   "id": "d583bd13",
   "metadata": {},
   "outputs": [],
   "source": [
    "# y_pred_base = base_model.predict(X_test)\n",
    "# y_pred_base.ravel()"
   ]
  },
  {
   "cell_type": "code",
   "execution_count": null,
   "id": "bffe012a-4008-44b4-a4e3-8173ac95587e",
   "metadata": {},
   "outputs": [],
   "source": [
    "# print(min(y_pred_base),max(y_pred_base))"
   ]
  },
  {
   "cell_type": "code",
   "execution_count": null,
   "id": "f44c4264",
   "metadata": {},
   "outputs": [],
   "source": [
    "# mean_absolute_error(y_test, y_pred_base)"
   ]
  },
  {
   "cell_type": "code",
   "execution_count": null,
   "id": "780ae5a4",
   "metadata": {},
   "outputs": [],
   "source": [
    "base_model.save(os.path.join(MODELS_DIR,base_model.name))"
   ]
  },
  {
   "cell_type": "code",
   "execution_count": null,
   "id": "07365aad",
   "metadata": {},
   "outputs": [],
   "source": [
    "# new_model = tf.keras.models.load_model(os.path.join(MODELS_DIR,'2.1-LSTM_TFIDF'))\n",
    "# new_model.summary()"
   ]
  },
  {
   "cell_type": "code",
   "execution_count": null,
   "id": "17793923",
   "metadata": {},
   "outputs": [],
   "source": [
    "# eval_df = pd.merge(X_test, y_test, left_index=True, right_index=True)\n",
    "# eval_df['prediction'] = base_model.predict(eval_df.review).ravel()\n",
    "# eval_df['absolute_error'] = (eval_df['prediction'] - eval_df['star']).abs()\n",
    "# eval_df"
   ]
  },
  {
   "cell_type": "code",
   "execution_count": null,
   "id": "e2aa848b-27ba-4752-bfc4-54a57e8a9659",
   "metadata": {},
   "outputs": [],
   "source": [
    "# eval_df.groupby('star',as_index=False)['prediction'].mean()"
   ]
  },
  {
   "cell_type": "markdown",
   "id": "90d22bea-5d18-41fa-ab37-4be30c0c69a2",
   "metadata": {
    "tags": []
   },
   "source": [
    "## RNN"
   ]
  },
  {
   "cell_type": "code",
   "execution_count": null,
   "id": "2cccfc50-5273-4c20-a693-ce3958ef3527",
   "metadata": {},
   "outputs": [],
   "source": [
    "embed\n",
    "embed(X_train).shape"
   ]
  },
  {
   "cell_type": "code",
   "execution_count": null,
   "id": "586aa595-0921-4789-bd7d-c1d1df95306a",
   "metadata": {},
   "outputs": [],
   "source": [
    "# callback = tf.keras.callbacks.EarlyStopping(monitor='val_mae', patience=3)\n",
    "rnn_model = tf.keras.Sequential([\n",
    "    emb_layer,\n",
    "    layers.Reshape(target_shape= (20,1)),\n",
    "    # layers.Dense(20,activation='relu'),\n",
    "    # layers.SimpleRNN(20,return_sequences=True,input_shape=(None, 20), activation='relu'),\n",
    "    # layers.SimpleRNN(15,input_shape=(None, 20), activation='tanh',return_sequences=True),\n",
    "    layers.SimpleRNN(2, activation='tanh',return_sequences=False),\n",
    "    # layers.SimpleRNN(10,input_shape=(None, 15), activation='tanh',return_sequences=False),\n",
    "\n",
    "    # layers.Dense(15,activation='tanh'),\n",
    "    layers.Dense(1,activation=relu_advanced)\n",
    "],name='2.0-RNN-No-Regularization')\n",
    "\n",
    "rnn_model.compile(loss=tf.keras.losses.MeanSquaredError(),\n",
    "              optimizer=tf.keras.optimizers.Adam(learning_rate=0.001),\n",
    "              metrics=['mse','mae'])\n",
    "\n",
    "num_epochs=100\n",
    "rnn_history=rnn_model.fit(train_ds, \n",
    "                          epochs=num_epochs, \n",
    "                          validation_data = val_ds, \n",
    "                          callbacks=[callback],\n",
    "                          verbose=1)"
   ]
  },
  {
   "cell_type": "code",
   "execution_count": null,
   "id": "23adecbb-6164-408c-9c23-1302569b1763",
   "metadata": {},
   "outputs": [],
   "source": [
    "rnn_model.summary()"
   ]
  },
  {
   "cell_type": "code",
   "execution_count": null,
   "id": "39e42a05-3ba6-46e7-bca0-bc6a1239d965",
   "metadata": {},
   "outputs": [],
   "source": [
    "plot_loss(rnn_history,rnn_model)"
   ]
  },
  {
   "cell_type": "code",
   "execution_count": null,
   "id": "1b662f69-c74f-49a0-80ee-1d76bb7e5170",
   "metadata": {},
   "outputs": [],
   "source": [
    "performance_evaluation(X_test, y_test, rnn_model)"
   ]
  },
  {
   "cell_type": "code",
   "execution_count": null,
   "id": "8d2b0d60-37ed-4602-8652-0022e9576708",
   "metadata": {},
   "outputs": [],
   "source": [
    "# plt.plot(rnn_history.history['mae'], label='training')\n",
    "# plt.plot(rnn_history.history['val_mae'], label='val')\n",
    "# plt.xlabel('epoch')\n",
    "# plt.ylabel('mae')\n",
    "# plt.title('RNN No Regularization')\n",
    "# plt.legend(loc='upper right')\n",
    "# plt.savefig(os.path.join(IMAGES_DIR,'2.0_No-Regularizer-RNN.png'))\n",
    "# plt.show()"
   ]
  },
  {
   "cell_type": "code",
   "execution_count": null,
   "id": "50b442e6-8d3e-4b99-8e08-9aa183bfad74",
   "metadata": {},
   "outputs": [],
   "source": [
    "# y_pred_rnn = rnn_model.predict(test_ds)\n",
    "# y_pred_rnn"
   ]
  },
  {
   "cell_type": "code",
   "execution_count": null,
   "id": "32c6d0ff-6823-4db3-b21f-0d49b849cc26",
   "metadata": {},
   "outputs": [],
   "source": [
    "rnn_model.save(os.path.join(MODELS_DIR,rnn_model.name))\n",
    "# mean_absolute_error(y_test, y_pred_rnn)"
   ]
  },
  {
   "cell_type": "code",
   "execution_count": null,
   "id": "ff5d87fc-241c-48e1-b506-7bd809400191",
   "metadata": {},
   "outputs": [],
   "source": [
    "# max(y_pred)"
   ]
  },
  {
   "cell_type": "code",
   "execution_count": null,
   "id": "60febbd6-8b51-4a90-b792-c464270e299b",
   "metadata": {},
   "outputs": [],
   "source": [
    "# min(y_pred)"
   ]
  },
  {
   "cell_type": "code",
   "execution_count": null,
   "id": "a4c1e39f-1fb6-43b1-977f-87c669d0b441",
   "metadata": {},
   "outputs": [],
   "source": [
    "# rnn_eval_df = pd.merge(X_test, y_test, left_index=True, right_index=True)\n",
    "# rnn_eval_df['prediction'] = rnn_model.predict(rnn_eval_df.review).ravel()\n",
    "# rnn_eval_df['absolute_error'] = (rnn_eval_df['prediction'] - rnn_eval_df['star']).abs()\n",
    "# rnn_eval_df"
   ]
  },
  {
   "cell_type": "code",
   "execution_count": null,
   "id": "33039c10-90bf-4beb-9e65-e18898776b9a",
   "metadata": {},
   "outputs": [],
   "source": [
    "# max(rnn_eval_df.star)"
   ]
  },
  {
   "cell_type": "code",
   "execution_count": null,
   "id": "59af5b8f-ca8e-45fb-8c3c-561b2e54468d",
   "metadata": {},
   "outputs": [],
   "source": [
    "# rnn_eval_df.groupby('star',as_index=False)['prediction'].mean()"
   ]
  },
  {
   "cell_type": "markdown",
   "id": "0123d196-af40-4ddb-a9a1-53845c8012c4",
   "metadata": {},
   "source": [
    "## GRU"
   ]
  },
  {
   "cell_type": "code",
   "execution_count": null,
   "id": "899c0c0b-9c99-47dd-9b6f-e6f9190a97f3",
   "metadata": {},
   "outputs": [],
   "source": [
    "# gru_emb_layer = emb_layer = hub.KerasLayer(handle = handle, output_shape=[20],\n",
    "#                input_shape=(),dtype=tf.string,trainable=True)\n",
    "gru_model = tf.keras.Sequential([\n",
    "    emb_layer,\n",
    "    layers.Reshape(target_shape= (20,1)),\n",
    "    # layers.Dense(20,activation='relu'),\n",
    "    # layers.SimpleRNN(20,return_sequences=True,input_shape=(None, 20), activation='relu'),\n",
    "    # layers.GRU(15,input_shape=(None, 20), activation='tanh',return_sequences=True),\n",
    "    # layers.GRU(10,input_shape=(None, 15), activation='tanh',return_sequences=False),\n",
    "    layers.GRU(10, activation='tanh',return_sequences=False),\n",
    "    layers.Dense(5,activation='tanh'),\n",
    "    layers.Dense(1,activation=relu_advanced)\n",
    "],name='2.0-GRU-No-Regularization')\n",
    "gru_model.compile(loss='mse',\n",
    "              optimizer=tf.keras.optimizers.Adam(learning_rate=0.001),\n",
    "              metrics=['mse','mae'])\n",
    "\n",
    "num_epochs=100\n",
    "gru_history=gru_model.fit(train_ds,\n",
    "                          epochs=num_epochs, \n",
    "                          validation_data = val_ds, \n",
    "                          callbacks=[callback],\n",
    "                          verbose=1)"
   ]
  },
  {
   "cell_type": "code",
   "execution_count": null,
   "id": "674c93c2-dea0-43d7-b921-044533422886",
   "metadata": {},
   "outputs": [],
   "source": [
    "gru_model.save(os.path.join(MODELS_DIR,gru_model.name))"
   ]
  },
  {
   "cell_type": "code",
   "execution_count": null,
   "id": "48bf0323-6539-4ee8-9fab-3b1f6fb6ef89",
   "metadata": {},
   "outputs": [],
   "source": [
    "# y_pred_gru = gru_model.predict(test_ds)\n",
    "# y_pred_gru"
   ]
  },
  {
   "cell_type": "code",
   "execution_count": null,
   "id": "6b99f2f0-272d-48d1-9de9-8593e068db57",
   "metadata": {},
   "outputs": [],
   "source": [
    "# gru_eval_df = pd.merge(X_test, y_test, left_index=True, right_index=True)\n",
    "# gru_eval_df['prediction'] = gru_model.predict(gru_eval_df.review).ravel()\n",
    "# gru_eval_df['absolute_error'] = (gru_eval_df['prediction'] - gru_eval_df['star']).abs()\n",
    "# gru_eval_df"
   ]
  },
  {
   "cell_type": "code",
   "execution_count": null,
   "id": "634d4536-da28-4843-8f24-d7667a5ea0b7",
   "metadata": {},
   "outputs": [],
   "source": [
    "plot_loss(gru_history,gru_model)"
   ]
  },
  {
   "cell_type": "code",
   "execution_count": null,
   "id": "38f1b8b9-aee9-4bc6-bde8-00097290af17",
   "metadata": {},
   "outputs": [],
   "source": [
    "performance_evaluation(X_test, y_test, gru_model)"
   ]
  },
  {
   "cell_type": "code",
   "execution_count": null,
   "id": "602031d5-2f09-4bbb-a72a-f5a7d5caa908",
   "metadata": {},
   "outputs": [],
   "source": [
    "# plt.plot(gru_history.history['mae'], label='training')\n",
    "# plt.plot(gru_history.history['val_mae'], label='val')\n",
    "# plt.xlabel('epoch')\n",
    "# plt.ylabel('mae')\n",
    "# plt.title('GRU No Regularization')\n",
    "# plt.legend(loc='upper right')\n",
    "# plt.savefig(os.path.join(IMAGES_DIR,'2.0_No-Regularizer-GRU.png'))\n",
    "# plt.show()"
   ]
  },
  {
   "cell_type": "code",
   "execution_count": null,
   "id": "5777e331-59c2-47ad-8ccf-bbaa9c989ef5",
   "metadata": {},
   "outputs": [],
   "source": [
    "# gru_eval_df.groupby('star',as_index=False)['prediction'].mean()"
   ]
  },
  {
   "cell_type": "markdown",
   "id": "e83a344f-40d6-42a6-afaf-3deccd2fcd9f",
   "metadata": {},
   "source": [
    "## LSTM"
   ]
  },
  {
   "cell_type": "code",
   "execution_count": null,
   "id": "e6f7b59f-dffd-4f04-b95d-58a7d6393d18",
   "metadata": {},
   "outputs": [],
   "source": [
    "# lstm_emb_layer = hub.KerasLayer(handle = handle, output_shape=[20],\n",
    "#                input_shape=(),dtype=tf.string,trainable=True)\n",
    "lstm_model = tf.keras.Sequential([\n",
    "    emb_layer,\n",
    "    layers.Reshape(target_shape= (20,1)),\n",
    "    # layers.Dense(20,activation='relu'),\n",
    "    # layers.SimpleRNN(20,return_sequences=True,input_shape=(None, 20), activation='relu'),\n",
    "    # layers.GRU(15,input_shape=(None, 20), activation='tanh',return_sequences=True),\n",
    "    # layers.GRU(10,input_shape=(None, 15), activation='tanh',return_sequences=False),\n",
    "    layers.LSTM(10, activation='tanh',return_sequences=False),\n",
    "    layers.Dense(5,activation='tanh'),\n",
    "    layers.Dense(1,activation=relu_advanced)\n",
    "],name='2.0-LSTM-No-Regularization')\n",
    "lstm_model.compile(loss='mse',\n",
    "              optimizer=tf.keras.optimizers.Adam(learning_rate=0.001),\n",
    "              metrics=['mse','mae'])\n",
    "\n",
    "num_epochs=100\n",
    "lstm_history=lstm_model.fit(train_ds,\n",
    "                          epochs=num_epochs, \n",
    "                          validation_data = val_ds, \n",
    "                          callbacks=[callback],\n",
    "                          verbose=1)"
   ]
  },
  {
   "cell_type": "code",
   "execution_count": null,
   "id": "5b769a86-5082-4f0f-a015-d7ff4451a734",
   "metadata": {},
   "outputs": [],
   "source": [
    "performance_evaluation(X_test, y_test, lstm_model)"
   ]
  },
  {
   "cell_type": "code",
   "execution_count": null,
   "id": "16f17eb7-54ab-442a-9e0e-10fafef5932b",
   "metadata": {},
   "outputs": [],
   "source": [
    "plot_loss(lstm_history,lstm_model)"
   ]
  },
  {
   "cell_type": "code",
   "execution_count": null,
   "id": "d686aa94-cade-4679-82d6-6830b20c8806",
   "metadata": {},
   "outputs": [],
   "source": [
    "lstm_model.save(os.path.join(MODELS_DIR,lstm_model.name))"
   ]
  },
  {
   "cell_type": "code",
   "execution_count": null,
   "id": "d687a007-baa6-4c23-a630-6028ac3a7c97",
   "metadata": {},
   "outputs": [],
   "source": [
    "# plt.plot(lstm_history.history['mae'], label='training')\n",
    "# plt.plot(lstm_history.history['val_mae'], label='val')\n",
    "# plt.xlabel('epoch')\n",
    "# plt.ylabel('mae')\n",
    "# plt.title('LSTM No Regularization')\n",
    "# plt.legend(loc='upper right')\n",
    "# plt.savefig(os.path.join(IMAGES_DIR,'2.0_No-Regularizer-LSTM.png'))\n",
    "# plt.show()"
   ]
  },
  {
   "cell_type": "code",
   "execution_count": null,
   "id": "3136279a-9f9c-4ac8-9358-ba4fb5890431",
   "metadata": {},
   "outputs": [],
   "source": [
    "# lstm_eval_df = pd.merge(X_test, y_test, left_index=True, right_index=True)\n",
    "# lstm_eval_df['prediction'] = lstm_model.predict(lstm_eval_df.review).ravel()\n",
    "# lstm_eval_df['absolute_error'] = (lstm_eval_df['prediction'] - lstm_eval_df['star']).abs()\n",
    "# lstm_eval_df"
   ]
  },
  {
   "cell_type": "code",
   "execution_count": null,
   "id": "5f327f8f-4e01-454a-bd38-439cf9ae5294",
   "metadata": {},
   "outputs": [],
   "source": [
    "# lstm_eval_df.groupby('star',as_index=False)['prediction'].mean()"
   ]
  }
 ],
 "metadata": {
  "kernelspec": {
   "display_name": "Python 3 (ipykernel)",
   "language": "python",
   "name": "python3"
  },
  "language_info": {
   "codemirror_mode": {
    "name": "ipython",
    "version": 3
   },
   "file_extension": ".py",
   "mimetype": "text/x-python",
   "name": "python",
   "nbconvert_exporter": "python",
   "pygments_lexer": "ipython3",
   "version": "3.9.10"
  }
 },
 "nbformat": 4,
 "nbformat_minor": 5
}
