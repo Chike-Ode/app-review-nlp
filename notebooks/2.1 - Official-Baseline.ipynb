{
 "cells": [
  {
   "cell_type": "markdown",
   "id": "61db35b9-8772-4e85-92d7-b5433d2763c5",
   "metadata": {},
   "source": [
    "# Seq2Vec Sentiment Analysis Modeling in Tensorflow"
   ]
  },
  {
   "cell_type": "markdown",
   "id": "97e0df3f-b1f7-4568-9f97-465fa6213fa0",
   "metadata": {},
   "source": [
    "## 1.0 - Import Packages"
   ]
  },
  {
   "cell_type": "code",
   "execution_count": 59,
   "id": "aceb8a03",
   "metadata": {},
   "outputs": [
    {
     "name": "stderr",
     "output_type": "stream",
     "text": [
      "[nltk_data] Downloading package wordnet to /home/jovyan/nltk_data...\n",
      "[nltk_data]   Package wordnet is already up-to-date!\n",
      "[nltk_data] Downloading package omw-1.4 to /home/jovyan/nltk_data...\n",
      "[nltk_data]   Package omw-1.4 is already up-to-date!\n"
     ]
    },
    {
     "data": {
      "text/plain": [
       "True"
      ]
     },
     "execution_count": 59,
     "metadata": {},
     "output_type": "execute_result"
    }
   ],
   "source": [
    "import tensorflow as tf\n",
    "from tensorflow import keras\n",
    "from tensorflow.keras import layers\n",
    "from tensorflow.keras import losses\n",
    "from tensorflow.keras import regularizers\n",
    "import tensorflow_hub as hub\n",
    "import pandas as pd\n",
    "from keras.layers import Dropout\n",
    "import os\n",
    "import numpy as np\n",
    "import nltk\n",
    "import xgboost\n",
    "nltk.download('wordnet')\n",
    "nltk.download('omw-1.4')"
   ]
  },
  {
   "cell_type": "code",
   "execution_count": 6,
   "id": "8bff7271",
   "metadata": {},
   "outputs": [
    {
     "data": {
      "text/plain": [
       "'/home/jovyan/projects/vector-nlp/models'"
      ]
     },
     "execution_count": 6,
     "metadata": {},
     "output_type": "execute_result"
    }
   ],
   "source": [
    "CUR_DIR = os.path.abspath(os.curdir)\n",
    "ROOT_DIR = os.path.dirname(CUR_DIR)\n",
    "IMAGES_DIR = os.path.join(ROOT_DIR, \"images\")\n",
    "DATA_DIR = os.path.join(ROOT_DIR, \"data\")\n",
    "MODELS_DIR = os.path.join(ROOT_DIR, \"models\")\n",
    "MODELS_DIR"
   ]
  },
  {
   "cell_type": "markdown",
   "id": "c51e122e-0f29-4a5c-a392-91b014a72bfd",
   "metadata": {},
   "source": [
    "## 1.1 Import Data "
   ]
  },
  {
   "cell_type": "code",
   "execution_count": 7,
   "id": "c2a06c15",
   "metadata": {},
   "outputs": [],
   "source": [
    "validation_df = pd.read_csv(os.path.join(DATA_DIR,'raw','validation.csv'))\n",
    "training_df = pd.read_csv(os.path.join(DATA_DIR,'raw','training.csv'))\n",
    "test_df = pd.read_csv(os.path.join(DATA_DIR,'raw','test.csv'))\n"
   ]
  },
  {
   "cell_type": "code",
   "execution_count": 8,
   "id": "6ff5087b",
   "metadata": {},
   "outputs": [],
   "source": [
    "X_train = training_df['review']\n",
    "y_train = training_df['star']\n",
    "\n",
    "X_val = validation_df['review']\n",
    "y_val = validation_df['star']\n",
    "\n",
    "X_test = test_df['review']\n",
    "y_test = test_df['star']"
   ]
  },
  {
   "cell_type": "code",
   "execution_count": 11,
   "id": "9fb7472b-afd7-4779-9939-3d0af9e6727e",
   "metadata": {},
   "outputs": [],
   "source": [
    "train_ds = tf.data.Dataset.from_tensor_slices((X_train,y_train))\n",
    "test_ds = tf.data.Dataset.from_tensor_slices((X_test,y_test))\n",
    "val_ds = tf.data.Dataset.from_tensor_slices((X_val,y_val))"
   ]
  },
  {
   "cell_type": "markdown",
   "id": "08a75aba-54fc-4f10-99b3-8de633ea1650",
   "metadata": {},
   "source": [
    "## 2.0 Create embedding layer & Build simple model"
   ]
  },
  {
   "cell_type": "code",
   "execution_count": 30,
   "id": "65927447-3d22-4e1b-bcdc-b0e72cab15d3",
   "metadata": {},
   "outputs": [],
   "source": [
    "handle = 'https://tfhub.dev/google/tf2-preview/gnews-swivel-20dim-with-oov/1'\n",
    "emb_layer = hub.KerasLayer(handle = handle,\n",
    "               input_shape=[],dtype=tf.string,trainable=True)"
   ]
  },
  {
   "cell_type": "code",
   "execution_count": 29,
   "id": "22b1d1cc-5b78-4a86-9893-3dbbc10ffdc2",
   "metadata": {},
   "outputs": [
    {
     "data": {
      "text/plain": [
       "<tf.Tensor: shape=(2, 20), dtype=float32, numpy=\n",
       "array([[ 0.52211034, -0.5292976 ,  0.33719632,  0.0902942 , -0.6266122 ,\n",
       "         0.45860922, -0.70826894,  0.55458295,  1.1077714 ,  0.40197402,\n",
       "        -1.5735748 ,  0.35205668,  0.8920213 , -0.05832118, -0.29793447,\n",
       "        -0.2865127 ,  0.7564523 ,  0.6519507 , -0.7274325 , -0.45961407],\n",
       "       [ 0.52211034, -0.5292976 ,  0.33719632,  0.0902942 , -0.6266122 ,\n",
       "         0.45860922, -0.70826894,  0.55458295,  1.1077714 ,  0.40197402,\n",
       "        -1.5735748 ,  0.35205668,  0.8920213 , -0.05832118, -0.29793447,\n",
       "        -0.2865127 ,  0.7564523 ,  0.6519507 , -0.7274325 , -0.45961407]],\n",
       "      dtype=float32)>"
      ]
     },
     "execution_count": 29,
     "metadata": {},
     "output_type": "execute_result"
    }
   ],
   "source": [
    "embed = hub.load(handle)\n",
    "embeddings = embed([\"hello\",\"hello\"])\n",
    "embeddings"
   ]
  },
  {
   "cell_type": "code",
   "execution_count": 88,
   "id": "a7011dbe-f60a-47cd-b618-a8c8cf9e93b4",
   "metadata": {},
   "outputs": [
    {
     "name": "stdout",
     "output_type": "stream",
     "text": [
      "Epoch 1/200\n",
      "1351/1351 [==============================] - 9s 6ms/step - loss: 10.5404 - mse: 10.5404 - mae: 2.8891 - val_loss: 6.1315 - val_mse: 6.1315 - val_mae: 2.1505\n",
      "Epoch 2/200\n",
      "1351/1351 [==============================] - 8s 6ms/step - loss: 5.1107 - mse: 5.1107 - mae: 1.8981 - val_loss: 4.0109 - val_mse: 4.0109 - val_mae: 1.6488\n",
      "Epoch 3/200\n",
      "1351/1351 [==============================] - 8s 6ms/step - loss: 3.9929 - mse: 3.9929 - mae: 1.6268 - val_loss: 3.3376 - val_mse: 3.3376 - val_mae: 1.4830\n",
      "Epoch 4/200\n",
      "1351/1351 [==============================] - 8s 6ms/step - loss: 3.4796 - mse: 3.4796 - mae: 1.5093 - val_loss: 2.8754 - val_mse: 2.8754 - val_mae: 1.3751\n",
      "Epoch 5/200\n",
      "1351/1351 [==============================] - 8s 6ms/step - loss: 3.0644 - mse: 3.0644 - mae: 1.4105 - val_loss: 2.5243 - val_mse: 2.5243 - val_mae: 1.2885\n",
      "Epoch 6/200\n",
      "1351/1351 [==============================] - 8s 6ms/step - loss: 2.7594 - mse: 2.7594 - mae: 1.3358 - val_loss: 2.2656 - val_mse: 2.2656 - val_mae: 1.2195\n",
      "Epoch 7/200\n",
      "1351/1351 [==============================] - 8s 6ms/step - loss: 2.5403 - mse: 2.5403 - mae: 1.2770 - val_loss: 2.0723 - val_mse: 2.0723 - val_mae: 1.1645\n",
      "Epoch 8/200\n",
      "1351/1351 [==============================] - 8s 6ms/step - loss: 2.3559 - mse: 2.3559 - mae: 1.2264 - val_loss: 1.9257 - val_mse: 1.9257 - val_mae: 1.1205\n",
      "Epoch 9/200\n",
      "1351/1351 [==============================] - 8s 6ms/step - loss: 2.2130 - mse: 2.2130 - mae: 1.1862 - val_loss: 1.8109 - val_mse: 1.8109 - val_mae: 1.0851\n",
      "Epoch 10/200\n",
      "1351/1351 [==============================] - 8s 6ms/step - loss: 2.1013 - mse: 2.1013 - mae: 1.1527 - val_loss: 1.7192 - val_mse: 1.7192 - val_mae: 1.0538\n",
      "Epoch 11/200\n",
      "1351/1351 [==============================] - 8s 6ms/step - loss: 2.0058 - mse: 2.0058 - mae: 1.1235 - val_loss: 1.6475 - val_mse: 1.6475 - val_mae: 1.0300\n",
      "Epoch 12/200\n",
      "1351/1351 [==============================] - 10s 7ms/step - loss: 1.9241 - mse: 1.9241 - mae: 1.0982 - val_loss: 1.5887 - val_mse: 1.5887 - val_mae: 1.0083\n",
      "Epoch 13/200\n",
      "1351/1351 [==============================] - 9s 7ms/step - loss: 1.8650 - mse: 1.8650 - mae: 1.0780 - val_loss: 1.5426 - val_mse: 1.5426 - val_mae: 0.9911\n",
      "Epoch 14/200\n",
      "1351/1351 [==============================] - 8s 6ms/step - loss: 1.8066 - mse: 1.8066 - mae: 1.0587 - val_loss: 1.5037 - val_mse: 1.5037 - val_mae: 0.9744\n",
      "Epoch 15/200\n",
      "1351/1351 [==============================] - 9s 7ms/step - loss: 1.7588 - mse: 1.7588 - mae: 1.0420 - val_loss: 1.4738 - val_mse: 1.4738 - val_mae: 0.9634\n",
      "Epoch 16/200\n",
      "1351/1351 [==============================] - 9s 7ms/step - loss: 1.7254 - mse: 1.7254 - mae: 1.0294 - val_loss: 1.4479 - val_mse: 1.4479 - val_mae: 0.9526\n",
      "Epoch 17/200\n",
      "1351/1351 [==============================] - 10s 8ms/step - loss: 1.6885 - mse: 1.6885 - mae: 1.0167 - val_loss: 1.4246 - val_mse: 1.4246 - val_mae: 0.9408\n",
      "Epoch 18/200\n",
      "1351/1351 [==============================] - 9s 7ms/step - loss: 1.6555 - mse: 1.6555 - mae: 1.0049 - val_loss: 1.4057 - val_mse: 1.4057 - val_mae: 0.9321\n",
      "Epoch 19/200\n",
      "1351/1351 [==============================] - 8s 6ms/step - loss: 1.6320 - mse: 1.6320 - mae: 0.9961 - val_loss: 1.3898 - val_mse: 1.3898 - val_mae: 0.9244\n",
      "Epoch 20/200\n",
      "1351/1351 [==============================] - 8s 6ms/step - loss: 1.6080 - mse: 1.6080 - mae: 0.9880 - val_loss: 1.3766 - val_mse: 1.3766 - val_mae: 0.9179\n",
      "Epoch 21/200\n",
      "1351/1351 [==============================] - 8s 6ms/step - loss: 1.5876 - mse: 1.5876 - mae: 0.9797 - val_loss: 1.3647 - val_mse: 1.3647 - val_mae: 0.9123\n",
      "Epoch 22/200\n",
      "1351/1351 [==============================] - 8s 6ms/step - loss: 1.5641 - mse: 1.5641 - mae: 0.9709 - val_loss: 1.3537 - val_mse: 1.3537 - val_mae: 0.9053\n",
      "Epoch 23/200\n",
      "1351/1351 [==============================] - 8s 6ms/step - loss: 1.5478 - mse: 1.5478 - mae: 0.9658 - val_loss: 1.3452 - val_mse: 1.3452 - val_mae: 0.9019\n",
      "Epoch 24/200\n",
      "1351/1351 [==============================] - 9s 7ms/step - loss: 1.5319 - mse: 1.5319 - mae: 0.9595 - val_loss: 1.3370 - val_mse: 1.3370 - val_mae: 0.8973\n",
      "Epoch 25/200\n",
      "1351/1351 [==============================] - 9s 7ms/step - loss: 1.5223 - mse: 1.5223 - mae: 0.9549 - val_loss: 1.3295 - val_mse: 1.3295 - val_mae: 0.8936\n",
      "Epoch 26/200\n",
      "1351/1351 [==============================] - 14s 10ms/step - loss: 1.5011 - mse: 1.5011 - mae: 0.9476 - val_loss: 1.3225 - val_mse: 1.3225 - val_mae: 0.8887\n",
      "Epoch 27/200\n",
      "1351/1351 [==============================] - 9s 7ms/step - loss: 1.4976 - mse: 1.4976 - mae: 0.9458 - val_loss: 1.3172 - val_mse: 1.3172 - val_mae: 0.8868\n",
      "Epoch 28/200\n",
      "1351/1351 [==============================] - 9s 6ms/step - loss: 1.4828 - mse: 1.4828 - mae: 0.9397 - val_loss: 1.3115 - val_mse: 1.3115 - val_mae: 0.8832\n",
      "Epoch 29/200\n",
      "1351/1351 [==============================] - 9s 7ms/step - loss: 1.4698 - mse: 1.4698 - mae: 0.9350 - val_loss: 1.3067 - val_mse: 1.3067 - val_mae: 0.8804\n",
      "Epoch 30/200\n",
      "1351/1351 [==============================] - 9s 6ms/step - loss: 1.4635 - mse: 1.4635 - mae: 0.9321 - val_loss: 1.3026 - val_mse: 1.3026 - val_mae: 0.8784\n",
      "Epoch 31/200\n",
      "1351/1351 [==============================] - 9s 6ms/step - loss: 1.4490 - mse: 1.4490 - mae: 0.9260 - val_loss: 1.2978 - val_mse: 1.2978 - val_mae: 0.8740\n",
      "Epoch 32/200\n",
      "1351/1351 [==============================] - 9s 6ms/step - loss: 1.4417 - mse: 1.4417 - mae: 0.9239 - val_loss: 1.2947 - val_mse: 1.2947 - val_mae: 0.8726\n",
      "Epoch 33/200\n",
      "1351/1351 [==============================] - 9s 7ms/step - loss: 1.4331 - mse: 1.4331 - mae: 0.9196 - val_loss: 1.2917 - val_mse: 1.2917 - val_mae: 0.8711\n",
      "Epoch 34/200\n",
      "1351/1351 [==============================] - 9s 7ms/step - loss: 1.4256 - mse: 1.4256 - mae: 0.9171 - val_loss: 1.2886 - val_mse: 1.2886 - val_mae: 0.8692\n",
      "Epoch 35/200\n",
      "1351/1351 [==============================] - 11s 8ms/step - loss: 1.4189 - mse: 1.4189 - mae: 0.9136 - val_loss: 1.2858 - val_mse: 1.2858 - val_mae: 0.8679\n",
      "Epoch 36/200\n",
      "1351/1351 [==============================] - 10s 8ms/step - loss: 1.4125 - mse: 1.4125 - mae: 0.9107 - val_loss: 1.2826 - val_mse: 1.2826 - val_mae: 0.8643\n",
      "Epoch 37/200\n",
      "1351/1351 [==============================] - 9s 6ms/step - loss: 1.4014 - mse: 1.4014 - mae: 0.9065 - val_loss: 1.2803 - val_mse: 1.2803 - val_mae: 0.8632\n",
      "Epoch 38/200\n",
      "1351/1351 [==============================] - 9s 7ms/step - loss: 1.3994 - mse: 1.3994 - mae: 0.9058 - val_loss: 1.2779 - val_mse: 1.2779 - val_mae: 0.8615\n",
      "Epoch 39/200\n",
      "1351/1351 [==============================] - 8s 6ms/step - loss: 1.3883 - mse: 1.3883 - mae: 0.9012 - val_loss: 1.2761 - val_mse: 1.2761 - val_mae: 0.8601\n",
      "Epoch 40/200\n",
      "1351/1351 [==============================] - 8s 6ms/step - loss: 1.3854 - mse: 1.3854 - mae: 0.8999 - val_loss: 1.2746 - val_mse: 1.2746 - val_mae: 0.8596\n",
      "Epoch 41/200\n",
      "1351/1351 [==============================] - 8s 6ms/step - loss: 1.3774 - mse: 1.3774 - mae: 0.8971 - val_loss: 1.2717 - val_mse: 1.2717 - val_mae: 0.8557\n",
      "Epoch 42/200\n",
      "1351/1351 [==============================] - 8s 6ms/step - loss: 1.3715 - mse: 1.3715 - mae: 0.8937 - val_loss: 1.2707 - val_mse: 1.2707 - val_mae: 0.8567\n",
      "Epoch 43/200\n",
      "1351/1351 [==============================] - 8s 6ms/step - loss: 1.3673 - mse: 1.3673 - mae: 0.8930 - val_loss: 1.2687 - val_mse: 1.2687 - val_mae: 0.8552\n",
      "Epoch 44/200\n",
      "1351/1351 [==============================] - 8s 6ms/step - loss: 1.3584 - mse: 1.3584 - mae: 0.8897 - val_loss: 1.2668 - val_mse: 1.2668 - val_mae: 0.8535\n",
      "Epoch 45/200\n",
      "1351/1351 [==============================] - 8s 6ms/step - loss: 1.3590 - mse: 1.3590 - mae: 0.8893 - val_loss: 1.2657 - val_mse: 1.2657 - val_mae: 0.8531\n",
      "Epoch 46/200\n",
      "1351/1351 [==============================] - 8s 6ms/step - loss: 1.3498 - mse: 1.3498 - mae: 0.8855 - val_loss: 1.2642 - val_mse: 1.2642 - val_mae: 0.8518\n",
      "Epoch 47/200\n",
      "1351/1351 [==============================] - 8s 6ms/step - loss: 1.3443 - mse: 1.3443 - mae: 0.8837 - val_loss: 1.2626 - val_mse: 1.2626 - val_mae: 0.8497\n",
      "Epoch 48/200\n",
      "1351/1351 [==============================] - 8s 6ms/step - loss: 1.3387 - mse: 1.3387 - mae: 0.8803 - val_loss: 1.2614 - val_mse: 1.2614 - val_mae: 0.8492\n",
      "Epoch 49/200\n",
      "1351/1351 [==============================] - 8s 6ms/step - loss: 1.3361 - mse: 1.3361 - mae: 0.8793 - val_loss: 1.2606 - val_mse: 1.2606 - val_mae: 0.8489\n",
      "Epoch 50/200\n",
      "1351/1351 [==============================] - 11s 8ms/step - loss: 1.3304 - mse: 1.3304 - mae: 0.8768 - val_loss: 1.2593 - val_mse: 1.2593 - val_mae: 0.8476\n",
      "Epoch 51/200\n",
      "1351/1351 [==============================] - 12s 9ms/step - loss: 1.3253 - mse: 1.3253 - mae: 0.8749 - val_loss: 1.2580 - val_mse: 1.2580 - val_mae: 0.8455\n",
      "Epoch 52/200\n",
      "1351/1351 [==============================] - 11s 8ms/step - loss: 1.3189 - mse: 1.3189 - mae: 0.8721 - val_loss: 1.2570 - val_mse: 1.2570 - val_mae: 0.8448\n",
      "Epoch 53/200\n",
      "1351/1351 [==============================] - 11s 8ms/step - loss: 1.3198 - mse: 1.3198 - mae: 0.8723 - val_loss: 1.2562 - val_mse: 1.2562 - val_mae: 0.8446\n",
      "Epoch 54/200\n",
      "1351/1351 [==============================] - 11s 8ms/step - loss: 1.3127 - mse: 1.3127 - mae: 0.8699 - val_loss: 1.2549 - val_mse: 1.2549 - val_mae: 0.8430\n",
      "Epoch 55/200\n",
      "1351/1351 [==============================] - 11s 8ms/step - loss: 1.3122 - mse: 1.3122 - mae: 0.8690 - val_loss: 1.2540 - val_mse: 1.2540 - val_mae: 0.8420\n",
      "Epoch 56/200\n",
      "1351/1351 [==============================] - 11s 8ms/step - loss: 1.3082 - mse: 1.3082 - mae: 0.8678 - val_loss: 1.2532 - val_mse: 1.2532 - val_mae: 0.8424\n",
      "Epoch 57/200\n",
      "1351/1351 [==============================] - 11s 8ms/step - loss: 1.3052 - mse: 1.3052 - mae: 0.8657 - val_loss: 1.2528 - val_mse: 1.2528 - val_mae: 0.8426\n",
      "Epoch 58/200\n",
      "1351/1351 [==============================] - 11s 8ms/step - loss: 1.2995 - mse: 1.2995 - mae: 0.8639 - val_loss: 1.2515 - val_mse: 1.2515 - val_mae: 0.8400\n",
      "Epoch 59/200\n",
      "1351/1351 [==============================] - 11s 8ms/step - loss: 1.3001 - mse: 1.3001 - mae: 0.8642 - val_loss: 1.2507 - val_mse: 1.2507 - val_mae: 0.8394\n",
      "Epoch 60/200\n",
      "1351/1351 [==============================] - 11s 8ms/step - loss: 1.2938 - mse: 1.2938 - mae: 0.8610 - val_loss: 1.2502 - val_mse: 1.2502 - val_mae: 0.8395\n",
      "Epoch 61/200\n",
      "1351/1351 [==============================] - 11s 8ms/step - loss: 1.2900 - mse: 1.2900 - mae: 0.8596 - val_loss: 1.2493 - val_mse: 1.2493 - val_mae: 0.8380\n",
      "Epoch 62/200\n",
      "1351/1351 [==============================] - 11s 8ms/step - loss: 1.2905 - mse: 1.2905 - mae: 0.8603 - val_loss: 1.2484 - val_mse: 1.2484 - val_mae: 0.8371\n",
      "Epoch 63/200\n",
      "1351/1351 [==============================] - 11s 8ms/step - loss: 1.2841 - mse: 1.2841 - mae: 0.8568 - val_loss: 1.2478 - val_mse: 1.2478 - val_mae: 0.8364\n",
      "Epoch 64/200\n",
      "1351/1351 [==============================] - 11s 8ms/step - loss: 1.2803 - mse: 1.2803 - mae: 0.8551 - val_loss: 1.2471 - val_mse: 1.2471 - val_mae: 0.8367\n",
      "Epoch 65/200\n",
      "1351/1351 [==============================] - 11s 8ms/step - loss: 1.2778 - mse: 1.2778 - mae: 0.8547 - val_loss: 1.2471 - val_mse: 1.2471 - val_mae: 0.8369\n",
      "Epoch 66/200\n",
      "1351/1351 [==============================] - 10s 7ms/step - loss: 1.2741 - mse: 1.2741 - mae: 0.8519 - val_loss: 1.2463 - val_mse: 1.2463 - val_mae: 0.8364\n",
      "Epoch 67/200\n",
      "1351/1351 [==============================] - 9s 7ms/step - loss: 1.2749 - mse: 1.2749 - mae: 0.8524 - val_loss: 1.2455 - val_mse: 1.2455 - val_mae: 0.8351\n",
      "Epoch 68/200\n",
      "1351/1351 [==============================] - 9s 7ms/step - loss: 1.2716 - mse: 1.2716 - mae: 0.8515 - val_loss: 1.2447 - val_mse: 1.2447 - val_mae: 0.8341\n",
      "Epoch 69/200\n",
      "1351/1351 [==============================] - 9s 7ms/step - loss: 1.2693 - mse: 1.2693 - mae: 0.8505 - val_loss: 1.2442 - val_mse: 1.2442 - val_mae: 0.8332\n",
      "Epoch 70/200\n",
      "1351/1351 [==============================] - 10s 7ms/step - loss: 1.2662 - mse: 1.2662 - mae: 0.8483 - val_loss: 1.2435 - val_mse: 1.2435 - val_mae: 0.8328\n",
      "Epoch 71/200\n",
      "1351/1351 [==============================] - 9s 7ms/step - loss: 1.2618 - mse: 1.2618 - mae: 0.8471 - val_loss: 1.2433 - val_mse: 1.2433 - val_mae: 0.8318\n",
      "Epoch 72/200\n",
      "1351/1351 [==============================] - 8s 6ms/step - loss: 1.2602 - mse: 1.2602 - mae: 0.8458 - val_loss: 1.2429 - val_mse: 1.2429 - val_mae: 0.8321\n",
      "Epoch 73/200\n",
      "1351/1351 [==============================] - 8s 6ms/step - loss: 1.2562 - mse: 1.2562 - mae: 0.8442 - val_loss: 1.2420 - val_mse: 1.2420 - val_mae: 0.8309\n",
      "Epoch 74/200\n",
      "1351/1351 [==============================] - 8s 6ms/step - loss: 1.2538 - mse: 1.2538 - mae: 0.8436 - val_loss: 1.2415 - val_mse: 1.2415 - val_mae: 0.8297\n",
      "Epoch 75/200\n",
      "1351/1351 [==============================] - 8s 6ms/step - loss: 1.2526 - mse: 1.2526 - mae: 0.8429 - val_loss: 1.2412 - val_mse: 1.2412 - val_mae: 0.8307\n",
      "Epoch 76/200\n",
      "1351/1351 [==============================] - 8s 6ms/step - loss: 1.2492 - mse: 1.2492 - mae: 0.8410 - val_loss: 1.2409 - val_mse: 1.2409 - val_mae: 0.8292\n",
      "Epoch 77/200\n",
      "1351/1351 [==============================] - 8s 6ms/step - loss: 1.2462 - mse: 1.2462 - mae: 0.8394 - val_loss: 1.2405 - val_mse: 1.2405 - val_mae: 0.8302\n",
      "Epoch 78/200\n",
      "1351/1351 [==============================] - 8s 6ms/step - loss: 1.2458 - mse: 1.2458 - mae: 0.8393 - val_loss: 1.2402 - val_mse: 1.2402 - val_mae: 0.8294\n",
      "Epoch 79/200\n",
      "1351/1351 [==============================] - 7s 6ms/step - loss: 1.2447 - mse: 1.2447 - mae: 0.8387 - val_loss: 1.2396 - val_mse: 1.2396 - val_mae: 0.8292\n",
      "Epoch 80/200\n",
      "1351/1351 [==============================] - 8s 6ms/step - loss: 1.2413 - mse: 1.2413 - mae: 0.8373 - val_loss: 1.2389 - val_mse: 1.2389 - val_mae: 0.8276\n",
      "Epoch 81/200\n",
      "1351/1351 [==============================] - 8s 6ms/step - loss: 1.2407 - mse: 1.2407 - mae: 0.8371 - val_loss: 1.2389 - val_mse: 1.2389 - val_mae: 0.8270\n",
      "Epoch 82/200\n",
      "1351/1351 [==============================] - 8s 6ms/step - loss: 1.2363 - mse: 1.2363 - mae: 0.8355 - val_loss: 1.2383 - val_mse: 1.2383 - val_mae: 0.8265\n",
      "Epoch 83/200\n",
      "1351/1351 [==============================] - 8s 6ms/step - loss: 1.2336 - mse: 1.2336 - mae: 0.8338 - val_loss: 1.2378 - val_mse: 1.2378 - val_mae: 0.8260\n",
      "Epoch 84/200\n",
      "1351/1351 [==============================] - 8s 6ms/step - loss: 1.2333 - mse: 1.2333 - mae: 0.8333 - val_loss: 1.2378 - val_mse: 1.2378 - val_mae: 0.8271\n",
      "Epoch 85/200\n",
      "1351/1351 [==============================] - 8s 6ms/step - loss: 1.2304 - mse: 1.2304 - mae: 0.8326 - val_loss: 1.2370 - val_mse: 1.2370 - val_mae: 0.8252\n",
      "Epoch 86/200\n",
      "1351/1351 [==============================] - 8s 6ms/step - loss: 1.2328 - mse: 1.2328 - mae: 0.8327 - val_loss: 1.2374 - val_mse: 1.2374 - val_mae: 0.8262\n",
      "Epoch 87/200\n",
      "1351/1351 [==============================] - 9s 6ms/step - loss: 1.2272 - mse: 1.2272 - mae: 0.8312 - val_loss: 1.2366 - val_mse: 1.2366 - val_mae: 0.8256\n",
      "Epoch 88/200\n",
      "1351/1351 [==============================] - 9s 7ms/step - loss: 1.2273 - mse: 1.2273 - mae: 0.8311 - val_loss: 1.2363 - val_mse: 1.2363 - val_mae: 0.8255\n",
      "Epoch 89/200\n",
      "1351/1351 [==============================] - 8s 6ms/step - loss: 1.2248 - mse: 1.2248 - mae: 0.8305 - val_loss: 1.2360 - val_mse: 1.2360 - val_mae: 0.8241\n",
      "Epoch 90/200\n",
      "1351/1351 [==============================] - 8s 6ms/step - loss: 1.2234 - mse: 1.2234 - mae: 0.8284 - val_loss: 1.2357 - val_mse: 1.2357 - val_mae: 0.8241\n",
      "Epoch 91/200\n",
      "1351/1351 [==============================] - 8s 6ms/step - loss: 1.2193 - mse: 1.2193 - mae: 0.8267 - val_loss: 1.2355 - val_mse: 1.2355 - val_mae: 0.8229\n",
      "Epoch 92/200\n",
      "1351/1351 [==============================] - 8s 6ms/step - loss: 1.2185 - mse: 1.2185 - mae: 0.8267 - val_loss: 1.2350 - val_mse: 1.2350 - val_mae: 0.8244\n",
      "Epoch 93/200\n",
      "1351/1351 [==============================] - 8s 6ms/step - loss: 1.2165 - mse: 1.2165 - mae: 0.8255 - val_loss: 1.2347 - val_mse: 1.2347 - val_mae: 0.8228\n",
      "Epoch 94/200\n",
      "1351/1351 [==============================] - 8s 6ms/step - loss: 1.2151 - mse: 1.2151 - mae: 0.8247 - val_loss: 1.2346 - val_mse: 1.2346 - val_mae: 0.8227\n",
      "Epoch 95/200\n",
      "1351/1351 [==============================] - 8s 6ms/step - loss: 1.2144 - mse: 1.2144 - mae: 0.8244 - val_loss: 1.2343 - val_mse: 1.2343 - val_mae: 0.8229\n",
      "Epoch 96/200\n",
      "1351/1351 [==============================] - 8s 6ms/step - loss: 1.2134 - mse: 1.2134 - mae: 0.8241 - val_loss: 1.2341 - val_mse: 1.2341 - val_mae: 0.8222\n",
      "Epoch 97/200\n",
      "1351/1351 [==============================] - 8s 6ms/step - loss: 1.2097 - mse: 1.2097 - mae: 0.8225 - val_loss: 1.2337 - val_mse: 1.2337 - val_mae: 0.8211\n",
      "Epoch 98/200\n",
      "1351/1351 [==============================] - 8s 6ms/step - loss: 1.2065 - mse: 1.2065 - mae: 0.8210 - val_loss: 1.2336 - val_mse: 1.2336 - val_mae: 0.8218\n",
      "Epoch 99/200\n",
      "1351/1351 [==============================] - 8s 6ms/step - loss: 1.2095 - mse: 1.2095 - mae: 0.8217 - val_loss: 1.2332 - val_mse: 1.2332 - val_mae: 0.8212\n",
      "Epoch 100/200\n",
      "1351/1351 [==============================] - 8s 6ms/step - loss: 1.2074 - mse: 1.2074 - mae: 0.8208 - val_loss: 1.2330 - val_mse: 1.2330 - val_mae: 0.8216\n",
      "Epoch 101/200\n",
      "1351/1351 [==============================] - 8s 6ms/step - loss: 1.2058 - mse: 1.2058 - mae: 0.8199 - val_loss: 1.2329 - val_mse: 1.2329 - val_mae: 0.8216\n",
      "Epoch 102/200\n",
      "1351/1351 [==============================] - 8s 6ms/step - loss: 1.2059 - mse: 1.2059 - mae: 0.8201 - val_loss: 1.2326 - val_mse: 1.2326 - val_mae: 0.8209\n",
      "Epoch 103/200\n",
      "1351/1351 [==============================] - 8s 6ms/step - loss: 1.2033 - mse: 1.2033 - mae: 0.8193 - val_loss: 1.2325 - val_mse: 1.2325 - val_mae: 0.8208\n",
      "Epoch 104/200\n",
      "1351/1351 [==============================] - 7s 6ms/step - loss: 1.1996 - mse: 1.1996 - mae: 0.8175 - val_loss: 1.2320 - val_mse: 1.2320 - val_mae: 0.8191\n",
      "Epoch 105/200\n",
      "1351/1351 [==============================] - 7s 6ms/step - loss: 1.1999 - mse: 1.1999 - mae: 0.8171 - val_loss: 1.2320 - val_mse: 1.2320 - val_mae: 0.8203\n",
      "Epoch 106/200\n",
      "1351/1351 [==============================] - 8s 6ms/step - loss: 1.2000 - mse: 1.2000 - mae: 0.8171 - val_loss: 1.2319 - val_mse: 1.2319 - val_mae: 0.8207\n",
      "Epoch 107/200\n",
      "1351/1351 [==============================] - 9s 7ms/step - loss: 1.1983 - mse: 1.1983 - mae: 0.8159 - val_loss: 1.2316 - val_mse: 1.2316 - val_mae: 0.8208\n",
      "Epoch 108/200\n",
      "1351/1351 [==============================] - 9s 7ms/step - loss: 1.1956 - mse: 1.1956 - mae: 0.8143 - val_loss: 1.2315 - val_mse: 1.2315 - val_mae: 0.8196\n",
      "Epoch 109/200\n",
      "1351/1351 [==============================] - 9s 7ms/step - loss: 1.1936 - mse: 1.1936 - mae: 0.8139 - val_loss: 1.2311 - val_mse: 1.2311 - val_mae: 0.8189\n",
      "Epoch 110/200\n",
      "1351/1351 [==============================] - 9s 7ms/step - loss: 1.1925 - mse: 1.1925 - mae: 0.8135 - val_loss: 1.2310 - val_mse: 1.2310 - val_mae: 0.8195\n",
      "Epoch 111/200\n",
      "1351/1351 [==============================] - 9s 6ms/step - loss: 1.1940 - mse: 1.1940 - mae: 0.8142 - val_loss: 1.2309 - val_mse: 1.2309 - val_mae: 0.8186\n",
      "Epoch 112/200\n",
      "1351/1351 [==============================] - 8s 6ms/step - loss: 1.1901 - mse: 1.1901 - mae: 0.8124 - val_loss: 1.2307 - val_mse: 1.2307 - val_mae: 0.8179\n",
      "Epoch 113/200\n",
      "1351/1351 [==============================] - 8s 6ms/step - loss: 1.1887 - mse: 1.1887 - mae: 0.8112 - val_loss: 1.2306 - val_mse: 1.2306 - val_mae: 0.8179\n",
      "Epoch 114/200\n",
      "1351/1351 [==============================] - 8s 6ms/step - loss: 1.1895 - mse: 1.1895 - mae: 0.8119 - val_loss: 1.2308 - val_mse: 1.2308 - val_mae: 0.8191\n",
      "Epoch 115/200\n",
      "1351/1351 [==============================] - 9s 6ms/step - loss: 1.1869 - mse: 1.1869 - mae: 0.8108 - val_loss: 1.2305 - val_mse: 1.2305 - val_mae: 0.8178\n",
      "Epoch 116/200\n",
      "1351/1351 [==============================] - 8s 6ms/step - loss: 1.1876 - mse: 1.1876 - mae: 0.8108 - val_loss: 1.2303 - val_mse: 1.2303 - val_mae: 0.8178\n",
      "Epoch 117/200\n",
      "1351/1351 [==============================] - 9s 7ms/step - loss: 1.1864 - mse: 1.1864 - mae: 0.8105 - val_loss: 1.2302 - val_mse: 1.2302 - val_mae: 0.8183\n",
      "Epoch 118/200\n",
      "1351/1351 [==============================] - 8s 6ms/step - loss: 1.1868 - mse: 1.1868 - mae: 0.8106 - val_loss: 1.2300 - val_mse: 1.2300 - val_mae: 0.8171\n",
      "Epoch 119/200\n",
      "1351/1351 [==============================] - 8s 6ms/step - loss: 1.1832 - mse: 1.1832 - mae: 0.8085 - val_loss: 1.2298 - val_mse: 1.2298 - val_mae: 0.8168\n",
      "Epoch 120/200\n",
      "1351/1351 [==============================] - 9s 6ms/step - loss: 1.1818 - mse: 1.1818 - mae: 0.8078 - val_loss: 1.2296 - val_mse: 1.2296 - val_mae: 0.8165\n",
      "Epoch 121/200\n",
      "1351/1351 [==============================] - 9s 6ms/step - loss: 1.1822 - mse: 1.1822 - mae: 0.8076 - val_loss: 1.2296 - val_mse: 1.2296 - val_mae: 0.8165\n",
      "Epoch 122/200\n",
      "1351/1351 [==============================] - 9s 7ms/step - loss: 1.1807 - mse: 1.1807 - mae: 0.8071 - val_loss: 1.2296 - val_mse: 1.2296 - val_mae: 0.8169\n",
      "Epoch 123/200\n",
      "1351/1351 [==============================] - 9s 7ms/step - loss: 1.1804 - mse: 1.1804 - mae: 0.8070 - val_loss: 1.2294 - val_mse: 1.2294 - val_mae: 0.8168\n",
      "Epoch 124/200\n",
      "1351/1351 [==============================] - 9s 6ms/step - loss: 1.1803 - mse: 1.1803 - mae: 0.8065 - val_loss: 1.2293 - val_mse: 1.2293 - val_mae: 0.8159\n",
      "Epoch 125/200\n",
      "1351/1351 [==============================] - 9s 7ms/step - loss: 1.1786 - mse: 1.1786 - mae: 0.8057 - val_loss: 1.2292 - val_mse: 1.2292 - val_mae: 0.8161\n",
      "Epoch 126/200\n",
      "1351/1351 [==============================] - 9s 6ms/step - loss: 1.1804 - mse: 1.1804 - mae: 0.8067 - val_loss: 1.2293 - val_mse: 1.2293 - val_mae: 0.8159\n",
      "Epoch 127/200\n",
      "1351/1351 [==============================] - 9s 6ms/step - loss: 1.1781 - mse: 1.1781 - mae: 0.8055 - val_loss: 1.2290 - val_mse: 1.2290 - val_mae: 0.8156\n",
      "Epoch 128/200\n",
      "1351/1351 [==============================] - 8s 6ms/step - loss: 1.1784 - mse: 1.1784 - mae: 0.8055 - val_loss: 1.2290 - val_mse: 1.2290 - val_mae: 0.8150\n",
      "Epoch 129/200\n",
      "1351/1351 [==============================] - 9s 6ms/step - loss: 1.1756 - mse: 1.1756 - mae: 0.8040 - val_loss: 1.2289 - val_mse: 1.2289 - val_mae: 0.8153\n",
      "Epoch 130/200\n",
      "1351/1351 [==============================] - 9s 6ms/step - loss: 1.1725 - mse: 1.1725 - mae: 0.8025 - val_loss: 1.2289 - val_mse: 1.2289 - val_mae: 0.8150\n",
      "Epoch 131/200\n",
      "1351/1351 [==============================] - 9s 6ms/step - loss: 1.1753 - mse: 1.1753 - mae: 0.8038 - val_loss: 1.2290 - val_mse: 1.2290 - val_mae: 0.8153\n",
      "Epoch 132/200\n",
      "1351/1351 [==============================] - 9s 6ms/step - loss: 1.1730 - mse: 1.1730 - mae: 0.8025 - val_loss: 1.2289 - val_mse: 1.2289 - val_mae: 0.8146\n",
      "Epoch 133/200\n",
      "1351/1351 [==============================] - 8s 6ms/step - loss: 1.1729 - mse: 1.1729 - mae: 0.8021 - val_loss: 1.2289 - val_mse: 1.2289 - val_mae: 0.8152\n"
     ]
    }
   ],
   "source": [
    "epochs = 200\n",
    "emb_layer = hub.KerasLayer(handle = handle, output_shape=(20,),\n",
    "               input_shape=(),dtype=tf.string,trainable=True)\n",
    "callback = tf.keras.callbacks.EarlyStopping(monitor='val_loss', patience=3)\n",
    "\n",
    "base_model = keras.Sequential([\n",
    "        emb_layer,\n",
    "        layers.Dense(10,activation='relu'),\n",
    "        layers.Dropout(0.1),\n",
    "        layers.Dense(1,activation='relu')])\n",
    "base_model.compile(loss=tf.keras.losses.MeanSquaredError(),optimizer=keras.optimizers.Adam(lr=0.00005,decay=1e-6),metrics=['mse','mae'])\n",
    "\n",
    "\n",
    "base_history = base_model.fit(train_ds.batch(128),#.shuffle(2000).batch(128),\n",
    "                    epochs = epochs,\n",
    "                    validation_data=val_ds.batch(128),#.batch(128),\n",
    "                    callbacks=[callback],\n",
    "                    verbose=1)"
   ]
  },
  {
   "cell_type": "code",
   "execution_count": 89,
   "id": "72bc4ae6-37d0-44ab-a954-15ff28067f47",
   "metadata": {},
   "outputs": [
    {
     "data": {
      "image/png": "[encoded data removed]",
      "text/plain": [
       "<Figure size 432x288 with 1 Axes>"
      ]
     },
     "metadata": {
      "needs_background": "light"
     },
     "output_type": "display_data"
    }
   ],
   "source": [
    "import matplotlib.pyplot as plt\n",
    "plt.plot(base_history.history['loss'], label='training')\n",
    "plt.plot(base_history.history['val_loss'], label='val')\n",
    "plt.xlabel('epoch')\n",
    "plt.ylabel('loss')\n",
    "plt.legend(loc='upper left')\n",
    "plt.show()"
   ]
  },
  {
   "cell_type": "code",
   "execution_count": 90,
   "id": "d583bd13",
   "metadata": {},
   "outputs": [
    {
     "data": {
      "text/plain": [
       "array([[4.670684 ],\n",
       "       [2.7985737],\n",
       "       [2.724489 ],\n",
       "       ...,\n",
       "       [2.8548956],\n",
       "       [3.7767649],\n",
       "       [4.2959566]], dtype=float32)"
      ]
     },
     "execution_count": 90,
     "metadata": {},
     "output_type": "execute_result"
    }
   ],
   "source": [
    "y_pred = base_model.predict(X_test)\n",
    "y_pred"
   ]
  },
  {
   "cell_type": "code",
   "execution_count": 91,
   "id": "bffe012a-4008-44b4-a4e3-8173ac95587e",
   "metadata": {},
   "outputs": [
    {
     "data": {
      "text/plain": [
       "array([6.3934717], dtype=float32)"
      ]
     },
     "execution_count": 91,
     "metadata": {},
     "output_type": "execute_result"
    }
   ],
   "source": [
    "max(y_pred)"
   ]
  },
  {
   "cell_type": "code",
   "execution_count": 92,
   "id": "f44c4264",
   "metadata": {},
   "outputs": [
    {
     "data": {
      "text/plain": [
       "0.8172741827726335"
      ]
     },
     "execution_count": 92,
     "metadata": {},
     "output_type": "execute_result"
    }
   ],
   "source": [
    "from sklearn.metrics import mean_absolute_error\n",
    "mean_absolute_error(y_test, y_pred)"
   ]
  },
  {
   "cell_type": "code",
   "execution_count": 93,
   "id": "7c503047",
   "metadata": {},
   "outputs": [
    {
     "name": "stdout",
     "output_type": "stream",
     "text": [
      "Model: \"sequential_31\"\n",
      "_________________________________________________________________\n",
      "Layer (type)                 Output Shape              Param #   \n",
      "=================================================================\n",
      "keras_layer_21 (KerasLayer)  (None, 20)                389380    \n",
      "_________________________________________________________________\n",
      "dense_62 (Dense)             (None, 10)                210       \n",
      "_________________________________________________________________\n",
      "dropout_12 (Dropout)         (None, 10)                0         \n",
      "_________________________________________________________________\n",
      "dense_63 (Dense)             (None, 1)                 11        \n",
      "=================================================================\n",
      "Total params: 389,601\n",
      "Trainable params: 389,601\n",
      "Non-trainable params: 0\n",
      "_________________________________________________________________\n"
     ]
    }
   ],
   "source": [
    "base_model.summary()"
   ]
  },
  {
   "cell_type": "code",
   "execution_count": 18,
   "id": "780ae5a4",
   "metadata": {},
   "outputs": [
    {
     "name": "stderr",
     "output_type": "stream",
     "text": [
      "2022-03-07 03:35:23.959751: W tensorflow/python/util/util.cc:348] Sets are not currently considered sequences, but this may change in the future, so consider avoiding using them.\n",
      "WARNING:absl:Found untraced functions such as lstm_cell_1_layer_call_fn, lstm_cell_1_layer_call_and_return_conditional_losses, lstm_cell_2_layer_call_fn, lstm_cell_2_layer_call_and_return_conditional_losses, lstm_cell_1_layer_call_fn while saving (showing 5 of 10). These functions will not be directly callable after loading.\n"
     ]
    },
    {
     "name": "stdout",
     "output_type": "stream",
     "text": [
      "INFO:tensorflow:Assets written to: /home/jovyan/projects/vector-nlp/models/2.1-LSTM_TFIDF/assets\n"
     ]
    },
    {
     "name": "stderr",
     "output_type": "stream",
     "text": [
      "INFO:tensorflow:Assets written to: /home/jovyan/projects/vector-nlp/models/2.1-LSTM_TFIDF/assets\n"
     ]
    }
   ],
   "source": [
    "base_model.save(os.path.join(MODELS_DIR,'baseline-dl-model'))"
   ]
  },
  {
   "cell_type": "code",
   "execution_count": 19,
   "id": "07365aad",
   "metadata": {},
   "outputs": [
    {
     "name": "stdout",
     "output_type": "stream",
     "text": [
      "Model: \"sequential\"\n",
      "_________________________________________________________________\n",
      "Layer (type)                 Output Shape              Param #   \n",
      "=================================================================\n",
      "text_vectorization (TextVect (None, None)              0         \n",
      "_________________________________________________________________\n",
      "embedding (Embedding)        (None, None, 64)          4385152   \n",
      "_________________________________________________________________\n",
      "bidirectional (Bidirectional (None, 128)               66048     \n",
      "_________________________________________________________________\n",
      "dense (Dense)                (None, 64)                8256      \n",
      "_________________________________________________________________\n",
      "dense_1 (Dense)              (None, 1)                 65        \n",
      "=================================================================\n",
      "Total params: 4,459,521\n",
      "Trainable params: 4,459,521\n",
      "Non-trainable params: 0\n",
      "_________________________________________________________________\n"
     ]
    }
   ],
   "source": [
    "new_model = tf.keras.models.load_model(os.path.join(MODELS_DIR,'2.1-LSTM_TFIDF'))\n",
    "new_model.summary()"
   ]
  },
  {
   "cell_type": "code",
   "execution_count": 94,
   "id": "be1cee57",
   "metadata": {},
   "outputs": [
    {
     "data": {
      "image/png": "[encoded data removed]",
      "text/plain": [
       "<IPython.core.display.Image object>"
      ]
     },
     "execution_count": 94,
     "metadata": {},
     "output_type": "execute_result"
    }
   ],
   "source": [
    "path = os.path.join(IMAGES_DIR,'2.1-LSTM_MODEL_PLOT.png')\n",
    "tf.keras.utils.plot_model(model,show_shapes=True, show_dtype=True,\n",
    "    show_layer_names=True, rankdir='TB', expand_nested=True, dpi=96)"
   ]
  },
  {
   "cell_type": "code",
   "execution_count": 95,
   "id": "17793923",
   "metadata": {},
   "outputs": [
    {
     "data": {
      "text/html": [
       "<div>\n",
       "<style scoped>\n",
       "    .dataframe tbody tr th:only-of-type {\n",
       "        vertical-align: middle;\n",
       "    }\n",
       "\n",
       "    .dataframe tbody tr th {\n",
       "        vertical-align: top;\n",
       "    }\n",
       "\n",
       "    .dataframe thead th {\n",
       "        text-align: right;\n",
       "    }\n",
       "</style>\n",
       "<table border=\"1\" class=\"dataframe\">\n",
       "  <thead>\n",
       "    <tr style=\"text-align: right;\">\n",
       "      <th></th>\n",
       "      <th>review</th>\n",
       "      <th>star</th>\n",
       "      <th>prediction</th>\n",
       "      <th>absolute_error</th>\n",
       "    </tr>\n",
       "  </thead>\n",
       "  <tbody>\n",
       "    <tr>\n",
       "      <th>0</th>\n",
       "      <td>Very fast</td>\n",
       "      <td>5</td>\n",
       "      <td>4.670684</td>\n",
       "      <td>0.329316</td>\n",
       "    </tr>\n",
       "    <tr>\n",
       "      <th>1</th>\n",
       "      <td>Good app It still has pops and pauses</td>\n",
       "      <td>4</td>\n",
       "      <td>2.798574</td>\n",
       "      <td>1.201426</td>\n",
       "    </tr>\n",
       "    <tr>\n",
       "      <th>2</th>\n",
       "      <td>Google play services Have not tried it yet.</td>\n",
       "      <td>4</td>\n",
       "      <td>2.724489</td>\n",
       "      <td>1.275511</td>\n",
       "    </tr>\n",
       "    <tr>\n",
       "      <th>3</th>\n",
       "      <td>It's a average working</td>\n",
       "      <td>1</td>\n",
       "      <td>3.233011</td>\n",
       "      <td>2.233011</td>\n",
       "    </tr>\n",
       "    <tr>\n",
       "      <th>4</th>\n",
       "      <td>annoying notification that made my phone to cr...</td>\n",
       "      <td>1</td>\n",
       "      <td>1.612642</td>\n",
       "      <td>0.612642</td>\n",
       "    </tr>\n",
       "    <tr>\n",
       "      <th>...</th>\n",
       "      <td>...</td>\n",
       "      <td>...</td>\n",
       "      <td>...</td>\n",
       "      <td>...</td>\n",
       "    </tr>\n",
       "    <tr>\n",
       "      <th>57608</th>\n",
       "      <td>Deep web If u are trying to go on the deep Web...</td>\n",
       "      <td>5</td>\n",
       "      <td>2.996448</td>\n",
       "      <td>2.003552</td>\n",
       "    </tr>\n",
       "    <tr>\n",
       "      <th>57609</th>\n",
       "      <td>nice It is a key app to your device though It ...</td>\n",
       "      <td>4</td>\n",
       "      <td>3.262773</td>\n",
       "      <td>0.737227</td>\n",
       "    </tr>\n",
       "    <tr>\n",
       "      <th>57610</th>\n",
       "      <td>To many fuking glitchs</td>\n",
       "      <td>2</td>\n",
       "      <td>2.854896</td>\n",
       "      <td>0.854896</td>\n",
       "    </tr>\n",
       "    <tr>\n",
       "      <th>57611</th>\n",
       "      <td>Theives If you turn on quick torch settings th...</td>\n",
       "      <td>1</td>\n",
       "      <td>3.776765</td>\n",
       "      <td>2.776765</td>\n",
       "    </tr>\n",
       "    <tr>\n",
       "      <th>57612</th>\n",
       "      <td>Super All install and enjoy</td>\n",
       "      <td>5</td>\n",
       "      <td>4.295957</td>\n",
       "      <td>0.704043</td>\n",
       "    </tr>\n",
       "  </tbody>\n",
       "</table>\n",
       "<p>57613 rows × 4 columns</p>\n",
       "</div>"
      ],
      "text/plain": [
       "                                                  review  star  prediction  \\\n",
       "0                                              Very fast     5    4.670684   \n",
       "1                  Good app It still has pops and pauses     4    2.798574   \n",
       "2            Google play services Have not tried it yet.     4    2.724489   \n",
       "3                                 It's a average working     1    3.233011   \n",
       "4      annoying notification that made my phone to cr...     1    1.612642   \n",
       "...                                                  ...   ...         ...   \n",
       "57608  Deep web If u are trying to go on the deep Web...     5    2.996448   \n",
       "57609  nice It is a key app to your device though It ...     4    3.262773   \n",
       "57610                             To many fuking glitchs     2    2.854896   \n",
       "57611  Theives If you turn on quick torch settings th...     1    3.776765   \n",
       "57612                        Super All install and enjoy     5    4.295957   \n",
       "\n",
       "       absolute_error  \n",
       "0            0.329316  \n",
       "1            1.201426  \n",
       "2            1.275511  \n",
       "3            2.233011  \n",
       "4            0.612642  \n",
       "...               ...  \n",
       "57608        2.003552  \n",
       "57609        0.737227  \n",
       "57610        0.854896  \n",
       "57611        2.776765  \n",
       "57612        0.704043  \n",
       "\n",
       "[57613 rows x 4 columns]"
      ]
     },
     "execution_count": 95,
     "metadata": {},
     "output_type": "execute_result"
    }
   ],
   "source": [
    "eval_df = pd.merge(X_test, y_test, left_index=True, right_index=True)\n",
    "eval_df['prediction'] = base_model.predict(eval_df.review).ravel()\n",
    "eval_df['absolute_error'] = (eval_df['prediction'] - eval_df['star']).abs()\n",
    "eval_df"
   ]
  },
  {
   "cell_type": "markdown",
   "id": "90d22bea-5d18-41fa-ab37-4be30c0c69a2",
   "metadata": {
    "tags": []
   },
   "source": [
    "## RNN"
   ]
  },
  {
   "cell_type": "code",
   "execution_count": 108,
   "id": "2cccfc50-5273-4c20-a693-ce3958ef3527",
   "metadata": {},
   "outputs": [
    {
     "data": {
      "text/plain": [
       "TensorShape([172839, 20])"
      ]
     },
     "execution_count": 108,
     "metadata": {},
     "output_type": "execute_result"
    }
   ],
   "source": [
    "embed\n",
    "embed(X_train).shape"
   ]
  },
  {
   "cell_type": "code",
   "execution_count": 152,
   "id": "586aa595-0921-4789-bd7d-c1d1df95306a",
   "metadata": {},
   "outputs": [
    {
     "name": "stdout",
     "output_type": "stream",
     "text": [
      "Epoch 1/100\n",
      "5402/5402 [==============================] - 85s 16ms/step - loss: 1.7686 - mse: 1.7686 - mae: 1.0210 - val_loss: 1.2425 - val_mse: 1.2425 - val_mae: 0.8233\n",
      "Epoch 2/100\n",
      "5402/5402 [==============================] - 86s 16ms/step - loss: 1.1989 - mse: 1.1989 - mae: 0.8035 - val_loss: 1.2771 - val_mse: 1.2771 - val_mae: 0.7720\n",
      "Epoch 3/100\n",
      "5402/5402 [==============================] - 86s 16ms/step - loss: 1.1469 - mse: 1.1469 - mae: 0.7780 - val_loss: 1.1950 - val_mse: 1.1950 - val_mae: 0.7998\n",
      "Epoch 4/100\n",
      "5402/5402 [==============================] - 87s 16ms/step - loss: 1.1098 - mse: 1.1098 - mae: 0.7585 - val_loss: 1.1947 - val_mse: 1.1947 - val_mae: 0.7739\n",
      "Epoch 5/100\n",
      "5402/5402 [==============================] - 89s 16ms/step - loss: 1.0768 - mse: 1.0768 - mae: 0.7410 - val_loss: 1.2278 - val_mse: 1.2278 - val_mae: 0.7702\n",
      "Epoch 6/100\n",
      "5402/5402 [==============================] - 88s 16ms/step - loss: 1.0484 - mse: 1.0484 - mae: 0.7264 - val_loss: 1.2167 - val_mse: 1.2167 - val_mae: 0.7790\n",
      "Epoch 7/100\n",
      "5402/5402 [==============================] - 96s 18ms/step - loss: 1.0192 - mse: 1.0192 - mae: 0.7109 - val_loss: 1.2162 - val_mse: 1.2162 - val_mae: 0.7879\n"
     ]
    }
   ],
   "source": [
    "rnn_emb_layer = emb_layer = hub.KerasLayer(handle = handle, output_shape=[20],\n",
    "               input_shape=(),dtype=tf.string,trainable=True)\n",
    "rnn_model = tf.keras.Sequential([\n",
    "    rnn_emb_layer,\n",
    "    layers.Reshape(target_shape= (20,1)),\n",
    "    # layers.Dense(20,activation='relu'),\n",
    "    # layers.SimpleRNN(20,return_sequences=True,input_shape=(None, 20), activation='relu'),\n",
    "    layers.SimpleRNN(15,input_shape=(None, 20), activation='tanh',return_sequences=True),\n",
    "    layers.SimpleRNN(10,input_shape=(None, 15), activation='tanh',return_sequences=False),\n",
    "    layers.Dense(5,activation='tanh'),\n",
    "    layers.Dense(1,activation='relu')\n",
    "])\n",
    "rnn_model.compile(loss='mse',\n",
    "              optimizer=tf.keras.optimizers.Adam(learning_rate=0.001),\n",
    "              metrics=['mse','mae'])\n",
    "\n",
    "num_epochs=100\n",
    "rnn_history=rnn_model.fit(X_train, \n",
    "                          y_train, \n",
    "                          epochs=num_epochs, \n",
    "                          validation_data = (X_val, y_val), \n",
    "                          callbacks=[callback],\n",
    "                          verbose=1)"
   ]
  },
  {
   "cell_type": "code",
   "execution_count": 153,
   "id": "8d2b0d60-37ed-4602-8652-0022e9576708",
   "metadata": {},
   "outputs": [
    {
     "data": {
      "image/png": "[encoded data removed]",
      "text/plain": [
       "<Figure size 432x288 with 1 Axes>"
      ]
     },
     "metadata": {
      "needs_background": "light"
     },
     "output_type": "display_data"
    }
   ],
   "source": [
    "plt.plot(rnn_history.history['loss'], label='training')\n",
    "plt.plot(rnn_history.history['val_loss'], label='val')\n",
    "plt.xlabel('epoch')\n",
    "plt.ylabel('loss')\n",
    "plt.legend(loc='upper left')\n",
    "plt.show()"
   ]
  },
  {
   "cell_type": "code",
   "execution_count": 154,
   "id": "50b442e6-8d3e-4b99-8e08-9aa183bfad74",
   "metadata": {},
   "outputs": [
    {
     "data": {
      "text/plain": [
       "array([[4.7266855],\n",
       "       [3.9887102],\n",
       "       [3.47953  ],\n",
       "       ...,\n",
       "       [1.4645511],\n",
       "       [3.9329932],\n",
       "       [4.7164497]], dtype=float32)"
      ]
     },
     "execution_count": 154,
     "metadata": {},
     "output_type": "execute_result"
    }
   ],
   "source": [
    "y_pred = rnn_model.predict(X_test)\n",
    "y_pred"
   ]
  },
  {
   "cell_type": "code",
   "execution_count": 149,
   "id": "ff5d87fc-241c-48e1-b506-7bd809400191",
   "metadata": {},
   "outputs": [
    {
     "data": {
      "text/plain": [
       "array([4.746273], dtype=float32)"
      ]
     },
     "execution_count": 149,
     "metadata": {},
     "output_type": "execute_result"
    }
   ],
   "source": [
    "y_pred[0]"
   ]
  },
  {
   "cell_type": "code",
   "execution_count": 155,
   "id": "a4c1e39f-1fb6-43b1-977f-87c669d0b441",
   "metadata": {},
   "outputs": [
    {
     "data": {
      "text/html": [
       "<div>\n",
       "<style scoped>\n",
       "    .dataframe tbody tr th:only-of-type {\n",
       "        vertical-align: middle;\n",
       "    }\n",
       "\n",
       "    .dataframe tbody tr th {\n",
       "        vertical-align: top;\n",
       "    }\n",
       "\n",
       "    .dataframe thead th {\n",
       "        text-align: right;\n",
       "    }\n",
       "</style>\n",
       "<table border=\"1\" class=\"dataframe\">\n",
       "  <thead>\n",
       "    <tr style=\"text-align: right;\">\n",
       "      <th></th>\n",
       "      <th>review</th>\n",
       "      <th>star</th>\n",
       "      <th>prediction</th>\n",
       "      <th>absolute_error</th>\n",
       "    </tr>\n",
       "  </thead>\n",
       "  <tbody>\n",
       "    <tr>\n",
       "      <th>0</th>\n",
       "      <td>Very fast</td>\n",
       "      <td>5</td>\n",
       "      <td>4.726686</td>\n",
       "      <td>0.273314</td>\n",
       "    </tr>\n",
       "    <tr>\n",
       "      <th>1</th>\n",
       "      <td>Good app It still has pops and pauses</td>\n",
       "      <td>4</td>\n",
       "      <td>3.988710</td>\n",
       "      <td>0.011290</td>\n",
       "    </tr>\n",
       "    <tr>\n",
       "      <th>2</th>\n",
       "      <td>Google play services Have not tried it yet.</td>\n",
       "      <td>4</td>\n",
       "      <td>3.479530</td>\n",
       "      <td>0.520470</td>\n",
       "    </tr>\n",
       "    <tr>\n",
       "      <th>3</th>\n",
       "      <td>It's a average working</td>\n",
       "      <td>1</td>\n",
       "      <td>1.903485</td>\n",
       "      <td>0.903485</td>\n",
       "    </tr>\n",
       "    <tr>\n",
       "      <th>4</th>\n",
       "      <td>annoying notification that made my phone to cr...</td>\n",
       "      <td>1</td>\n",
       "      <td>1.415272</td>\n",
       "      <td>0.415272</td>\n",
       "    </tr>\n",
       "    <tr>\n",
       "      <th>...</th>\n",
       "      <td>...</td>\n",
       "      <td>...</td>\n",
       "      <td>...</td>\n",
       "      <td>...</td>\n",
       "    </tr>\n",
       "    <tr>\n",
       "      <th>57608</th>\n",
       "      <td>Deep web If u are trying to go on the deep Web...</td>\n",
       "      <td>5</td>\n",
       "      <td>2.288877</td>\n",
       "      <td>2.711123</td>\n",
       "    </tr>\n",
       "    <tr>\n",
       "      <th>57609</th>\n",
       "      <td>nice It is a key app to your device though It ...</td>\n",
       "      <td>4</td>\n",
       "      <td>3.649062</td>\n",
       "      <td>0.350938</td>\n",
       "    </tr>\n",
       "    <tr>\n",
       "      <th>57610</th>\n",
       "      <td>To many fuking glitchs</td>\n",
       "      <td>2</td>\n",
       "      <td>1.464551</td>\n",
       "      <td>0.535449</td>\n",
       "    </tr>\n",
       "    <tr>\n",
       "      <th>57611</th>\n",
       "      <td>Theives If you turn on quick torch settings th...</td>\n",
       "      <td>1</td>\n",
       "      <td>3.932993</td>\n",
       "      <td>2.932993</td>\n",
       "    </tr>\n",
       "    <tr>\n",
       "      <th>57612</th>\n",
       "      <td>Super All install and enjoy</td>\n",
       "      <td>5</td>\n",
       "      <td>4.716450</td>\n",
       "      <td>0.283550</td>\n",
       "    </tr>\n",
       "  </tbody>\n",
       "</table>\n",
       "<p>57613 rows × 4 columns</p>\n",
       "</div>"
      ],
      "text/plain": [
       "                                                  review  star  prediction  \\\n",
       "0                                              Very fast     5    4.726686   \n",
       "1                  Good app It still has pops and pauses     4    3.988710   \n",
       "2            Google play services Have not tried it yet.     4    3.479530   \n",
       "3                                 It's a average working     1    1.903485   \n",
       "4      annoying notification that made my phone to cr...     1    1.415272   \n",
       "...                                                  ...   ...         ...   \n",
       "57608  Deep web If u are trying to go on the deep Web...     5    2.288877   \n",
       "57609  nice It is a key app to your device though It ...     4    3.649062   \n",
       "57610                             To many fuking glitchs     2    1.464551   \n",
       "57611  Theives If you turn on quick torch settings th...     1    3.932993   \n",
       "57612                        Super All install and enjoy     5    4.716450   \n",
       "\n",
       "       absolute_error  \n",
       "0            0.273314  \n",
       "1            0.011290  \n",
       "2            0.520470  \n",
       "3            0.903485  \n",
       "4            0.415272  \n",
       "...               ...  \n",
       "57608        2.711123  \n",
       "57609        0.350938  \n",
       "57610        0.535449  \n",
       "57611        2.932993  \n",
       "57612        0.283550  \n",
       "\n",
       "[57613 rows x 4 columns]"
      ]
     },
     "execution_count": 155,
     "metadata": {},
     "output_type": "execute_result"
    }
   ],
   "source": [
    "rnn_eval_df = pd.merge(X_test, y_test, left_index=True, right_index=True)\n",
    "rnn_eval_df['prediction'] = rnn_model.predict(rnn_eval_df.review).ravel()\n",
    "rnn_eval_df['absolute_error'] = (rnn_eval_df['prediction'] - rnn_eval_df['star']).abs()\n",
    "rnn_eval_df"
   ]
  },
  {
   "cell_type": "code",
   "execution_count": null,
   "id": "59af5b8f-ca8e-45fb-8c3c-561b2e54468d",
   "metadata": {},
   "outputs": [],
   "source": []
  },
  {
   "cell_type": "code",
   "execution_count": null,
   "id": "a94c96b3-d020-46b9-91da-66a99f49ff02",
   "metadata": {},
   "outputs": [],
   "source": []
  },
  {
   "cell_type": "code",
   "execution_count": 156,
   "id": "899c0c0b-9c99-47dd-9b6f-e6f9190a97f3",
   "metadata": {},
   "outputs": [
    {
     "name": "stdout",
     "output_type": "stream",
     "text": [
      "Epoch 1/100\n",
      "5402/5402 [==============================] - 139s 25ms/step - loss: 1.6557 - mse: 1.6557 - mae: 0.9810 - val_loss: 1.2574 - val_mse: 1.2574 - val_mae: 0.8061\n",
      "Epoch 2/100\n",
      "5402/5402 [==============================] - 136s 25ms/step - loss: 1.1981 - mse: 1.1981 - mae: 0.7979 - val_loss: 1.2115 - val_mse: 1.2115 - val_mae: 0.7810\n",
      "Epoch 3/100\n",
      "5402/5402 [==============================] - 137s 25ms/step - loss: 1.1466 - mse: 1.1466 - mae: 0.7712 - val_loss: 1.1946 - val_mse: 1.1946 - val_mae: 0.7504\n",
      "Epoch 4/100\n",
      "5402/5402 [==============================] - 138s 25ms/step - loss: 1.1156 - mse: 1.1156 - mae: 0.7533 - val_loss: 1.2015 - val_mse: 1.2015 - val_mae: 0.7658\n",
      "Epoch 5/100\n",
      "5402/5402 [==============================] - 137s 25ms/step - loss: 1.0923 - mse: 1.0923 - mae: 0.7401 - val_loss: 1.1807 - val_mse: 1.1807 - val_mae: 0.7860\n",
      "Epoch 6/100\n",
      "5402/5402 [==============================] - 135s 25ms/step - loss: 1.0738 - mse: 1.0738 - mae: 0.7304 - val_loss: 1.1935 - val_mse: 1.1935 - val_mae: 0.7523\n",
      "Epoch 7/100\n",
      "5402/5402 [==============================] - 140s 26ms/step - loss: 1.0561 - mse: 1.0561 - mae: 0.7214 - val_loss: 1.1881 - val_mse: 1.1881 - val_mae: 0.7645\n",
      "Epoch 8/100\n",
      "5402/5402 [==============================] - 141s 26ms/step - loss: 1.0395 - mse: 1.0395 - mae: 0.7128 - val_loss: 1.1903 - val_mse: 1.1903 - val_mae: 0.7732\n"
     ]
    }
   ],
   "source": [
    "gru_emb_layer = emb_layer = hub.KerasLayer(handle = handle, output_shape=[20],\n",
    "               input_shape=(),dtype=tf.string,trainable=True)\n",
    "gru_model = tf.keras.Sequential([\n",
    "    gru_emb_layer,\n",
    "    layers.Reshape(target_shape= (20,1)),\n",
    "    # layers.Dense(20,activation='relu'),\n",
    "    # layers.SimpleRNN(20,return_sequences=True,input_shape=(None, 20), activation='relu'),\n",
    "    layers.GRU(15,input_shape=(None, 20), activation='tanh',return_sequences=True),\n",
    "    layers.GRU(10,input_shape=(None, 15), activation='tanh',return_sequences=False),\n",
    "    layers.Dense(5,activation='tanh'),\n",
    "    layers.Dense(1,activation='relu')\n",
    "])\n",
    "gru_model.compile(loss='mse',\n",
    "              optimizer=tf.keras.optimizers.Adam(learning_rate=0.001),\n",
    "              metrics=['mse','mae'])\n",
    "\n",
    "num_epochs=100\n",
    "gru_history=gru_model.fit(X_train, \n",
    "                          y_train, \n",
    "                          epochs=num_epochs, \n",
    "                          validation_data = (X_val, y_val), \n",
    "                          callbacks=[callback],\n",
    "                          verbose=1)"
   ]
  },
  {
   "cell_type": "code",
   "execution_count": 157,
   "id": "48bf0323-6539-4ee8-9fab-3b1f6fb6ef89",
   "metadata": {},
   "outputs": [
    {
     "data": {
      "text/plain": [
       "array([[4.6496973],\n",
       "       [4.208935 ],\n",
       "       [2.2171977],\n",
       "       ...,\n",
       "       [1.8885076],\n",
       "       [4.565089 ],\n",
       "       [4.7328033]], dtype=float32)"
      ]
     },
     "execution_count": 157,
     "metadata": {},
     "output_type": "execute_result"
    }
   ],
   "source": [
    "y_pred = gru_model.predict(X_test)\n",
    "y_pred"
   ]
  },
  {
   "cell_type": "code",
   "execution_count": 158,
   "id": "6b99f2f0-272d-48d1-9de9-8593e068db57",
   "metadata": {},
   "outputs": [
    {
     "data": {
      "text/html": [
       "<div>\n",
       "<style scoped>\n",
       "    .dataframe tbody tr th:only-of-type {\n",
       "        vertical-align: middle;\n",
       "    }\n",
       "\n",
       "    .dataframe tbody tr th {\n",
       "        vertical-align: top;\n",
       "    }\n",
       "\n",
       "    .dataframe thead th {\n",
       "        text-align: right;\n",
       "    }\n",
       "</style>\n",
       "<table border=\"1\" class=\"dataframe\">\n",
       "  <thead>\n",
       "    <tr style=\"text-align: right;\">\n",
       "      <th></th>\n",
       "      <th>review</th>\n",
       "      <th>star</th>\n",
       "      <th>prediction</th>\n",
       "      <th>absolute_error</th>\n",
       "    </tr>\n",
       "  </thead>\n",
       "  <tbody>\n",
       "    <tr>\n",
       "      <th>0</th>\n",
       "      <td>Very fast</td>\n",
       "      <td>5</td>\n",
       "      <td>4.649697</td>\n",
       "      <td>0.350303</td>\n",
       "    </tr>\n",
       "    <tr>\n",
       "      <th>1</th>\n",
       "      <td>Good app It still has pops and pauses</td>\n",
       "      <td>4</td>\n",
       "      <td>4.208935</td>\n",
       "      <td>0.208935</td>\n",
       "    </tr>\n",
       "    <tr>\n",
       "      <th>2</th>\n",
       "      <td>Google play services Have not tried it yet.</td>\n",
       "      <td>4</td>\n",
       "      <td>2.217198</td>\n",
       "      <td>1.782802</td>\n",
       "    </tr>\n",
       "    <tr>\n",
       "      <th>3</th>\n",
       "      <td>It's a average working</td>\n",
       "      <td>1</td>\n",
       "      <td>2.975333</td>\n",
       "      <td>1.975333</td>\n",
       "    </tr>\n",
       "    <tr>\n",
       "      <th>4</th>\n",
       "      <td>annoying notification that made my phone to cr...</td>\n",
       "      <td>1</td>\n",
       "      <td>2.037428</td>\n",
       "      <td>1.037428</td>\n",
       "    </tr>\n",
       "    <tr>\n",
       "      <th>...</th>\n",
       "      <td>...</td>\n",
       "      <td>...</td>\n",
       "      <td>...</td>\n",
       "      <td>...</td>\n",
       "    </tr>\n",
       "    <tr>\n",
       "      <th>57608</th>\n",
       "      <td>Deep web If u are trying to go on the deep Web...</td>\n",
       "      <td>5</td>\n",
       "      <td>3.205246</td>\n",
       "      <td>1.794754</td>\n",
       "    </tr>\n",
       "    <tr>\n",
       "      <th>57609</th>\n",
       "      <td>nice It is a key app to your device though It ...</td>\n",
       "      <td>4</td>\n",
       "      <td>3.495338</td>\n",
       "      <td>0.504662</td>\n",
       "    </tr>\n",
       "    <tr>\n",
       "      <th>57610</th>\n",
       "      <td>To many fuking glitchs</td>\n",
       "      <td>2</td>\n",
       "      <td>1.888508</td>\n",
       "      <td>0.111492</td>\n",
       "    </tr>\n",
       "    <tr>\n",
       "      <th>57611</th>\n",
       "      <td>Theives If you turn on quick torch settings th...</td>\n",
       "      <td>1</td>\n",
       "      <td>4.565089</td>\n",
       "      <td>3.565089</td>\n",
       "    </tr>\n",
       "    <tr>\n",
       "      <th>57612</th>\n",
       "      <td>Super All install and enjoy</td>\n",
       "      <td>5</td>\n",
       "      <td>4.732803</td>\n",
       "      <td>0.267197</td>\n",
       "    </tr>\n",
       "  </tbody>\n",
       "</table>\n",
       "<p>57613 rows × 4 columns</p>\n",
       "</div>"
      ],
      "text/plain": [
       "                                                  review  star  prediction  \\\n",
       "0                                              Very fast     5    4.649697   \n",
       "1                  Good app It still has pops and pauses     4    4.208935   \n",
       "2            Google play services Have not tried it yet.     4    2.217198   \n",
       "3                                 It's a average working     1    2.975333   \n",
       "4      annoying notification that made my phone to cr...     1    2.037428   \n",
       "...                                                  ...   ...         ...   \n",
       "57608  Deep web If u are trying to go on the deep Web...     5    3.205246   \n",
       "57609  nice It is a key app to your device though It ...     4    3.495338   \n",
       "57610                             To many fuking glitchs     2    1.888508   \n",
       "57611  Theives If you turn on quick torch settings th...     1    4.565089   \n",
       "57612                        Super All install and enjoy     5    4.732803   \n",
       "\n",
       "       absolute_error  \n",
       "0            0.350303  \n",
       "1            0.208935  \n",
       "2            1.782802  \n",
       "3            1.975333  \n",
       "4            1.037428  \n",
       "...               ...  \n",
       "57608        1.794754  \n",
       "57609        0.504662  \n",
       "57610        0.111492  \n",
       "57611        3.565089  \n",
       "57612        0.267197  \n",
       "\n",
       "[57613 rows x 4 columns]"
      ]
     },
     "execution_count": 158,
     "metadata": {},
     "output_type": "execute_result"
    }
   ],
   "source": [
    "gru_eval_df = pd.merge(X_test, y_test, left_index=True, right_index=True)\n",
    "gru_eval_df['prediction'] = gru_model.predict(gru_eval_df.review).ravel()\n",
    "gru_eval_df['absolute_error'] = (gru_eval_df['prediction'] - gru_eval_df['star']).abs()\n",
    "gru_eval_df"
   ]
  },
  {
   "cell_type": "code",
   "execution_count": 160,
   "id": "634d4536-da28-4843-8f24-d7667a5ea0b7",
   "metadata": {},
   "outputs": [
    {
     "data": {
      "text/plain": [
       "array([4.9485197], dtype=float32)"
      ]
     },
     "execution_count": 160,
     "metadata": {},
     "output_type": "execute_result"
    }
   ],
   "source": [
    "max(y_pred)"
   ]
  },
  {
   "cell_type": "code",
   "execution_count": 161,
   "id": "602031d5-2f09-4bbb-a72a-f5a7d5caa908",
   "metadata": {},
   "outputs": [
    {
     "data": {
      "image/png": "[encoded data removed]",
      "text/plain": [
       "<Figure size 432x288 with 1 Axes>"
      ]
     },
     "metadata": {
      "needs_background": "light"
     },
     "output_type": "display_data"
    }
   ],
   "source": [
    "plt.plot(gru_history.history['loss'], label='training')\n",
    "plt.plot(gru_history.history['val_loss'], label='val')\n",
    "plt.xlabel('epoch')\n",
    "plt.ylabel('loss')\n",
    "plt.legend(loc='upper left')\n",
    "plt.show()"
   ]
  }
 ],
 "metadata": {
  "kernelspec": {
   "display_name": "Python 3 (ipykernel)",
   "language": "python",
   "name": "python3"
  },
  "language_info": {
   "codemirror_mode": {
    "name": "ipython",
    "version": 3
   },
   "file_extension": ".py",
   "mimetype": "text/x-python",
   "name": "python",
   "nbconvert_exporter": "python",
   "pygments_lexer": "ipython3",
   "version": "3.9.10"
  }
 },
 "nbformat": 4,
 "nbformat_minor": 5
}
